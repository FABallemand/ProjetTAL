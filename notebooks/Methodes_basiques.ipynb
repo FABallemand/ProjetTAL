{
 "cells": [
  {
   "cell_type": "code",
   "execution_count": 1,
   "metadata": {},
   "outputs": [
    {
     "name": "stderr",
     "output_type": "stream",
     "text": [
      "2023-05-04 15:48:02.184657: I tensorflow/core/platform/cpu_feature_guard.cc:193] This TensorFlow binary is optimized with oneAPI Deep Neural Network Library (oneDNN) to use the following CPU instructions in performance-critical operations:  AVX2 AVX512F AVX512_VNNI FMA\n",
      "To enable them in other operations, rebuild TensorFlow with the appropriate compiler flags.\n",
      "2023-05-04 15:48:02.303521: I tensorflow/core/util/port.cc:104] oneDNN custom operations are on. You may see slightly different numerical results due to floating-point round-off errors from different computation orders. To turn them off, set the environment variable `TF_ENABLE_ONEDNN_OPTS=0`.\n",
      "2023-05-04 15:48:02.805447: W tensorflow/compiler/xla/stream_executor/platform/default/dso_loader.cc:64] Could not load dynamic library 'libnvinfer.so.7'; dlerror: libnvinfer.so.7: cannot open shared object file: No such file or directory\n",
      "2023-05-04 15:48:02.805503: W tensorflow/compiler/xla/stream_executor/platform/default/dso_loader.cc:64] Could not load dynamic library 'libnvinfer_plugin.so.7'; dlerror: libnvinfer_plugin.so.7: cannot open shared object file: No such file or directory\n",
      "2023-05-04 15:48:02.805508: W tensorflow/compiler/tf2tensorrt/utils/py_utils.cc:38] TF-TRT Warning: Cannot dlopen some TensorRT libraries. If you would like to use Nvidia GPU with TensorRT, please make sure the missing libraries mentioned above are installed properly.\n",
      "2023-05-04 15:48:03.376218: W tensorflow/compiler/xla/stream_executor/platform/default/dso_loader.cc:64] Could not load dynamic library 'libcuda.so.1'; dlerror: libcuda.so.1: cannot open shared object file: No such file or directory\n",
      "2023-05-04 15:48:03.376235: W tensorflow/compiler/xla/stream_executor/cuda/cuda_driver.cc:265] failed call to cuInit: UNKNOWN ERROR (303)\n",
      "2023-05-04 15:48:03.376249: I tensorflow/compiler/xla/stream_executor/cuda/cuda_diagnostics.cc:156] kernel driver does not appear to be running on this host (fabien): /proc/driver/nvidia/version does not exist\n"
     ]
    }
   ],
   "source": [
    "import pandas as pd\n",
    "import numpy as np\n",
    "\n",
    "import matplotlib.pyplot as plt\n",
    "from imblearn.over_sampling import RandomOverSampler\n",
    "from imblearn.under_sampling import RandomUnderSampler\n",
    "\n",
    "import spacy"
   ]
  },
  {
   "cell_type": "code",
   "execution_count": 2,
   "metadata": {},
   "outputs": [
    {
     "data": {
      "text/plain": [
       "<spacy.lang.fr.French at 0x7f860b4554f0>"
      ]
     },
     "execution_count": 2,
     "metadata": {},
     "output_type": "execute_result"
    }
   ],
   "source": [
    "# !python3 -m spacy download fr_core_news_sm\n",
    "spacy.load(\"fr_core_news_sm\")"
   ]
  },
  {
   "cell_type": "code",
   "execution_count": 3,
   "metadata": {},
   "outputs": [
    {
     "name": "stdout",
     "output_type": "stream",
     "text": [
      "{'te', 'ses', 'j', 'son', 'ait', 'n', 'on', 'étée', 'seraient', 'avons', 'auraient', 'suis', 'fut', 'es', 'ton', 'sommes', 'ma', 'ce', 'avez', 'fûtes', 'pour', 'aurez', 'auras', 'ayantes', 'étées', 'dans', 'fûmes', 'd', 'le', 'ta', 'étaient', 'avions', 'elle', 'une', 'eussent', 'eût', 'ne', 'furent', 'ayants', 'sur', 'nos', 'eus', 'en', 'sois', 'était', 'soyons', 'soit', 'm', 'ayez', 'seront', 'étante', 'y', 'eu', 'étiez', 'eux', 'étions', 'eusses', 'lui', 'êtes', 'tu', 'vous', 'été', 'il', 'eurent', 'que', 'notre', 'avaient', 's', 'soyez', 'seras', 'serais', 'aurons', 'même', 'étants', 'eue', 'au', 'la', 'me', 'sera', 'de', 'sa', 'ou', 'eut', 'serons', 'serions', 'eussions', 'c', 'ayons', 'aurai', 'votre', 'aies', 'fus', 'avais', 'fût', 'aie', 'serez', 'aura', 'du', 'qui', 'ont', 'sont', 'étais', 'je', 'eussiez', 'des', 'est', 'et', 'un', 'étés', 'aurais', 'eûmes', 'auront', 'seriez', 'fussions', 'nous', 'eusse', 'se', 'ces', 'fussiez', 'toi', 'tes', 'as', 'eûtes', 'soient', 'eues', 'étant', 'aviez', 'l', 'les', 'aient', 'ai', 'auriez', 'aurait', 'serait', 'ayante', 'étantes', 't', 'qu', 'mon', 'pas', 'fusse', 'fussent', 'serai', 'mes', 'avec', 'ils', 'vos', 'moi', 'mais', 'à', 'avait', 'par', 'fusses', 'leur', 'ayant', 'aurions', 'aux'}\n"
     ]
    },
    {
     "name": "stderr",
     "output_type": "stream",
     "text": [
      "[nltk_data] Downloading package stopwords to /home/fabien/nltk_data...\n",
      "[nltk_data]   Package stopwords is already up-to-date!\n"
     ]
    }
   ],
   "source": [
    "nlp = spacy.load(\"fr_core_news_sm\")\n",
    "from nltk.corpus import stopwords\n",
    "from nltk import download\n",
    "download(\"stopwords\")\n",
    "stopWords = set(stopwords.words(\"french\"))\n",
    "print(stopWords)"
   ]
  },
  {
   "attachments": {},
   "cell_type": "markdown",
   "metadata": {},
   "source": [
    "# Premières Méthodes"
   ]
  },
  {
   "attachments": {},
   "cell_type": "markdown",
   "metadata": {},
   "source": [
    "## Chargement des Données"
   ]
  },
  {
   "cell_type": "code",
   "execution_count": 4,
   "metadata": {},
   "outputs": [],
   "source": [
    "# Données d'entrainement\n",
    "train_data_complete = pd.read_csv(\"../data/allocine_genres_train.csv\", sep=\",\")\n",
    "train_data = train_data_complete[[\"titre\", \"synopsis\", \"genre\"]]"
   ]
  },
  {
   "attachments": {},
   "cell_type": "markdown",
   "metadata": {},
   "source": [
    "## Pré-traitement des Données (Equilibrage des classes)"
   ]
  },
  {
   "cell_type": "code",
   "execution_count": 5,
   "metadata": {},
   "outputs": [],
   "source": [
    "import string\n",
    "\n",
    "def preprocess(sentence) :\n",
    "    list_w = nlp(sentence)\n",
    "    list_w_clean = []\n",
    "    res = []\n",
    "    for token in list_w:\n",
    "        if (token.text.lower() not in stopWords) and (token.text not in string.punctuation):\n",
    "            list_w_clean.append(token)\n",
    "    for token in list_w_clean:\n",
    "        res.append(token.lemma_.lower())\n",
    "    return \" \".join(res)"
   ]
  },
  {
   "cell_type": "code",
   "execution_count": 6,
   "metadata": {},
   "outputs": [],
   "source": [
    "X = train_data.drop('genre', axis=1)\n",
    "y = train_data['genre']\n",
    "\n",
    "# Initialize the RandomOverSampler\n",
    "ros = RandomOverSampler()\n",
    "#ros = RandomUnderSampler()\n",
    "\n",
    "X[\"titre\"] = X[\"titre\"].apply(preprocess)\n",
    "X[\"synopsis\"] = X[\"synopsis\"].apply(preprocess)\n",
    "\n",
    "# Perform oversampling\n",
    "X_resampled, y_resampled = ros.fit_resample(X, y)\n",
    "\n",
    "# Convert the resampled data back to a DataFrame\n",
    "train_data = pd.concat([pd.DataFrame(X_resampled, columns=X.columns), pd.Series(y_resampled, name='genre')], axis=1)"
   ]
  },
  {
   "attachments": {},
   "cell_type": "markdown",
   "metadata": {},
   "source": [
    "## Pré-Traitement des Données (Pipeline statistique)\n",
    "\n",
    "Comme vu précédemment, les paramètres que nous souhaitons utiliser (*titre*, *synopsis*, *genre*) ne comportent **pas de valeurs manquantes** donc nous n'avons pas besoin d'éliminer d'individus des données d'entrainement.\n",
    "\n",
    "Nous remarquons aussi que **les données sont déjà tokénisées**. Tous les tokens sont séparés par des espaces.\n",
    "\n",
    "Cependant, nous pouvons utiliser un transformer pour obtenir des informations statistiques concernant le *synopsis*.\n",
    "\n",
    "**Remarque:** On normalise ces informations statistiques afin qu'elles aient toutes le même poids lors de la classification."
   ]
  },
  {
   "cell_type": "code",
   "execution_count": 7,
   "metadata": {},
   "outputs": [],
   "source": [
    "import string\n",
    "from spacy.lang.fr.stop_words import STOP_WORDS as fr_stop\n",
    "from spacy.lang.fr.stop_words import STOP_WORDS as en_stop\n",
    "\n",
    "from sklearn.feature_extraction.text import TfidfVectorizer\n",
    "\n",
    "def transform_into_token_list(synopsis):\n",
    "    return synopsis.split(\" \")\n",
    "\n",
    "# Vectorisation des titres\n",
    "title_stopwords = list(fr_stop) + list(en_stop) + list(string.punctuation)\n",
    "titre_vectorizer = TfidfVectorizer(tokenizer=transform_into_token_list, \n",
    "                                   lowercase=True, \n",
    "                                   stop_words=title_stopwords, \n",
    "                                   min_df=0.01)\n",
    "\n",
    "# Vectorisation des synopsis\n",
    "synopsis_stopwords = list(fr_stop) + list(string.punctuation)\n",
    "synopsis_vectorizer = TfidfVectorizer(tokenizer=transform_into_token_list, \n",
    "                                      lowercase=True, \n",
    "                                      stop_words=synopsis_stopwords, \n",
    "                                      min_df=0.01)"
   ]
  },
  {
   "cell_type": "code",
   "execution_count": 8,
   "metadata": {},
   "outputs": [
    {
     "data": {
      "text/plain": [
       "['ceci',\n",
       " 'ait',\n",
       " 'quinze',\n",
       " 'pourquoi',\n",
       " 'doivent',\n",
       " 'lorsque',\n",
       " 'avons',\n",
       " 'seraient',\n",
       " 'différentes',\n",
       " 'seules',\n",
       " 'compris',\n",
       " 'jusque',\n",
       " 'debout',\n",
       " 'néanmoins',\n",
       " 'attendu']"
      ]
     },
     "execution_count": 8,
     "metadata": {},
     "output_type": "execute_result"
    }
   ],
   "source": [
    "synopsis_stopwords[:15]"
   ]
  },
  {
   "attachments": {},
   "cell_type": "markdown",
   "metadata": {},
   "source": [
    "En tant qu'humain, certains stop words nous semblent importants..."
   ]
  },
  {
   "cell_type": "code",
   "execution_count": 9,
   "metadata": {},
   "outputs": [
    {
     "name": "stdout",
     "output_type": "stream",
     "text": [
      "Input descriptions\n",
      "0    visite istanbul célèbre détectiv belge hercule...\n",
      "1    jeune homme origine modeste accuser meurtre pè...\n",
      "2    lorsque marie-laure mère quatre jeune enfant a...\n",
      "3    vagabond ’ éprendre ’ belle jeune vendeur fleu...\n",
      "4    histoire vrai carl brashear premier afro améri...\n",
      "Name: synopsis, dtype: object\n",
      "Output statistics\n",
      "   length  num_sentences\n",
      "0   522.0            1.0\n",
      "1   334.0            0.0\n",
      "2   358.0            0.0\n",
      "3   163.0            3.0\n",
      "4   250.0            0.0\n",
      "Before MinMax scaling\n",
      "[[522.   1.]\n",
      " [334.   0.]\n",
      " [358.   0.]\n",
      " [163.   3.]\n",
      " [250.   0.]]\n",
      "After MinMax scaling\n",
      "[[1.         0.33333333]\n",
      " [0.47632312 0.        ]\n",
      " [0.54317549 0.        ]\n",
      " [0.         1.        ]\n",
      " [0.24233983 0.        ]]\n"
     ]
    },
    {
     "name": "stderr",
     "output_type": "stream",
     "text": [
      "/home/fabien/anaconda3/lib/python3.9/site-packages/sklearn/utils/deprecation.py:87: FutureWarning: Function get_feature_names is deprecated; get_feature_names is deprecated in 1.0 and will be removed in 1.2. Please use get_feature_names_out instead.\n",
      "  warnings.warn(msg, category=FutureWarning)\n"
     ]
    }
   ],
   "source": [
    "from sklearn.feature_extraction import DictVectorizer\n",
    "from sklearn.preprocessing import FunctionTransformer, MinMaxScaler\n",
    "\n",
    "# Source: https://scikit-learn.org/stable/auto_examples/compose/plot_column_transformer.html\n",
    "def text_stats(descriptions):\n",
    "    return [{\"length\": len(text), \"num_sentences\": text.count(\".\")} for text in descriptions]\n",
    "\n",
    "text_stats_transformer = FunctionTransformer(text_stats)\n",
    "text_stats_vectorizer = DictVectorizer(sparse=False)\n",
    "\n",
    "# Exemple d'utilisation sur les premiers synopsis\n",
    "res_dict = text_stats_transformer.transform(train_data.synopsis.head())\n",
    "res_stats = text_stats_vectorizer.fit_transform(res_dict)\n",
    "print(\"Input descriptions\")\n",
    "print(train_data.synopsis.head())\n",
    "print(\"Output statistics\")\n",
    "stats = pd.DataFrame(res_stats, columns=text_stats_vectorizer.get_feature_names())\n",
    "print(stats)\n",
    "\n",
    "min_max_scaler = MinMaxScaler()\n",
    "scaled_stats = min_max_scaler.fit_transform(res_stats)\n",
    "\n",
    "print(\"Before MinMax scaling\")\n",
    "print(res_stats)\n",
    "print(\"After MinMax scaling\")\n",
    "print(scaled_stats)"
   ]
  },
  {
   "attachments": {},
   "cell_type": "markdown",
   "metadata": {},
   "source": [
    "L'utilisation de *MinMaxScaler* permet de ne pas donner plus de poids à l'une des valeurs obtenues, ce qui pourrait affecter la classification.\n",
    "\n",
    "On peut créer une *Pipeline* qui effectue l'ensemble des transformation sur le jeu de données."
   ]
  },
  {
   "cell_type": "code",
   "execution_count": 10,
   "metadata": {},
   "outputs": [],
   "source": [
    "from sklearn.compose import ColumnTransformer\n",
    "from sklearn.pipeline import Pipeline\n",
    "\n",
    "column_trans = ColumnTransformer(\n",
    "    [\n",
    "        # Titre: tf-idf\n",
    "        (\"titre_tfidf\", titre_vectorizer, \"titre\"),\n",
    "        # Synopsis: tf-idf\n",
    "        (\"synopsis_tfidf\", synopsis_vectorizer, \"synopsis\"),\n",
    "        # Synopsis: statistiques\n",
    "        (\n",
    "            \"synopsis_stats\",\n",
    "            Pipeline(\n",
    "                [\n",
    "                    (\"text_stats\", text_stats_transformer),\n",
    "                    (\"vect\", text_stats_vectorizer),\n",
    "                    (\"scaling\", min_max_scaler)\n",
    "                ]\n",
    "            ), \n",
    "            \"synopsis\"\n",
    "        )\n",
    "    ],\n",
    "    # Others\n",
    "    remainder=\"passthrough\"\n",
    ")"
   ]
  },
  {
   "cell_type": "code",
   "execution_count": 11,
   "metadata": {},
   "outputs": [
    {
     "data": {
      "text/plain": [
       "ColumnTransformer(remainder='passthrough',\n",
       "                  transformers=[('titre_tfidf',\n",
       "                                 TfidfVectorizer(min_df=0.01,\n",
       "                                                 stop_words=['ceci', 'ait',\n",
       "                                                             'quinze',\n",
       "                                                             'pourquoi',\n",
       "                                                             'doivent',\n",
       "                                                             'lorsque', 'avons',\n",
       "                                                             'seraient',\n",
       "                                                             'différentes',\n",
       "                                                             'seules',\n",
       "                                                             'compris',\n",
       "                                                             'jusque', 'debout',\n",
       "                                                             'néanmoins',\n",
       "                                                             'attendu', 'etant',\n",
       "                                                             'permet',\n",
       "                                                             'antérieure',\n",
       "                                                             'celui-là',\n",
       "                                                             'selon', 'ta',\n",
       "                                                             'étaient',\n",
       "                                                             'spécifique',\n",
       "                                                             'quelque',\n",
       "                                                             'relati...\n",
       "                                                             'spécifique',\n",
       "                                                             'quelque',\n",
       "                                                             'relativement',\n",
       "                                                             'septième',\n",
       "                                                             'restent', 'nos',\n",
       "                                                             'autres', 'nôtres', ...],\n",
       "                                                 tokenizer=<function transform_into_token_list at 0x7f851a7ef790>),\n",
       "                                 'synopsis'),\n",
       "                                ('synopsis_stats',\n",
       "                                 Pipeline(steps=[('text_stats',\n",
       "                                                  FunctionTransformer(func=<function text_stats at 0x7f851a7ef1f0>)),\n",
       "                                                 ('vect',\n",
       "                                                  DictVectorizer(sparse=False)),\n",
       "                                                 ('scaling', MinMaxScaler())]),\n",
       "                                 'synopsis')])"
      ]
     },
     "execution_count": 11,
     "metadata": {},
     "output_type": "execute_result"
    }
   ],
   "source": [
    "column_trans"
   ]
  },
  {
   "attachments": {},
   "cell_type": "markdown",
   "metadata": {},
   "source": [
    "## Création des Jeux d'Entrainement et de Test\n",
    "\n",
    "Afin de ne pas biaiser le résultat de nos recherches nous n'utiliserons le fichier *allocine_genres_test.csv* uniquement lorsque nous aurons définitivement choisit le classifier. Nous n'utiliserons donc pas *test_data_complete* et *test_data* dans cette section.\n",
    "\n",
    "Afin de tester et évaluer différents algorithmes nous devons donc créer des jeux de données d'entrainement et de test issus des données d'entrainement (*train_data*). Pour cela nous utilisons la fonction *train_test_split* de la librairie **scikit-learn** en choisissant 20% des données pour créer le jeu de test en prenant soin de mélanger les données (cela perment d'éviter tout biais d'apprentissage: entrainer le classifier unioquement sur les films du XXème siècle).\n",
    "\n",
    "Nous obtenons donc 4 jeux de données:\n",
    "- X_train: Titre et synopsis pour entrainement  \n",
    "- y_train: Genre pour entrainement (label)  \n",
    "- X_test: Titre et synopsis pour test  \n",
    "- y_test: Genre pour test (label)  "
   ]
  },
  {
   "cell_type": "code",
   "execution_count": 12,
   "metadata": {},
   "outputs": [],
   "source": [
    "from sklearn.model_selection import train_test_split\n",
    "\n",
    "X_train, X_test, y_train, y_test = train_test_split(train_data[[\"titre\", \"synopsis\"]],\n",
    "                                                    train_data[[\"genre\"]],\n",
    "                                                    test_size=0.2,\n",
    "                                                    random_state=12, # Random seed for shuffle\n",
    "                                                    shuffle=True)"
   ]
  },
  {
   "attachments": {},
   "cell_type": "markdown",
   "metadata": {},
   "source": [
    "## Apprentissage"
   ]
  },
  {
   "cell_type": "code",
   "execution_count": 13,
   "metadata": {},
   "outputs": [],
   "source": [
    "from sklearn.pipeline import make_pipeline\n",
    "from sklearn.linear_model import LogisticRegression\n",
    "\n",
    "# Pipeline pré-traitement et apprentissage\n",
    "classifier_pipeline = make_pipeline(\n",
    "    # Préparation des données pour l'apprentissage\n",
    "    column_trans,\n",
    "    # Algorithme d'apprentissage\n",
    "    LogisticRegression()\n",
    ")"
   ]
  },
  {
   "cell_type": "code",
   "execution_count": 14,
   "metadata": {},
   "outputs": [
    {
     "name": "stderr",
     "output_type": "stream",
     "text": [
      "/home/fabien/anaconda3/lib/python3.9/site-packages/sklearn/utils/validation.py:993: DataConversionWarning: A column-vector y was passed when a 1d array was expected. Please change the shape of y to (n_samples, ), for example using ravel().\n",
      "  y = column_or_1d(y, warn=True)\n"
     ]
    },
    {
     "data": {
      "text/plain": [
       "Pipeline(steps=[('columntransformer',\n",
       "                 ColumnTransformer(remainder='passthrough',\n",
       "                                   transformers=[('titre_tfidf',\n",
       "                                                  TfidfVectorizer(min_df=0.01,\n",
       "                                                                  stop_words=['ceci',\n",
       "                                                                              'ait',\n",
       "                                                                              'quinze',\n",
       "                                                                              'pourquoi',\n",
       "                                                                              'doivent',\n",
       "                                                                              'lorsque',\n",
       "                                                                              'avons',\n",
       "                                                                              'seraient',\n",
       "                                                                              'différentes',\n",
       "                                                                              'seules',\n",
       "                                                                              'compris',\n",
       "                                                                              'jusque',\n",
       "                                                                              'debout',\n",
       "                                                                              'néanmoins',\n",
       "                                                                              'attendu',\n",
       "                                                                              'etant',\n",
       "                                                                              'permet',\n",
       "                                                                              'antérieure',\n",
       "                                                                              'celui-là',\n",
       "                                                                              'selon',\n",
       "                                                                              'ta',\n",
       "                                                                              'ét...\n",
       "                                                                              'restent',\n",
       "                                                                              'nos',\n",
       "                                                                              'autres',\n",
       "                                                                              'nôtres', ...],\n",
       "                                                                  tokenizer=<function transform_into_token_list at 0x7f851a7ef790>),\n",
       "                                                  'synopsis'),\n",
       "                                                 ('synopsis_stats',\n",
       "                                                  Pipeline(steps=[('text_stats',\n",
       "                                                                   FunctionTransformer(func=<function text_stats at 0x7f851a7ef1f0>)),\n",
       "                                                                  ('vect',\n",
       "                                                                   DictVectorizer(sparse=False)),\n",
       "                                                                  ('scaling',\n",
       "                                                                   MinMaxScaler())]),\n",
       "                                                  'synopsis')])),\n",
       "                ('logisticregression', LogisticRegression())])"
      ]
     },
     "execution_count": 14,
     "metadata": {},
     "output_type": "execute_result"
    }
   ],
   "source": [
    "# Apprentissage avec les données d'entraînement\n",
    "classifier_pipeline.fit(X_train, y_train.to_numpy())"
   ]
  },
  {
   "attachments": {},
   "cell_type": "markdown",
   "metadata": {},
   "source": [
    "Comme pour le pré-traitement des données, on peut créer une *pipeline* qui regroupe les actions nécessaire à l'apprentissage (pré-traitement et apprentissage)."
   ]
  },
  {
   "cell_type": "code",
   "execution_count": 15,
   "metadata": {},
   "outputs": [
    {
     "name": "stdout",
     "output_type": "stream",
     "text": [
      "Classification report:\n",
      "\n",
      "                 precision    recall  f1-score   support\n",
      "\n",
      "         biopic       0.76      0.70      0.73       118\n",
      "        comédie       0.49      0.43      0.46       106\n",
      "   documentaire       0.73      0.87      0.80        92\n",
      "          drame       0.47      0.43      0.45       110\n",
      "     historique       0.70      0.79      0.74        80\n",
      "        horreur       0.66      0.72      0.69        89\n",
      "       policier       0.66      0.71      0.68        96\n",
      "        romance       0.57      0.54      0.55       103\n",
      "science fiction       0.82      0.78      0.80       108\n",
      "\n",
      "       accuracy                           0.66       902\n",
      "      macro avg       0.65      0.66      0.66       902\n",
      "   weighted avg       0.65      0.66      0.65       902\n",
      "\n"
     ]
    }
   ],
   "source": [
    "from sklearn.metrics import classification_report\n",
    "\n",
    "y_pred = classifier_pipeline.predict(X_test)\n",
    "print(\"Classification report:\\n\\n{}\".format(classification_report(y_test, y_pred)))"
   ]
  },
  {
   "attachments": {},
   "cell_type": "markdown",
   "metadata": {},
   "source": [
    "La précision du classifier est proche de 0.5, ce qui est plutôt faible."
   ]
  },
  {
   "cell_type": "code",
   "execution_count": 16,
   "metadata": {},
   "outputs": [
    {
     "name": "stdout",
     "output_type": "stream",
     "text": [
      "confusion matrix\n",
      "\n",
      "(row=expected, col=predicted)\n"
     ]
    },
    {
     "data": {
      "text/html": [
       "<div>\n",
       "<style scoped>\n",
       "    .dataframe tbody tr th:only-of-type {\n",
       "        vertical-align: middle;\n",
       "    }\n",
       "\n",
       "    .dataframe tbody tr th {\n",
       "        vertical-align: top;\n",
       "    }\n",
       "\n",
       "    .dataframe thead th {\n",
       "        text-align: right;\n",
       "    }\n",
       "</style>\n",
       "<table border=\"1\" class=\"dataframe\">\n",
       "  <thead>\n",
       "    <tr style=\"text-align: right;\">\n",
       "      <th></th>\n",
       "      <th>biopic</th>\n",
       "      <th>comédie</th>\n",
       "      <th>documentaire</th>\n",
       "      <th>drame</th>\n",
       "      <th>historique</th>\n",
       "      <th>horreur</th>\n",
       "      <th>policier</th>\n",
       "      <th>romance</th>\n",
       "      <th>science fiction</th>\n",
       "    </tr>\n",
       "  </thead>\n",
       "  <tbody>\n",
       "    <tr>\n",
       "      <th>biopic</th>\n",
       "      <td>83</td>\n",
       "      <td>2</td>\n",
       "      <td>7</td>\n",
       "      <td>8</td>\n",
       "      <td>7</td>\n",
       "      <td>2</td>\n",
       "      <td>8</td>\n",
       "      <td>0</td>\n",
       "      <td>1</td>\n",
       "    </tr>\n",
       "    <tr>\n",
       "      <th>comédie</th>\n",
       "      <td>4</td>\n",
       "      <td>46</td>\n",
       "      <td>6</td>\n",
       "      <td>13</td>\n",
       "      <td>3</td>\n",
       "      <td>4</td>\n",
       "      <td>12</td>\n",
       "      <td>16</td>\n",
       "      <td>2</td>\n",
       "    </tr>\n",
       "    <tr>\n",
       "      <th>documentaire</th>\n",
       "      <td>4</td>\n",
       "      <td>3</td>\n",
       "      <td>80</td>\n",
       "      <td>0</td>\n",
       "      <td>0</td>\n",
       "      <td>2</td>\n",
       "      <td>0</td>\n",
       "      <td>1</td>\n",
       "      <td>2</td>\n",
       "    </tr>\n",
       "    <tr>\n",
       "      <th>drame</th>\n",
       "      <td>6</td>\n",
       "      <td>12</td>\n",
       "      <td>8</td>\n",
       "      <td>47</td>\n",
       "      <td>4</td>\n",
       "      <td>5</td>\n",
       "      <td>6</td>\n",
       "      <td>22</td>\n",
       "      <td>0</td>\n",
       "    </tr>\n",
       "    <tr>\n",
       "      <th>historique</th>\n",
       "      <td>2</td>\n",
       "      <td>1</td>\n",
       "      <td>0</td>\n",
       "      <td>6</td>\n",
       "      <td>63</td>\n",
       "      <td>2</td>\n",
       "      <td>0</td>\n",
       "      <td>3</td>\n",
       "      <td>3</td>\n",
       "    </tr>\n",
       "    <tr>\n",
       "      <th>horreur</th>\n",
       "      <td>1</td>\n",
       "      <td>5</td>\n",
       "      <td>3</td>\n",
       "      <td>3</td>\n",
       "      <td>2</td>\n",
       "      <td>64</td>\n",
       "      <td>3</td>\n",
       "      <td>0</td>\n",
       "      <td>8</td>\n",
       "    </tr>\n",
       "    <tr>\n",
       "      <th>policier</th>\n",
       "      <td>2</td>\n",
       "      <td>8</td>\n",
       "      <td>0</td>\n",
       "      <td>7</td>\n",
       "      <td>5</td>\n",
       "      <td>3</td>\n",
       "      <td>68</td>\n",
       "      <td>1</td>\n",
       "      <td>2</td>\n",
       "    </tr>\n",
       "    <tr>\n",
       "      <th>romance</th>\n",
       "      <td>6</td>\n",
       "      <td>13</td>\n",
       "      <td>5</td>\n",
       "      <td>15</td>\n",
       "      <td>3</td>\n",
       "      <td>3</td>\n",
       "      <td>2</td>\n",
       "      <td>56</td>\n",
       "      <td>0</td>\n",
       "    </tr>\n",
       "    <tr>\n",
       "      <th>science fiction</th>\n",
       "      <td>1</td>\n",
       "      <td>3</td>\n",
       "      <td>0</td>\n",
       "      <td>1</td>\n",
       "      <td>3</td>\n",
       "      <td>12</td>\n",
       "      <td>4</td>\n",
       "      <td>0</td>\n",
       "      <td>84</td>\n",
       "    </tr>\n",
       "  </tbody>\n",
       "</table>\n",
       "</div>"
      ],
      "text/plain": [
       "                 biopic  comédie  documentaire  drame  historique  horreur  \\\n",
       "biopic               83        2             7      8           7        2   \n",
       "comédie               4       46             6     13           3        4   \n",
       "documentaire          4        3            80      0           0        2   \n",
       "drame                 6       12             8     47           4        5   \n",
       "historique            2        1             0      6          63        2   \n",
       "horreur               1        5             3      3           2       64   \n",
       "policier              2        8             0      7           5        3   \n",
       "romance               6       13             5     15           3        3   \n",
       "science fiction       1        3             0      1           3       12   \n",
       "\n",
       "                 policier  romance  science fiction  \n",
       "biopic                  8        0                1  \n",
       "comédie                12       16                2  \n",
       "documentaire            0        1                2  \n",
       "drame                   6       22                0  \n",
       "historique              0        3                3  \n",
       "horreur                 3        0                8  \n",
       "policier               68        1                2  \n",
       "romance                 2       56                0  \n",
       "science fiction         4        0               84  "
      ]
     },
     "execution_count": 16,
     "metadata": {},
     "output_type": "execute_result"
    }
   ],
   "source": [
    "from sklearn.metrics import confusion_matrix\n",
    "\n",
    "# Liste des labels (classes) se trouvant dans les données de test\n",
    "labels = np.unique(y_test)\n",
    "# Matrice de confusion\n",
    "cm = confusion_matrix(y_test, y_pred, labels=labels)\n",
    "# Matrice de confusion sous forme de DataFrame\n",
    "confusion_df = pd.DataFrame(cm, index=labels, columns=labels)\n",
    "print(\"confusion matrix\\n\")\n",
    "print(\"(row=expected, col=predicted)\")\n",
    "confusion_df.head(n=15)"
   ]
  },
  {
   "cell_type": "code",
   "execution_count": 17,
   "metadata": {},
   "outputs": [
    {
     "data": {
      "image/png": "[encoded data removed]",
      "text/plain": [
       "<Figure size 432x288 with 2 Axes>"
      ]
     },
     "metadata": {
      "needs_background": "light"
     },
     "output_type": "display_data"
    }
   ],
   "source": [
    "fig = plt.figure() \n",
    "ax = fig.add_subplot(111) \n",
    "cax = ax.matshow(cm, interpolation=\"nearest\", cmap=plt.cm.Oranges) \n",
    "fig.colorbar(cax) \n",
    "tick_marks = np.arange(len(labels))\n",
    "labels_for_fig = [l[0:5]+\".\" for l in labels]\n",
    "plt.xticks(tick_marks, labels_for_fig, rotation=45)\n",
    "plt.yticks(tick_marks, labels_for_fig) \n",
    "plt.xlabel(\"Predicted\") \n",
    "plt.ylabel(\"Expected\") \n",
    "plt.show()"
   ]
  },
  {
   "attachments": {},
   "cell_type": "markdown",
   "metadata": {},
   "source": [
    "La matrice de confusion permet de mieux comprendre les résultats.\n",
    "\n",
    "On remarque que le classifieur se trompe plus sur les données qui sont peu représentées dans le jeu de données (*biopic*, *documentaire*, *histoire*)."
   ]
  },
  {
   "cell_type": "code",
   "execution_count": 18,
   "metadata": {},
   "outputs": [
    {
     "data": {
      "text/plain": [
       "biopic             83\n",
       "drame               8\n",
       "policier            8\n",
       "documentaire        7\n",
       "historique          7\n",
       "comédie             2\n",
       "horreur             2\n",
       "science fiction     1\n",
       "romance             0\n",
       "Name: biopic, dtype: int64"
      ]
     },
     "execution_count": 18,
     "metadata": {},
     "output_type": "execute_result"
    }
   ],
   "source": [
    "confusion_df.loc[\"biopic\"].sort_values(ascending=False)"
   ]
  },
  {
   "cell_type": "code",
   "execution_count": 19,
   "metadata": {},
   "outputs": [],
   "source": [
    "from sklearn import model_selection\n",
    "folds = 5\n",
    "\n",
    "stratkfold = model_selection.StratifiedKFold(n_splits=folds, shuffle=True, random_state=12)\n",
    "y_stratkfold_pred = model_selection.cross_val_predict(classifier_pipeline, X_train, y_train.values.flatten(), cv=stratkfold, n_jobs=-1)"
   ]
  },
  {
   "cell_type": "code",
   "execution_count": 20,
   "metadata": {},
   "outputs": [
    {
     "name": "stdout",
     "output_type": "stream",
     "text": [
      "                 precision    recall  f1-score   support\n",
      "\n",
      "         biopic       0.68      0.63      0.65       383\n",
      "        comédie       0.50      0.48      0.49       395\n",
      "   documentaire       0.73      0.87      0.80       409\n",
      "          drame       0.40      0.34      0.37       391\n",
      "     historique       0.72      0.72      0.72       421\n",
      "        horreur       0.57      0.60      0.59       412\n",
      "       policier       0.64      0.67      0.66       405\n",
      "        romance       0.53      0.51      0.52       398\n",
      "science fiction       0.71      0.69      0.70       393\n",
      "\n",
      "       accuracy                           0.62      3607\n",
      "      macro avg       0.61      0.61      0.61      3607\n",
      "   weighted avg       0.61      0.62      0.61      3607\n",
      "\n"
     ]
    }
   ],
   "source": [
    "print(classification_report(y_train, y_stratkfold_pred))"
   ]
  },
  {
   "attachments": {},
   "cell_type": "markdown",
   "metadata": {},
   "source": [
    "En utilisant une méthode de validation croisée qui conserve la proportion des classes dans les plis nous obtenons des résultats du même ordre (précision entre 0.4 et 0.5)."
   ]
  },
  {
   "attachments": {},
   "cell_type": "markdown",
   "metadata": {},
   "source": [
    "## Comparaison des Différents Algorithmes"
   ]
  },
  {
   "cell_type": "code",
   "execution_count": 21,
   "metadata": {},
   "outputs": [
    {
     "name": "stdout",
     "output_type": "stream",
     "text": [
      "Baseline\n",
      "                 precision    recall  f1-score   support\n",
      "\n",
      "         biopic       0.00      0.00      0.00       383\n",
      "        comédie       0.00      0.00      0.00       395\n",
      "   documentaire       0.00      0.00      0.00       409\n",
      "          drame       0.00      0.00      0.00       391\n",
      "     historique       0.12      1.00      0.21       421\n",
      "        horreur       0.00      0.00      0.00       412\n",
      "       policier       0.00      0.00      0.00       405\n",
      "        romance       0.00      0.00      0.00       398\n",
      "science fiction       0.00      0.00      0.00       393\n",
      "\n",
      "       accuracy                           0.12      3607\n",
      "      macro avg       0.01      0.11      0.02      3607\n",
      "   weighted avg       0.01      0.12      0.02      3607\n",
      "\n"
     ]
    },
    {
     "name": "stderr",
     "output_type": "stream",
     "text": [
      "/home/fabien/anaconda3/lib/python3.9/site-packages/sklearn/metrics/_classification.py:1318: UndefinedMetricWarning: Precision and F-score are ill-defined and being set to 0.0 in labels with no predicted samples. Use `zero_division` parameter to control this behavior.\n",
      "  _warn_prf(average, modifier, msg_start, len(result))\n",
      "/home/fabien/anaconda3/lib/python3.9/site-packages/sklearn/metrics/_classification.py:1318: UndefinedMetricWarning: Precision and F-score are ill-defined and being set to 0.0 in labels with no predicted samples. Use `zero_division` parameter to control this behavior.\n",
      "  _warn_prf(average, modifier, msg_start, len(result))\n",
      "/home/fabien/anaconda3/lib/python3.9/site-packages/sklearn/metrics/_classification.py:1318: UndefinedMetricWarning: Precision and F-score are ill-defined and being set to 0.0 in labels with no predicted samples. Use `zero_division` parameter to control this behavior.\n",
      "  _warn_prf(average, modifier, msg_start, len(result))\n"
     ]
    },
    {
     "name": "stdout",
     "output_type": "stream",
     "text": [
      "Mutinomial NB\n",
      "                 precision    recall  f1-score   support\n",
      "\n",
      "         biopic       0.65      0.55      0.60       383\n",
      "        comédie       0.46      0.50      0.48       395\n",
      "   documentaire       0.73      0.82      0.77       409\n",
      "          drame       0.44      0.32      0.37       391\n",
      "     historique       0.65      0.68      0.67       421\n",
      "        horreur       0.52      0.56      0.54       412\n",
      "       policier       0.63      0.64      0.64       405\n",
      "        romance       0.48      0.52      0.49       398\n",
      "science fiction       0.70      0.68      0.69       393\n",
      "\n",
      "       accuracy                           0.59      3607\n",
      "      macro avg       0.59      0.59      0.58      3607\n",
      "   weighted avg       0.59      0.59      0.59      3607\n",
      "\n",
      "CART\n",
      "                 precision    recall  f1-score   support\n",
      "\n",
      "         biopic       0.70      0.78      0.74       383\n",
      "        comédie       0.31      0.27      0.29       395\n",
      "   documentaire       0.81      0.90      0.85       409\n",
      "          drame       0.31      0.25      0.28       391\n",
      "     historique       0.76      0.89      0.82       421\n",
      "        horreur       0.60      0.62      0.61       412\n",
      "       policier       0.60      0.60      0.60       405\n",
      "        romance       0.41      0.37      0.39       398\n",
      "science fiction       0.67      0.67      0.67       393\n",
      "\n",
      "       accuracy                           0.60      3607\n",
      "      macro avg       0.57      0.59      0.58      3607\n",
      "   weighted avg       0.58      0.60      0.58      3607\n",
      "\n",
      "LR\n",
      "                 precision    recall  f1-score   support\n",
      "\n",
      "         biopic       0.68      0.63      0.65       383\n",
      "        comédie       0.50      0.48      0.49       395\n",
      "   documentaire       0.73      0.87      0.80       409\n",
      "          drame       0.40      0.34      0.37       391\n",
      "     historique       0.72      0.72      0.72       421\n",
      "        horreur       0.57      0.60      0.59       412\n",
      "       policier       0.64      0.67      0.66       405\n",
      "        romance       0.53      0.51      0.52       398\n",
      "science fiction       0.71      0.69      0.70       393\n",
      "\n",
      "       accuracy                           0.62      3607\n",
      "      macro avg       0.61      0.61      0.61      3607\n",
      "   weighted avg       0.61      0.62      0.61      3607\n",
      "\n",
      "KNN\n",
      "                 precision    recall  f1-score   support\n",
      "\n",
      "         biopic       0.61      0.42      0.50       383\n",
      "        comédie       0.26      0.02      0.04       395\n",
      "   documentaire       0.83      0.59      0.69       409\n",
      "          drame       0.24      0.02      0.04       391\n",
      "     historique       0.78      0.54      0.64       421\n",
      "        horreur       0.25      0.58      0.35       412\n",
      "       policier       0.21      0.58      0.31       405\n",
      "        romance       0.30      0.04      0.07       398\n",
      "science fiction       0.29      0.41      0.34       393\n",
      "\n",
      "       accuracy                           0.36      3607\n",
      "      macro avg       0.42      0.36      0.33      3607\n",
      "   weighted avg       0.42      0.36      0.33      3607\n",
      "\n",
      "Random forest\n",
      "                 precision    recall  f1-score   support\n",
      "\n",
      "         biopic       0.82      0.80      0.81       383\n",
      "        comédie       0.43      0.42      0.43       395\n",
      "   documentaire       0.85      0.93      0.89       409\n",
      "          drame       0.42      0.33      0.37       391\n",
      "     historique       0.83      0.90      0.86       421\n",
      "        horreur       0.73      0.67      0.70       412\n",
      "       policier       0.70      0.73      0.71       405\n",
      "        romance       0.52      0.55      0.53       398\n",
      "science fiction       0.76      0.77      0.76       393\n",
      "\n",
      "       accuracy                           0.68      3607\n",
      "      macro avg       0.67      0.68      0.67      3607\n",
      "   weighted avg       0.67      0.68      0.68      3607\n",
      "\n"
     ]
    },
    {
     "data": {
      "image/png": "[encoded data removed]",
      "text/plain": [
       "<Figure size 432x288 with 1 Axes>"
      ]
     },
     "metadata": {
      "needs_background": "light"
     },
     "output_type": "display_data"
    }
   ],
   "source": [
    "from sklearn.ensemble import RandomForestClassifier\n",
    "from sklearn.dummy import DummyClassifier\n",
    "from sklearn.tree import DecisionTreeClassifier\n",
    "from sklearn.naive_bayes import MultinomialNB\n",
    "from sklearn.neighbors import KNeighborsClassifier\n",
    "from sklearn.metrics import f1_score\n",
    "\n",
    "# Liste des modèles testés\n",
    "models = [\n",
    "    (\"Baseline\", DummyClassifier(strategy=\"most_frequent\")),\n",
    "    (\"Mutinomial NB\", MultinomialNB()),\n",
    "    (\"CART\", DecisionTreeClassifier()),\n",
    "    (\"LR\", LogisticRegression(max_iter=200)),\n",
    "    (\"KNN\", KNeighborsClassifier()),\n",
    "    (\"Random forest\", RandomForestClassifier())\n",
    "]\n",
    "\n",
    "# Evaluation de chaque résultat l'un après l'autre\n",
    "scores = []\n",
    "names = []\n",
    "scoring = \"macro F1\"\n",
    "# Validation croisée à 5 plis\n",
    "kfold = model_selection.StratifiedKFold(n_splits=5, shuffle=True, random_state=12)\n",
    "# Itération sur les modèles\n",
    "for name, model in models:\n",
    "    # Ajout du nom du modèle à la liste name\n",
    "    names.append(name)\n",
    "    # Création de la pipeline pour le modèle\n",
    "    model_pipeline = make_pipeline(column_trans, model)\n",
    "    # Validation croisée\n",
    "    y_pred = model_selection.cross_val_predict(model_pipeline, X_train, y_train.values.flatten(), cv=kfold)\n",
    "    print(name)\n",
    "    print(classification_report(y_train, y_pred))\n",
    "    f1 = f1_score(y_train, y_pred, average=\"macro\")\n",
    "    scores.append(f1)\n",
    "\n",
    "# Représentation graphique des résultats\n",
    "indices = np.arange(len(scores))\n",
    "fig = plt.figure()\n",
    "plt.barh(indices, scores, .2, label=\"score\", color=\"b\")\n",
    "plt.yticks(())\n",
    "for i, c in zip(indices, names):\n",
    "    plt.text(-.3, i, c)\n",
    "plt.show()"
   ]
  }
 ],
 "metadata": {
  "kernelspec": {
   "display_name": "base",
   "language": "python",
   "name": "python3"
  },
  "language_info": {
   "codemirror_mode": {
    "name": "ipython",
    "version": 3
   },
   "file_extension": ".py",
   "mimetype": "text/x-python",
   "name": "python",
   "nbconvert_exporter": "python",
   "pygments_lexer": "ipython3",
   "version": "3.9.12"
  },
  "orig_nbformat": 4
 },
 "nbformat": 4,
 "nbformat_minor": 2
}
