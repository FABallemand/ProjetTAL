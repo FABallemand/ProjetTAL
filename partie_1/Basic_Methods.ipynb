{
 "cells": [
  {
   "cell_type": "code",
   "execution_count": 1,
   "metadata": {},
   "outputs": [],
   "source": [
    "import pandas as pd\n",
    "import numpy as np\n",
    "\n",
    "import matplotlib.pyplot as plt"
   ]
  },
  {
   "attachments": {},
   "cell_type": "markdown",
   "metadata": {},
   "source": [
    "# Premières Méthodes"
   ]
  },
  {
   "attachments": {},
   "cell_type": "markdown",
   "metadata": {},
   "source": [
    "## Chargement des Données"
   ]
  },
  {
   "cell_type": "code",
   "execution_count": 2,
   "metadata": {},
   "outputs": [],
   "source": [
    "# Données d'entrainement\n",
    "train_data_complete = pd.read_csv(\"../data/allocine_genres_train.csv\", sep=\",\")\n",
    "train_data = train_data_complete[[\"titre\", \"synopsis\", \"genre\"]]\n",
    "\n",
    "# Données de test/validation\n",
    "test_data_complete = pd.read_csv(\"../data/allocine_genres_test.csv\", sep=\",\")\n",
    "trest_data = test_data_complete[[\"titre\", \"synopsis\", \"genre\"]]"
   ]
  },
  {
   "attachments": {},
   "cell_type": "markdown",
   "metadata": {},
   "source": [
    "## Pré-Traitement des Données\n",
    "\n",
    "Comme vu précédemment, les paramètres que nous souhaitons utiliser (*titre*, *synopsis*, *genre*) ne comportent **pas de valeurs manquantes** donc nous n'avons pas besoin d'éliminer d'individus des données d'entrainement.\n",
    "\n",
    "Nous remarquons aussi que **les données sont déjà tokénisées**. Tous les tokens sont séparés par des espaces.\n",
    "\n",
    "Cependant, nous pouvons utiliser un transformer pour obtenir des informations statistiques concernant le *synopsis*.\n",
    "\n",
    "**Remarque:** On normalise ces informations statistiques afin qu'elles aient toutes le même poids lors de la classification."
   ]
  },
  {
   "cell_type": "code",
   "execution_count": 8,
   "metadata": {},
   "outputs": [],
   "source": [
    "import string\n",
    "from spacy.lang.fr.stop_words import STOP_WORDS as fr_stop\n",
    "from spacy.lang.fr.stop_words import STOP_WORDS as en_stop\n",
    "\n",
    "from sklearn.feature_extraction.text import TfidfVectorizer\n",
    "\n",
    "def transform_into_token_list(synopsis):\n",
    "    return synopsis.split(\" \")\n",
    "\n",
    "synopsis_stopwords = list(fr_stop) + list(string.punctuation)\n",
    "title_stopwords = list(fr_stop) + list(en_stop) + list(string.punctuation)\n",
    "\n",
    "\n",
    "titre_vectorizer = TfidfVectorizer(tokenizer=transform_into_token_list, \n",
    "                                   lowercase=True, \n",
    "                                   stop_words=title_stopwords, \n",
    "                                   min_df=0.01)\n",
    "\n",
    "# Objet TfidfVectorizer\n",
    "synopsis_vectorizer = TfidfVectorizer(tokenizer=transform_into_token_list, \n",
    "                                      lowercase=True, \n",
    "                                      stop_words=synopsis_stopwords, \n",
    "                                      min_df=0.01)"
   ]
  },
  {
   "cell_type": "code",
   "execution_count": 7,
   "metadata": {},
   "outputs": [
    {
     "data": {
      "text/plain": [
       "['hem',\n",
       " 'dessous',\n",
       " 'seuls',\n",
       " 'aussi',\n",
       " 'etant',\n",
       " 'houp',\n",
       " 'desquelles',\n",
       " 'leur',\n",
       " 'votres',\n",
       " 'anterieure',\n",
       " 'combien',\n",
       " 'directement',\n",
       " 'cinquantaine',\n",
       " 'est',\n",
       " 'moindres']"
      ]
     },
     "execution_count": 7,
     "metadata": {},
     "output_type": "execute_result"
    }
   ],
   "source": [
    "synopsis_stopwords[:15]"
   ]
  },
  {
   "attachments": {},
   "cell_type": "markdown",
   "metadata": {},
   "source": [
    "En tant qu'humain, certains stop words nous semblent importants..."
   ]
  },
  {
   "cell_type": "code",
   "execution_count": 10,
   "metadata": {},
   "outputs": [
    {
     "name": "stdout",
     "output_type": "stream",
     "text": [
      "Input descriptions\n",
      "0    En visite à Istanbul , le célèbre détective be...\n",
      "1    Un jeune homme d' origine modeste est accusé d...\n",
      "2    Lorsque Marie-Laure , mère de quatre jeunes en...\n",
      "3    Un vagabond s’ éprend d’ une belle et jeune ve...\n",
      "4    L' histoire vraie de Carl Brashear , premier A...\n",
      "Name: synopsis, dtype: object\n",
      "Output statistics\n",
      "   length  num_sentences\n",
      "0   677.0            4.0\n",
      "1   460.0            4.0\n",
      "2   560.0            4.0\n",
      "3   233.0            4.0\n",
      "4   340.0            2.0\n",
      "Before MinMax scaling\n",
      "[[677.   4.]\n",
      " [460.   4.]\n",
      " [560.   4.]\n",
      " [233.   4.]\n",
      " [340.   2.]]\n",
      "After MinMax scaling\n",
      "[[1.         1.        ]\n",
      " [0.51126126 1.        ]\n",
      " [0.73648649 1.        ]\n",
      " [0.         1.        ]\n",
      " [0.24099099 0.        ]]\n"
     ]
    },
    {
     "name": "stderr",
     "output_type": "stream",
     "text": [
      "/home/fabien/anaconda3/lib/python3.9/site-packages/sklearn/utils/deprecation.py:87: FutureWarning: Function get_feature_names is deprecated; get_feature_names is deprecated in 1.0 and will be removed in 1.2. Please use get_feature_names_out instead.\n",
      "  warnings.warn(msg, category=FutureWarning)\n"
     ]
    }
   ],
   "source": [
    "from sklearn.feature_extraction import DictVectorizer\n",
    "from sklearn.preprocessing import FunctionTransformer, MinMaxScaler\n",
    "\n",
    "# Source: https://scikit-learn.org/stable/auto_examples/compose/plot_column_transformer.html\n",
    "def text_stats(descriptions):\n",
    "    return [{\"length\": len(text), \"num_sentences\": text.count(\".\")} for text in descriptions]\n",
    "\n",
    "text_stats_transformer = FunctionTransformer(text_stats)\n",
    "text_stats_vectorizer = DictVectorizer(sparse=False)\n",
    "\n",
    "res_dict = text_stats_transformer.transform(train_data.synopsis.head())\n",
    "res_stats = text_stats_vectorizer.fit_transform(res_dict)\n",
    "print(\"Input descriptions\")\n",
    "print(train_data.synopsis.head())\n",
    "print(\"Output statistics\")\n",
    "stats = pd.DataFrame(res_stats, columns=text_stats_vectorizer.get_feature_names())\n",
    "print(stats)\n",
    "\n",
    "min_max_scaler = MinMaxScaler()\n",
    "scaled_stats = min_max_scaler.fit_transform(res_stats)\n",
    "\n",
    "print(\"Before MinMax scaling\")\n",
    "print(res_stats)\n",
    "print(\"After MinMax scaling\")\n",
    "print(scaled_stats)"
   ]
  },
  {
   "attachments": {},
   "cell_type": "markdown",
   "metadata": {},
   "source": [
    "L'utilisation de *MinMaxScaler* permet de ne pas donner plus de poids à l'une des valeurs obtenues, ce qui pourrait affecter la classification.\n",
    "\n",
    "On peut créer une *Pipeline* qui effectue l'ensemble des transformation sur le jeu de données."
   ]
  },
  {
   "cell_type": "code",
   "execution_count": 11,
   "metadata": {},
   "outputs": [],
   "source": [
    "from sklearn.compose import ColumnTransformer\n",
    "from sklearn.pipeline import Pipeline\n",
    "\n",
    "column_trans = ColumnTransformer(\n",
    "    [\n",
    "        # Titre: tf-idf\n",
    "        (\"titre_tfidf\", titre_vectorizer, \"titre\"),\n",
    "        # Synopsis: tf-idf\n",
    "        (\"synopsis_tfidf\", synopsis_vectorizer, \"synopsis\"),\n",
    "        # Synopsis: statistiques\n",
    "        (\n",
    "            \"synopsis_stats\",\n",
    "            Pipeline(\n",
    "                [\n",
    "                    (\"text_stats\", text_stats_transformer),\n",
    "                    (\"vect\", text_stats_vectorizer),\n",
    "                    (\"scaling\", min_max_scaler)\n",
    "                ]\n",
    "            ), \n",
    "            \"synopsis\"\n",
    "        )\n",
    "    ],\n",
    "    # Others\n",
    "    remainder=\"passthrough\"\n",
    ")"
   ]
  },
  {
   "cell_type": "code",
   "execution_count": 12,
   "metadata": {},
   "outputs": [
    {
     "data": {
      "text/plain": [
       "ColumnTransformer(remainder='passthrough',\n",
       "                  transformers=[('titre_tfidf',\n",
       "                                 TfidfVectorizer(min_df=0.01,\n",
       "                                                 stop_words=['hem', 'dessous',\n",
       "                                                             'seuls', 'aussi',\n",
       "                                                             'etant', 'houp',\n",
       "                                                             'desquelles',\n",
       "                                                             'leur', 'votres',\n",
       "                                                             'anterieure',\n",
       "                                                             'combien',\n",
       "                                                             'directement',\n",
       "                                                             'cinquantaine',\n",
       "                                                             'est', 'moindres',\n",
       "                                                             'car', 'dessus',\n",
       "                                                             'assez', 'à',\n",
       "                                                             'soi-même',\n",
       "                                                             'celui-là',\n",
       "                                                             'elles-memes',\n",
       "                                                             'prealable',\n",
       "                                                             'feront',\n",
       "                                                             'anterieur...\n",
       "                                                             'prealable',\n",
       "                                                             'feront',\n",
       "                                                             'anterieur',\n",
       "                                                             'lui-même', 'ait',\n",
       "                                                             'plusieurs',\n",
       "                                                             'celles-ci',\n",
       "                                                             'vôtre', ...],\n",
       "                                                 tokenizer=<function transform_into_token_list at 0x7fa02e1f40d0>),\n",
       "                                 'synopsis'),\n",
       "                                ('synopsis_stats',\n",
       "                                 Pipeline(steps=[('text_stats',\n",
       "                                                  FunctionTransformer(func=<function text_stats at 0x7f9fa2dc3160>)),\n",
       "                                                 ('vect',\n",
       "                                                  DictVectorizer(sparse=False)),\n",
       "                                                 ('scaling', MinMaxScaler())]),\n",
       "                                 'synopsis')])"
      ]
     },
     "execution_count": 12,
     "metadata": {},
     "output_type": "execute_result"
    }
   ],
   "source": [
    "column_trans"
   ]
  },
  {
   "attachments": {},
   "cell_type": "markdown",
   "metadata": {},
   "source": [
    "## Création des Jeux d'Entrainement et de Test\n",
    "\n",
    "Afin de ne pas biaiser le résultat de nos recherches nous n'utiliserons le fichier *allocine_genres_test.csv* uniquement lorsque nous aurons définitivement choisit le classifier. Nous n'utiliserons donc pas *test_data_complete* et *test_data* dans cette section.\n",
    "\n",
    "Afin de tester et évaluer différents algorithmes nous devons donc créer des jeux de données d'entrainement et de test issus des données d'entrainement (*train_data*). Pour cela nous utilisons la fonction *train_test_split* de la librairie **scikit-learn** en choisissant 20% des données pour créer le jeu de test en prenant soin de mélanger les données (cela perment d'éviter tout biais d'apprentissage: entrainer le classifier unioquement sur les films du XXème siècle).\n",
    "\n",
    "Nous obtenons donc 4 jeux de données:\n",
    "- X_train: Titre et synopsis pour entrainement  \n",
    "- y_train: Genre pour entrainement (label)  \n",
    "- X_test: Titre et synopsis pour test  \n",
    "- y_test: Genre pour test (label)  "
   ]
  },
  {
   "cell_type": "code",
   "execution_count": 13,
   "metadata": {},
   "outputs": [],
   "source": [
    "from sklearn.model_selection import train_test_split\n",
    "\n",
    "X_train, X_test, y_train, y_test = train_test_split(train_data[[\"titre\", \"synopsis\"]],\n",
    "                                                    train_data[[\"genre\"]],\n",
    "                                                    test_size=0.2,\n",
    "                                                    random_state=12, # Random seed for shuffle\n",
    "                                                    shuffle=True)"
   ]
  },
  {
   "attachments": {},
   "cell_type": "markdown",
   "metadata": {},
   "source": [
    "## Apprentissage"
   ]
  },
  {
   "cell_type": "code",
   "execution_count": 15,
   "metadata": {},
   "outputs": [],
   "source": [
    "from sklearn.pipeline import make_pipeline\n",
    "from sklearn.linear_model import LogisticRegression\n",
    "\n",
    "# Pipeline pré-traitement et apprentissage\n",
    "classifier_pipeline = make_pipeline(\n",
    "    # Préparation des données pour l'apprentissage\n",
    "    column_trans,\n",
    "    # Algorithme d'apprentissage\n",
    "    LogisticRegression()\n",
    ")"
   ]
  },
  {
   "cell_type": "code",
   "execution_count": 16,
   "metadata": {},
   "outputs": [
    {
     "name": "stderr",
     "output_type": "stream",
     "text": [
      "/home/fabien/anaconda3/lib/python3.9/site-packages/sklearn/utils/validation.py:993: DataConversionWarning: A column-vector y was passed when a 1d array was expected. Please change the shape of y to (n_samples, ), for example using ravel().\n",
      "  y = column_or_1d(y, warn=True)\n"
     ]
    },
    {
     "data": {
      "text/plain": [
       "Pipeline(steps=[('columntransformer',\n",
       "                 ColumnTransformer(remainder='passthrough',\n",
       "                                   transformers=[('titre_tfidf',\n",
       "                                                  TfidfVectorizer(min_df=0.01,\n",
       "                                                                  stop_words=['hem',\n",
       "                                                                              'dessous',\n",
       "                                                                              'seuls',\n",
       "                                                                              'aussi',\n",
       "                                                                              'etant',\n",
       "                                                                              'houp',\n",
       "                                                                              'desquelles',\n",
       "                                                                              'leur',\n",
       "                                                                              'votres',\n",
       "                                                                              'anterieure',\n",
       "                                                                              'combien',\n",
       "                                                                              'directement',\n",
       "                                                                              'cinquantaine',\n",
       "                                                                              'est',\n",
       "                                                                              'moindres',\n",
       "                                                                              'car',\n",
       "                                                                              'dessus',\n",
       "                                                                              'assez',\n",
       "                                                                              'à',\n",
       "                                                                              'soi-même',\n",
       "                                                                              'celui-là',\n",
       "                                                                              'elles-m...\n",
       "                                                                              'plusieurs',\n",
       "                                                                              'celles-ci',\n",
       "                                                                              'vôtre', ...],\n",
       "                                                                  tokenizer=<function transform_into_token_list at 0x7fa02e1f40d0>),\n",
       "                                                  'synopsis'),\n",
       "                                                 ('synopsis_stats',\n",
       "                                                  Pipeline(steps=[('text_stats',\n",
       "                                                                   FunctionTransformer(func=<function text_stats at 0x7f9fa2dc3160>)),\n",
       "                                                                  ('vect',\n",
       "                                                                   DictVectorizer(sparse=False)),\n",
       "                                                                  ('scaling',\n",
       "                                                                   MinMaxScaler())]),\n",
       "                                                  'synopsis')])),\n",
       "                ('logisticregression', LogisticRegression())])"
      ]
     },
     "execution_count": 16,
     "metadata": {},
     "output_type": "execute_result"
    }
   ],
   "source": [
    "# Apprentissage avec les données d'entraînement\n",
    "classifier_pipeline.fit(X_train, y_train.to_numpy())"
   ]
  },
  {
   "attachments": {},
   "cell_type": "markdown",
   "metadata": {},
   "source": [
    "Comme pour le pré-traitement des données, on peut créer une *pipeline* qui regroupe les actions nécessaire à l'apprentissage (pré-traitement et apprentissage)."
   ]
  },
  {
   "cell_type": "code",
   "execution_count": 17,
   "metadata": {},
   "outputs": [
    {
     "name": "stdout",
     "output_type": "stream",
     "text": [
      "Classification report:\n",
      "\n",
      "                 precision    recall  f1-score   support\n",
      "\n",
      "         biopic       0.64      0.16      0.26        43\n",
      "        comédie       0.42      0.53      0.47       100\n",
      "   documentaire       0.78      0.17      0.29        40\n",
      "          drame       0.38      0.47      0.42       112\n",
      "     historique       0.36      0.19      0.24        27\n",
      "        horreur       0.47      0.36      0.40        59\n",
      "       policier       0.52      0.56      0.54        57\n",
      "        romance       0.34      0.51      0.41        78\n",
      "science fiction       0.54      0.49      0.51        59\n",
      "\n",
      "       accuracy                           0.43       575\n",
      "      macro avg       0.49      0.38      0.39       575\n",
      "   weighted avg       0.47      0.43      0.42       575\n",
      "\n"
     ]
    }
   ],
   "source": [
    "from sklearn.metrics import classification_report\n",
    "\n",
    "y_pred = classifier_pipeline.predict(X_test)\n",
    "print(\"Classification report:\\n\\n{}\".format(classification_report(y_test, y_pred)))"
   ]
  },
  {
   "attachments": {},
   "cell_type": "markdown",
   "metadata": {},
   "source": [
    "La précision du classifier est proche de 0.5, ce qui est plutôt faible."
   ]
  },
  {
   "cell_type": "code",
   "execution_count": 18,
   "metadata": {},
   "outputs": [
    {
     "name": "stdout",
     "output_type": "stream",
     "text": [
      "confusion matrix\n",
      "\n",
      "(row=expected, col=predicted)\n"
     ]
    },
    {
     "data": {
      "text/html": [
       "<div>\n",
       "<style scoped>\n",
       "    .dataframe tbody tr th:only-of-type {\n",
       "        vertical-align: middle;\n",
       "    }\n",
       "\n",
       "    .dataframe tbody tr th {\n",
       "        vertical-align: top;\n",
       "    }\n",
       "\n",
       "    .dataframe thead th {\n",
       "        text-align: right;\n",
       "    }\n",
       "</style>\n",
       "<table border=\"1\" class=\"dataframe\">\n",
       "  <thead>\n",
       "    <tr style=\"text-align: right;\">\n",
       "      <th></th>\n",
       "      <th>biopic</th>\n",
       "      <th>comédie</th>\n",
       "      <th>documentaire</th>\n",
       "      <th>drame</th>\n",
       "      <th>historique</th>\n",
       "      <th>horreur</th>\n",
       "      <th>policier</th>\n",
       "      <th>romance</th>\n",
       "      <th>science fiction</th>\n",
       "    </tr>\n",
       "  </thead>\n",
       "  <tbody>\n",
       "    <tr>\n",
       "      <th>biopic</th>\n",
       "      <td>7</td>\n",
       "      <td>5</td>\n",
       "      <td>1</td>\n",
       "      <td>8</td>\n",
       "      <td>3</td>\n",
       "      <td>3</td>\n",
       "      <td>4</td>\n",
       "      <td>8</td>\n",
       "      <td>4</td>\n",
       "    </tr>\n",
       "    <tr>\n",
       "      <th>comédie</th>\n",
       "      <td>0</td>\n",
       "      <td>53</td>\n",
       "      <td>0</td>\n",
       "      <td>19</td>\n",
       "      <td>2</td>\n",
       "      <td>2</td>\n",
       "      <td>5</td>\n",
       "      <td>18</td>\n",
       "      <td>1</td>\n",
       "    </tr>\n",
       "    <tr>\n",
       "      <th>documentaire</th>\n",
       "      <td>1</td>\n",
       "      <td>9</td>\n",
       "      <td>7</td>\n",
       "      <td>9</td>\n",
       "      <td>1</td>\n",
       "      <td>1</td>\n",
       "      <td>1</td>\n",
       "      <td>5</td>\n",
       "      <td>6</td>\n",
       "    </tr>\n",
       "    <tr>\n",
       "      <th>drame</th>\n",
       "      <td>1</td>\n",
       "      <td>17</td>\n",
       "      <td>1</td>\n",
       "      <td>53</td>\n",
       "      <td>2</td>\n",
       "      <td>6</td>\n",
       "      <td>6</td>\n",
       "      <td>24</td>\n",
       "      <td>2</td>\n",
       "    </tr>\n",
       "    <tr>\n",
       "      <th>historique</th>\n",
       "      <td>2</td>\n",
       "      <td>2</td>\n",
       "      <td>0</td>\n",
       "      <td>7</td>\n",
       "      <td>5</td>\n",
       "      <td>1</td>\n",
       "      <td>1</td>\n",
       "      <td>5</td>\n",
       "      <td>4</td>\n",
       "    </tr>\n",
       "    <tr>\n",
       "      <th>horreur</th>\n",
       "      <td>0</td>\n",
       "      <td>8</td>\n",
       "      <td>0</td>\n",
       "      <td>10</td>\n",
       "      <td>1</td>\n",
       "      <td>21</td>\n",
       "      <td>6</td>\n",
       "      <td>7</td>\n",
       "      <td>6</td>\n",
       "    </tr>\n",
       "    <tr>\n",
       "      <th>policier</th>\n",
       "      <td>0</td>\n",
       "      <td>9</td>\n",
       "      <td>0</td>\n",
       "      <td>7</td>\n",
       "      <td>0</td>\n",
       "      <td>5</td>\n",
       "      <td>32</td>\n",
       "      <td>2</td>\n",
       "      <td>2</td>\n",
       "    </tr>\n",
       "    <tr>\n",
       "      <th>romance</th>\n",
       "      <td>0</td>\n",
       "      <td>16</td>\n",
       "      <td>0</td>\n",
       "      <td>18</td>\n",
       "      <td>0</td>\n",
       "      <td>1</td>\n",
       "      <td>3</td>\n",
       "      <td>40</td>\n",
       "      <td>0</td>\n",
       "    </tr>\n",
       "    <tr>\n",
       "      <th>science fiction</th>\n",
       "      <td>0</td>\n",
       "      <td>6</td>\n",
       "      <td>0</td>\n",
       "      <td>8</td>\n",
       "      <td>0</td>\n",
       "      <td>5</td>\n",
       "      <td>3</td>\n",
       "      <td>8</td>\n",
       "      <td>29</td>\n",
       "    </tr>\n",
       "  </tbody>\n",
       "</table>\n",
       "</div>"
      ],
      "text/plain": [
       "                 biopic  comédie  documentaire  drame  historique  horreur  \\\n",
       "biopic                7        5             1      8           3        3   \n",
       "comédie               0       53             0     19           2        2   \n",
       "documentaire          1        9             7      9           1        1   \n",
       "drame                 1       17             1     53           2        6   \n",
       "historique            2        2             0      7           5        1   \n",
       "horreur               0        8             0     10           1       21   \n",
       "policier              0        9             0      7           0        5   \n",
       "romance               0       16             0     18           0        1   \n",
       "science fiction       0        6             0      8           0        5   \n",
       "\n",
       "                 policier  romance  science fiction  \n",
       "biopic                  4        8                4  \n",
       "comédie                 5       18                1  \n",
       "documentaire            1        5                6  \n",
       "drame                   6       24                2  \n",
       "historique              1        5                4  \n",
       "horreur                 6        7                6  \n",
       "policier               32        2                2  \n",
       "romance                 3       40                0  \n",
       "science fiction         3        8               29  "
      ]
     },
     "execution_count": 18,
     "metadata": {},
     "output_type": "execute_result"
    }
   ],
   "source": [
    "from sklearn.metrics import confusion_matrix\n",
    "\n",
    "# Liste des labels (classes) se trouvant dans les données de test\n",
    "labels = np.unique(y_test)\n",
    "# Matrice de confusion\n",
    "cm = confusion_matrix(y_test, y_pred, labels=labels)\n",
    "# Matrice de confusion sous forme de DataFrame\n",
    "confusion_df = pd.DataFrame(cm, index=labels, columns=labels)\n",
    "print('confusion matrix\\n')\n",
    "print('(row=expected, col=predicted)')\n",
    "confusion_df.head(n=15)"
   ]
  },
  {
   "cell_type": "code",
   "execution_count": 19,
   "metadata": {},
   "outputs": [
    {
     "data": {
      "image/png": "[encoded data removed]",
      "text/plain": [
       "<Figure size 432x288 with 2 Axes>"
      ]
     },
     "metadata": {
      "needs_background": "light"
     },
     "output_type": "display_data"
    }
   ],
   "source": [
    "fig = plt.figure() \n",
    "ax = fig.add_subplot(111) \n",
    "cax = ax.matshow(cm, interpolation='nearest', cmap=plt.cm.Oranges) \n",
    "fig.colorbar(cax) \n",
    "tick_marks = np.arange(len(labels))\n",
    "labels_for_fig = [l[0:5]+'.' for l in labels]\n",
    "plt.xticks(tick_marks, labels_for_fig, rotation=45)\n",
    "plt.yticks(tick_marks, labels_for_fig) \n",
    "plt.xlabel('Predicted') \n",
    "plt.ylabel('Expected') \n",
    "plt.show()"
   ]
  },
  {
   "attachments": {},
   "cell_type": "markdown",
   "metadata": {},
   "source": [
    "La matrice de confusion permet de mieux comprendre les résultats.\n",
    "\n",
    "On remarque que le classifieur se trompe plus sur les données qui sont peu représentées dans le jeu de données (*biopic*, *documentaire*, *histoire*)."
   ]
  },
  {
   "cell_type": "code",
   "execution_count": 53,
   "metadata": {},
   "outputs": [
    {
     "data": {
      "text/plain": [
       "drame              8\n",
       "romance            8\n",
       "biopic             7\n",
       "comédie            5\n",
       "policier           4\n",
       "science fiction    4\n",
       "historique         3\n",
       "horreur            3\n",
       "documentaire       1\n",
       "Name: biopic, dtype: int64"
      ]
     },
     "execution_count": 53,
     "metadata": {},
     "output_type": "execute_result"
    }
   ],
   "source": [
    "confusion_df.loc['biopic'].sort_values(ascending=False)"
   ]
  },
  {
   "cell_type": "code",
   "execution_count": 20,
   "metadata": {},
   "outputs": [],
   "source": [
    "from sklearn import model_selection\n",
    "folds = 5\n",
    "\n",
    "stratkfold = model_selection.StratifiedKFold(n_splits=folds, shuffle=True, random_state=12)\n",
    "y_stratkfold_pred = model_selection.cross_val_predict(classifier_pipeline, X_train, y_train.values.flatten(), cv=stratkfold, n_jobs=-1)"
   ]
  },
  {
   "cell_type": "code",
   "execution_count": 21,
   "metadata": {},
   "outputs": [
    {
     "name": "stdout",
     "output_type": "stream",
     "text": [
      "                 precision    recall  f1-score   support\n",
      "\n",
      "         biopic       0.53      0.22      0.31       148\n",
      "        comédie       0.37      0.51      0.43       383\n",
      "   documentaire       0.55      0.17      0.25       127\n",
      "          drame       0.30      0.43      0.35       389\n",
      "     historique       0.60      0.19      0.28       135\n",
      "        horreur       0.43      0.29      0.34       240\n",
      "       policier       0.52      0.49      0.50       274\n",
      "        romance       0.37      0.46      0.41       365\n",
      "science fiction       0.60      0.54      0.57       239\n",
      "\n",
      "       accuracy                           0.41      2300\n",
      "      macro avg       0.47      0.37      0.38      2300\n",
      "   weighted avg       0.44      0.41      0.40      2300\n",
      "\n"
     ]
    }
   ],
   "source": [
    "print(classification_report(y_train, y_stratkfold_pred))"
   ]
  },
  {
   "attachments": {},
   "cell_type": "markdown",
   "metadata": {},
   "source": [
    "En utilisant une méthode de validation croisée qui conserve la proportion des classes dans les plis nous obtenons des résultats du même ordre (précision entre 0.4 et 0.5)."
   ]
  },
  {
   "attachments": {},
   "cell_type": "markdown",
   "metadata": {},
   "source": [
    "## Comparaison des Différents Algorithmes"
   ]
  },
  {
   "cell_type": "code",
   "execution_count": 22,
   "metadata": {},
   "outputs": [
    {
     "name": "stdout",
     "output_type": "stream",
     "text": [
      "Baseline\n",
      "                 precision    recall  f1-score   support\n",
      "\n",
      "         biopic       0.00      0.00      0.00       148\n",
      "        comédie       0.00      0.00      0.00       383\n",
      "   documentaire       0.00      0.00      0.00       127\n",
      "          drame       0.17      1.00      0.29       389\n",
      "     historique       0.00      0.00      0.00       135\n",
      "        horreur       0.00      0.00      0.00       240\n",
      "       policier       0.00      0.00      0.00       274\n",
      "        romance       0.00      0.00      0.00       365\n",
      "science fiction       0.00      0.00      0.00       239\n",
      "\n",
      "       accuracy                           0.17      2300\n",
      "      macro avg       0.02      0.11      0.03      2300\n",
      "   weighted avg       0.03      0.17      0.05      2300\n",
      "\n"
     ]
    },
    {
     "name": "stderr",
     "output_type": "stream",
     "text": [
      "/home/fabien/anaconda3/lib/python3.9/site-packages/sklearn/metrics/_classification.py:1318: UndefinedMetricWarning: Precision and F-score are ill-defined and being set to 0.0 in labels with no predicted samples. Use `zero_division` parameter to control this behavior.\n",
      "  _warn_prf(average, modifier, msg_start, len(result))\n",
      "/home/fabien/anaconda3/lib/python3.9/site-packages/sklearn/metrics/_classification.py:1318: UndefinedMetricWarning: Precision and F-score are ill-defined and being set to 0.0 in labels with no predicted samples. Use `zero_division` parameter to control this behavior.\n",
      "  _warn_prf(average, modifier, msg_start, len(result))\n",
      "/home/fabien/anaconda3/lib/python3.9/site-packages/sklearn/metrics/_classification.py:1318: UndefinedMetricWarning: Precision and F-score are ill-defined and being set to 0.0 in labels with no predicted samples. Use `zero_division` parameter to control this behavior.\n",
      "  _warn_prf(average, modifier, msg_start, len(result))\n"
     ]
    },
    {
     "name": "stdout",
     "output_type": "stream",
     "text": [
      "Mutinomial NB\n",
      "                 precision    recall  f1-score   support\n",
      "\n",
      "         biopic       0.70      0.13      0.22       148\n",
      "        comédie       0.38      0.55      0.45       383\n",
      "   documentaire       0.62      0.04      0.07       127\n",
      "          drame       0.29      0.49      0.36       389\n",
      "     historique       0.69      0.08      0.15       135\n",
      "        horreur       0.45      0.20      0.27       240\n",
      "       policier       0.58      0.47      0.52       274\n",
      "        romance       0.38      0.52      0.44       365\n",
      "science fiction       0.60      0.51      0.55       239\n",
      "\n",
      "       accuracy                           0.40      2300\n",
      "      macro avg       0.52      0.33      0.34      2300\n",
      "   weighted avg       0.47      0.40      0.38      2300\n",
      "\n",
      "CART\n",
      "                 precision    recall  f1-score   support\n",
      "\n",
      "         biopic       0.22      0.20      0.21       148\n",
      "        comédie       0.27      0.29      0.28       383\n",
      "   documentaire       0.19      0.17      0.18       127\n",
      "          drame       0.25      0.27      0.26       389\n",
      "     historique       0.20      0.18      0.19       135\n",
      "        horreur       0.26      0.23      0.25       240\n",
      "       policier       0.37      0.35      0.36       274\n",
      "        romance       0.29      0.30      0.29       365\n",
      "science fiction       0.29      0.31      0.30       239\n",
      "\n",
      "       accuracy                           0.27      2300\n",
      "      macro avg       0.26      0.26      0.26      2300\n",
      "   weighted avg       0.27      0.27      0.27      2300\n",
      "\n",
      "LR\n",
      "                 precision    recall  f1-score   support\n",
      "\n",
      "         biopic       0.53      0.22      0.31       148\n",
      "        comédie       0.37      0.51      0.43       383\n",
      "   documentaire       0.55      0.17      0.25       127\n",
      "          drame       0.30      0.43      0.35       389\n",
      "     historique       0.60      0.19      0.28       135\n",
      "        horreur       0.43      0.29      0.34       240\n",
      "       policier       0.52      0.49      0.50       274\n",
      "        romance       0.37      0.46      0.41       365\n",
      "science fiction       0.60      0.54      0.57       239\n",
      "\n",
      "       accuracy                           0.41      2300\n",
      "      macro avg       0.47      0.37      0.38      2300\n",
      "   weighted avg       0.44      0.41      0.40      2300\n",
      "\n",
      "KNN\n",
      "                 precision    recall  f1-score   support\n",
      "\n",
      "         biopic       0.31      0.11      0.17       148\n",
      "        comédie       0.17      0.75      0.28       383\n",
      "   documentaire       0.06      0.01      0.01       127\n",
      "          drame       0.28      0.01      0.02       389\n",
      "     historique       0.17      0.01      0.03       135\n",
      "        horreur       0.27      0.05      0.09       240\n",
      "       policier       0.33      0.03      0.06       274\n",
      "        romance       0.22      0.03      0.05       365\n",
      "science fiction       0.13      0.23      0.16       239\n",
      "\n",
      "       accuracy                           0.17      2300\n",
      "      macro avg       0.22      0.14      0.10      2300\n",
      "   weighted avg       0.22      0.17      0.11      2300\n",
      "\n",
      "Random forest\n",
      "                 precision    recall  f1-score   support\n",
      "\n",
      "         biopic       0.45      0.21      0.29       148\n",
      "        comédie       0.33      0.46      0.38       383\n",
      "   documentaire       0.43      0.15      0.22       127\n",
      "          drame       0.25      0.34      0.29       389\n",
      "     historique       0.46      0.16      0.24       135\n",
      "        horreur       0.49      0.23      0.31       240\n",
      "       policier       0.53      0.50      0.51       274\n",
      "        romance       0.35      0.47      0.40       365\n",
      "science fiction       0.51      0.49      0.50       239\n",
      "\n",
      "       accuracy                           0.37      2300\n",
      "      macro avg       0.42      0.33      0.35      2300\n",
      "   weighted avg       0.40      0.37      0.37      2300\n",
      "\n"
     ]
    },
    {
     "data": {
      "image/png": "[encoded data removed]",
      "text/plain": [
       "<Figure size 432x288 with 1 Axes>"
      ]
     },
     "metadata": {
      "needs_background": "light"
     },
     "output_type": "display_data"
    }
   ],
   "source": [
    "from sklearn.ensemble import RandomForestClassifier\n",
    "from sklearn.dummy import DummyClassifier\n",
    "from sklearn.tree import DecisionTreeClassifier\n",
    "from sklearn.naive_bayes import MultinomialNB\n",
    "from sklearn.neighbors import KNeighborsClassifier\n",
    "from sklearn.metrics import f1_score\n",
    "\n",
    "# Liste des modèles testés\n",
    "models = [\n",
    "    ('Baseline', DummyClassifier(strategy='most_frequent')),\n",
    "    ('Mutinomial NB', MultinomialNB()),\n",
    "    ('CART', DecisionTreeClassifier()),\n",
    "    ('LR', LogisticRegression()),\n",
    "    ('KNN', KNeighborsClassifier()),\n",
    "    ('Random forest', RandomForestClassifier())\n",
    "]\n",
    "\n",
    "# Evaluation de chaque résultat l'un après l'autre\n",
    "scores = []\n",
    "names = []\n",
    "scoring = 'macro F1'\n",
    "# Validation croisée à 5 plis\n",
    "kfold = model_selection.StratifiedKFold(n_splits=5, shuffle=True, random_state=12)\n",
    "# Itération sur les modèles\n",
    "for name, model in models:\n",
    "    # Ajout du nom du modèle à la liste name\n",
    "    names.append(name)\n",
    "    # Création de la pipeline pour le modèle\n",
    "    model_pipeline = make_pipeline(column_trans, model)\n",
    "    # Validation croisée\n",
    "    y_pred = model_selection.cross_val_predict(model_pipeline, X_train, y_train.values.flatten(), cv=kfold)\n",
    "    print(name)\n",
    "    print(classification_report(y_train, y_pred))\n",
    "    f1 = f1_score(y_train, y_pred, average='macro')\n",
    "    scores.append(f1)\n",
    "\n",
    "# Représentation graphique des résultats\n",
    "indices = np.arange(len(scores))\n",
    "fig = plt.figure()\n",
    "plt.barh(indices, scores, .2, label=\"score\", color='b')\n",
    "plt.yticks(())\n",
    "for i, c in zip(indices, names):\n",
    "    plt.text(-.3, i, c)\n",
    "plt.show()"
   ]
  },
  {
   "attachments": {},
   "cell_type": "markdown",
   "metadata": {},
   "source": [
    "Aucun des modèles testés n'obtient une précision supérieure à 0.4."
   ]
  },
  {
   "attachments": {},
   "cell_type": "markdown",
   "metadata": {},
   "source": [
    "## Rééquilibrage des Classes"
   ]
  },
  {
   "attachments": {},
   "cell_type": "markdown",
   "metadata": {},
   "source": [
    "**Remarque:** Ces résultats plutôt faibles sont peut-être dûs au déséquilibre des classes..."
   ]
  },
  {
   "attachments": {},
   "cell_type": "markdown",
   "metadata": {},
   "source": [
    "**A DEBUGGER**"
   ]
  },
  {
   "cell_type": "code",
   "execution_count": 90,
   "metadata": {},
   "outputs": [
    {
     "ename": "ValueError",
     "evalue": "The truth value of a Series is ambiguous. Use a.empty, a.bool(), a.item(), a.any() or a.all().",
     "output_type": "error",
     "traceback": [
      "\u001b[0;31m---------------------------------------------------------------------------\u001b[0m",
      "\u001b[0;31mValueError\u001b[0m                                Traceback (most recent call last)",
      "\u001b[1;32m/home/fabien/TPS/2A/Algorithmes du Texte/ProjetTAL/partie_1/partie_1.ipynb Cell 46\u001b[0m in \u001b[0;36m<cell line: 2>\u001b[0;34m()\u001b[0m\n\u001b[1;32m      <a href='vscode-notebook-cell:/home/fabien/TPS/2A/Algorithmes%20du%20Texte/ProjetTAL/partie_1/partie_1.ipynb#Y151sZmlsZQ%3D%3D?line=0'>1</a>\u001b[0m g \u001b[39m=\u001b[39m train_data\u001b[39m.\u001b[39mgroupby(\u001b[39m\"\u001b[39m\u001b[39mgenre\u001b[39m\u001b[39m\"\u001b[39m)\n\u001b[0;32m----> <a href='vscode-notebook-cell:/home/fabien/TPS/2A/Algorithmes%20du%20Texte/ProjetTAL/partie_1/partie_1.ipynb#Y151sZmlsZQ%3D%3D?line=1'>2</a>\u001b[0m g\u001b[39m.\u001b[39;49mapply(\u001b[39mlambda\u001b[39;49;00m x: x\u001b[39m.\u001b[39;49msample(g\u001b[39m.\u001b[39;49mvalue_counts())\u001b[39m.\u001b[39;49mreset_index(drop\u001b[39m=\u001b[39;49m\u001b[39mTrue\u001b[39;49;00m))\n",
      "File \u001b[0;32m~/anaconda3/lib/python3.9/site-packages/pandas/core/groupby/groupby.py:1414\u001b[0m, in \u001b[0;36mGroupBy.apply\u001b[0;34m(self, func, *args, **kwargs)\u001b[0m\n\u001b[1;32m   1412\u001b[0m \u001b[39mwith\u001b[39;00m option_context(\u001b[39m\"\u001b[39m\u001b[39mmode.chained_assignment\u001b[39m\u001b[39m\"\u001b[39m, \u001b[39mNone\u001b[39;00m):\n\u001b[1;32m   1413\u001b[0m     \u001b[39mtry\u001b[39;00m:\n\u001b[0;32m-> 1414\u001b[0m         result \u001b[39m=\u001b[39m \u001b[39mself\u001b[39;49m\u001b[39m.\u001b[39;49m_python_apply_general(f, \u001b[39mself\u001b[39;49m\u001b[39m.\u001b[39;49m_selected_obj)\n\u001b[1;32m   1415\u001b[0m     \u001b[39mexcept\u001b[39;00m \u001b[39mTypeError\u001b[39;00m:\n\u001b[1;32m   1416\u001b[0m         \u001b[39m# gh-20949\u001b[39;00m\n\u001b[1;32m   1417\u001b[0m         \u001b[39m# try again, with .apply acting as a filtering\u001b[39;00m\n\u001b[0;32m   (...)\u001b[0m\n\u001b[1;32m   1421\u001b[0m         \u001b[39m# fails on *some* columns, e.g. a numeric operation\u001b[39;00m\n\u001b[1;32m   1422\u001b[0m         \u001b[39m# on a string grouper column\u001b[39;00m\n\u001b[1;32m   1424\u001b[0m         \u001b[39mwith\u001b[39;00m \u001b[39mself\u001b[39m\u001b[39m.\u001b[39m_group_selection_context():\n",
      "File \u001b[0;32m~/anaconda3/lib/python3.9/site-packages/pandas/core/groupby/groupby.py:1455\u001b[0m, in \u001b[0;36mGroupBy._python_apply_general\u001b[0;34m(self, f, data, not_indexed_same)\u001b[0m\n\u001b[1;32m   1429\u001b[0m \u001b[39m@final\u001b[39m\n\u001b[1;32m   1430\u001b[0m \u001b[39mdef\u001b[39;00m \u001b[39m_python_apply_general\u001b[39m(\n\u001b[1;32m   1431\u001b[0m     \u001b[39mself\u001b[39m,\n\u001b[0;32m   (...)\u001b[0m\n\u001b[1;32m   1434\u001b[0m     not_indexed_same: \u001b[39mbool\u001b[39m \u001b[39m|\u001b[39m \u001b[39mNone\u001b[39;00m \u001b[39m=\u001b[39m \u001b[39mNone\u001b[39;00m,\n\u001b[1;32m   1435\u001b[0m ) \u001b[39m-\u001b[39m\u001b[39m>\u001b[39m DataFrame \u001b[39m|\u001b[39m Series:\n\u001b[1;32m   1436\u001b[0m     \u001b[39m\"\"\"\u001b[39;00m\n\u001b[1;32m   1437\u001b[0m \u001b[39m    Apply function f in python space\u001b[39;00m\n\u001b[1;32m   1438\u001b[0m \n\u001b[0;32m   (...)\u001b[0m\n\u001b[1;32m   1453\u001b[0m \u001b[39m        data after applying f\u001b[39;00m\n\u001b[1;32m   1454\u001b[0m \u001b[39m    \"\"\"\u001b[39;00m\n\u001b[0;32m-> 1455\u001b[0m     values, mutated \u001b[39m=\u001b[39m \u001b[39mself\u001b[39;49m\u001b[39m.\u001b[39;49mgrouper\u001b[39m.\u001b[39;49mapply(f, data, \u001b[39mself\u001b[39;49m\u001b[39m.\u001b[39;49maxis)\n\u001b[1;32m   1457\u001b[0m     \u001b[39mif\u001b[39;00m not_indexed_same \u001b[39mis\u001b[39;00m \u001b[39mNone\u001b[39;00m:\n\u001b[1;32m   1458\u001b[0m         not_indexed_same \u001b[39m=\u001b[39m mutated \u001b[39mor\u001b[39;00m \u001b[39mself\u001b[39m\u001b[39m.\u001b[39mmutated\n",
      "File \u001b[0;32m~/anaconda3/lib/python3.9/site-packages/pandas/core/groupby/ops.py:761\u001b[0m, in \u001b[0;36mBaseGrouper.apply\u001b[0;34m(self, f, data, axis)\u001b[0m\n\u001b[1;32m    759\u001b[0m \u001b[39m# group might be modified\u001b[39;00m\n\u001b[1;32m    760\u001b[0m group_axes \u001b[39m=\u001b[39m group\u001b[39m.\u001b[39maxes\n\u001b[0;32m--> 761\u001b[0m res \u001b[39m=\u001b[39m f(group)\n\u001b[1;32m    762\u001b[0m \u001b[39mif\u001b[39;00m \u001b[39mnot\u001b[39;00m mutated \u001b[39mand\u001b[39;00m \u001b[39mnot\u001b[39;00m _is_indexed_like(res, group_axes, axis):\n\u001b[1;32m    763\u001b[0m     mutated \u001b[39m=\u001b[39m \u001b[39mTrue\u001b[39;00m\n",
      "\u001b[1;32m/home/fabien/TPS/2A/Algorithmes du Texte/ProjetTAL/partie_1/partie_1.ipynb Cell 46\u001b[0m in \u001b[0;36m<lambda>\u001b[0;34m(x)\u001b[0m\n\u001b[1;32m      <a href='vscode-notebook-cell:/home/fabien/TPS/2A/Algorithmes%20du%20Texte/ProjetTAL/partie_1/partie_1.ipynb#Y151sZmlsZQ%3D%3D?line=0'>1</a>\u001b[0m g \u001b[39m=\u001b[39m train_data\u001b[39m.\u001b[39mgroupby(\u001b[39m\"\u001b[39m\u001b[39mgenre\u001b[39m\u001b[39m\"\u001b[39m)\n\u001b[0;32m----> <a href='vscode-notebook-cell:/home/fabien/TPS/2A/Algorithmes%20du%20Texte/ProjetTAL/partie_1/partie_1.ipynb#Y151sZmlsZQ%3D%3D?line=1'>2</a>\u001b[0m g\u001b[39m.\u001b[39mapply(\u001b[39mlambda\u001b[39;00m x: x\u001b[39m.\u001b[39;49msample(g\u001b[39m.\u001b[39;49mvalue_counts())\u001b[39m.\u001b[39mreset_index(drop\u001b[39m=\u001b[39m\u001b[39mTrue\u001b[39;00m))\n",
      "File \u001b[0;32m~/anaconda3/lib/python3.9/site-packages/pandas/core/generic.py:5438\u001b[0m, in \u001b[0;36mNDFrame.sample\u001b[0;34m(self, n, frac, replace, weights, random_state, axis, ignore_index)\u001b[0m\n\u001b[1;32m   5435\u001b[0m \u001b[39m# Process random_state argument\u001b[39;00m\n\u001b[1;32m   5436\u001b[0m rs \u001b[39m=\u001b[39m com\u001b[39m.\u001b[39mrandom_state(random_state)\n\u001b[0;32m-> 5438\u001b[0m size \u001b[39m=\u001b[39m sample\u001b[39m.\u001b[39;49mprocess_sampling_size(n, frac, replace)\n\u001b[1;32m   5439\u001b[0m \u001b[39mif\u001b[39;00m size \u001b[39mis\u001b[39;00m \u001b[39mNone\u001b[39;00m:\n\u001b[1;32m   5440\u001b[0m     \u001b[39massert\u001b[39;00m frac \u001b[39mis\u001b[39;00m \u001b[39mnot\u001b[39;00m \u001b[39mNone\u001b[39;00m\n",
      "File \u001b[0;32m~/anaconda3/lib/python3.9/site-packages/pandas/core/sample.py:94\u001b[0m, in \u001b[0;36mprocess_sampling_size\u001b[0;34m(n, frac, replace)\u001b[0m\n\u001b[1;32m     92\u001b[0m     \u001b[39mraise\u001b[39;00m \u001b[39mValueError\u001b[39;00m(\u001b[39m\"\u001b[39m\u001b[39mPlease enter a value for `frac` OR `n`, not both\u001b[39m\u001b[39m\"\u001b[39m)\n\u001b[1;32m     93\u001b[0m \u001b[39melif\u001b[39;00m n \u001b[39mis\u001b[39;00m \u001b[39mnot\u001b[39;00m \u001b[39mNone\u001b[39;00m:\n\u001b[0;32m---> 94\u001b[0m     \u001b[39mif\u001b[39;00m n \u001b[39m<\u001b[39m \u001b[39m0\u001b[39m:\n\u001b[1;32m     95\u001b[0m         \u001b[39mraise\u001b[39;00m \u001b[39mValueError\u001b[39;00m(\n\u001b[1;32m     96\u001b[0m             \u001b[39m\"\u001b[39m\u001b[39mA negative number of rows requested. Please provide `n` >= 0.\u001b[39m\u001b[39m\"\u001b[39m\n\u001b[1;32m     97\u001b[0m         )\n\u001b[1;32m     98\u001b[0m     \u001b[39mif\u001b[39;00m n \u001b[39m%\u001b[39m \u001b[39m1\u001b[39m \u001b[39m!=\u001b[39m \u001b[39m0\u001b[39m:\n",
      "File \u001b[0;32m~/anaconda3/lib/python3.9/site-packages/pandas/core/generic.py:1527\u001b[0m, in \u001b[0;36mNDFrame.__nonzero__\u001b[0;34m(self)\u001b[0m\n\u001b[1;32m   1525\u001b[0m \u001b[39m@final\u001b[39m\n\u001b[1;32m   1526\u001b[0m \u001b[39mdef\u001b[39;00m \u001b[39m__nonzero__\u001b[39m(\u001b[39mself\u001b[39m):\n\u001b[0;32m-> 1527\u001b[0m     \u001b[39mraise\u001b[39;00m \u001b[39mValueError\u001b[39;00m(\n\u001b[1;32m   1528\u001b[0m         \u001b[39mf\u001b[39m\u001b[39m\"\u001b[39m\u001b[39mThe truth value of a \u001b[39m\u001b[39m{\u001b[39;00m\u001b[39mtype\u001b[39m(\u001b[39mself\u001b[39m)\u001b[39m.\u001b[39m\u001b[39m__name__\u001b[39m\u001b[39m}\u001b[39;00m\u001b[39m is ambiguous. \u001b[39m\u001b[39m\"\u001b[39m\n\u001b[1;32m   1529\u001b[0m         \u001b[39m\"\u001b[39m\u001b[39mUse a.empty, a.bool(), a.item(), a.any() or a.all().\u001b[39m\u001b[39m\"\u001b[39m\n\u001b[1;32m   1530\u001b[0m     )\n",
      "\u001b[0;31mValueError\u001b[0m: The truth value of a Series is ambiguous. Use a.empty, a.bool(), a.item(), a.any() or a.all()."
     ]
    }
   ],
   "source": [
    "g = train_data.groupby(\"genre\")\n",
    "g.apply(lambda x: x.sample(g.value_counts()).reset_index(drop=True))\n",
    "# g.apply(lambda x: x.sample(g.size().min()).reset_index(drop=True))"
   ]
  },
  {
   "cell_type": "code",
   "execution_count": 83,
   "metadata": {},
   "outputs": [
    {
     "data": {
      "text/plain": [
       "genre            genre          \n",
       "biopic           biopic             191\n",
       "comédie          comédie            483\n",
       "documentaire     documentaire       167\n",
       "drame            drame              501\n",
       "historique       historique         162\n",
       "horreur          horreur            299\n",
       "policier         policier           331\n",
       "romance          romance            443\n",
       "science fiction  science fiction    298\n",
       "Name: genre, dtype: int64"
      ]
     },
     "execution_count": 83,
     "metadata": {},
     "output_type": "execute_result"
    }
   ],
   "source": [
    "g[\"genre\"].value_counts()"
   ]
  },
  {
   "cell_type": "code",
   "execution_count": 61,
   "metadata": {},
   "outputs": [
    {
     "data": {
      "text/html": [
       "<div>\n",
       "<style scoped>\n",
       "    .dataframe tbody tr th:only-of-type {\n",
       "        vertical-align: middle;\n",
       "    }\n",
       "\n",
       "    .dataframe tbody tr th {\n",
       "        vertical-align: top;\n",
       "    }\n",
       "\n",
       "    .dataframe thead tr th {\n",
       "        text-align: left;\n",
       "    }\n",
       "\n",
       "    .dataframe thead tr:last-of-type th {\n",
       "        text-align: right;\n",
       "    }\n",
       "</style>\n",
       "<table border=\"1\" class=\"dataframe\">\n",
       "  <thead>\n",
       "    <tr>\n",
       "      <th></th>\n",
       "      <th colspan=\"4\" halign=\"left\">titre</th>\n",
       "      <th colspan=\"4\" halign=\"left\">synopsis</th>\n",
       "    </tr>\n",
       "    <tr>\n",
       "      <th></th>\n",
       "      <th>count</th>\n",
       "      <th>unique</th>\n",
       "      <th>top</th>\n",
       "      <th>freq</th>\n",
       "      <th>count</th>\n",
       "      <th>unique</th>\n",
       "      <th>top</th>\n",
       "      <th>freq</th>\n",
       "    </tr>\n",
       "    <tr>\n",
       "      <th>genre</th>\n",
       "      <th></th>\n",
       "      <th></th>\n",
       "      <th></th>\n",
       "      <th></th>\n",
       "      <th></th>\n",
       "      <th></th>\n",
       "      <th></th>\n",
       "      <th></th>\n",
       "    </tr>\n",
       "  </thead>\n",
       "  <tbody>\n",
       "    <tr>\n",
       "      <th>biopic</th>\n",
       "      <td>191</td>\n",
       "      <td>190</td>\n",
       "      <td>Invincible</td>\n",
       "      <td>2</td>\n",
       "      <td>191</td>\n",
       "      <td>191</td>\n",
       "      <td>L' histoire vraie de Carl Brashear , premier A...</td>\n",
       "      <td>1</td>\n",
       "    </tr>\n",
       "    <tr>\n",
       "      <th>comédie</th>\n",
       "      <td>483</td>\n",
       "      <td>483</td>\n",
       "      <td>Brüno</td>\n",
       "      <td>1</td>\n",
       "      <td>483</td>\n",
       "      <td>483</td>\n",
       "      <td>Les aventures du personnage de Bruno , un homo...</td>\n",
       "      <td>1</td>\n",
       "    </tr>\n",
       "    <tr>\n",
       "      <th>documentaire</th>\n",
       "      <td>167</td>\n",
       "      <td>167</td>\n",
       "      <td>Makala</td>\n",
       "      <td>1</td>\n",
       "      <td>167</td>\n",
       "      <td>167</td>\n",
       "      <td>Au Congo , un jeune villageois espère offrir u...</td>\n",
       "      <td>1</td>\n",
       "    </tr>\n",
       "    <tr>\n",
       "      <th>drame</th>\n",
       "      <td>501</td>\n",
       "      <td>498</td>\n",
       "      <td>La Ballade de Narayama</td>\n",
       "      <td>2</td>\n",
       "      <td>501</td>\n",
       "      <td>501</td>\n",
       "      <td>Un jeune homme d' origine modeste est accusé d...</td>\n",
       "      <td>1</td>\n",
       "    </tr>\n",
       "    <tr>\n",
       "      <th>historique</th>\n",
       "      <td>162</td>\n",
       "      <td>161</td>\n",
       "      <td>Le Vent se lève</td>\n",
       "      <td>2</td>\n",
       "      <td>162</td>\n",
       "      <td>162</td>\n",
       "      <td>L' évènement militaire qui va mettre fin à la ...</td>\n",
       "      <td>1</td>\n",
       "    </tr>\n",
       "    <tr>\n",
       "      <th>horreur</th>\n",
       "      <td>299</td>\n",
       "      <td>294</td>\n",
       "      <td>Massacre à la tronçonneuse</td>\n",
       "      <td>2</td>\n",
       "      <td>299</td>\n",
       "      <td>299</td>\n",
       "      <td>Seule survivante d' un carnage sur une planète...</td>\n",
       "      <td>1</td>\n",
       "    </tr>\n",
       "    <tr>\n",
       "      <th>policier</th>\n",
       "      <td>331</td>\n",
       "      <td>328</td>\n",
       "      <td>Le Crime de l' Orient - Express</td>\n",
       "      <td>2</td>\n",
       "      <td>331</td>\n",
       "      <td>331</td>\n",
       "      <td>En visite à Istanbul , le célèbre détective be...</td>\n",
       "      <td>1</td>\n",
       "    </tr>\n",
       "    <tr>\n",
       "      <th>romance</th>\n",
       "      <td>443</td>\n",
       "      <td>442</td>\n",
       "      <td>Orgueil et préjugés</td>\n",
       "      <td>2</td>\n",
       "      <td>443</td>\n",
       "      <td>443</td>\n",
       "      <td>Un vagabond s’ éprend d’ une belle et jeune ve...</td>\n",
       "      <td>1</td>\n",
       "    </tr>\n",
       "    <tr>\n",
       "      <th>science fiction</th>\n",
       "      <td>298</td>\n",
       "      <td>293</td>\n",
       "      <td>Akira</td>\n",
       "      <td>2</td>\n",
       "      <td>298</td>\n",
       "      <td>298</td>\n",
       "      <td>Dans un futur proche , une espèce extraterrest...</td>\n",
       "      <td>1</td>\n",
       "    </tr>\n",
       "  </tbody>\n",
       "</table>\n",
       "</div>"
      ],
      "text/plain": [
       "                titre                                              synopsis  \\\n",
       "                count unique                              top freq    count   \n",
       "genre                                                                         \n",
       "biopic            191    190                       Invincible    2      191   \n",
       "comédie           483    483                            Brüno    1      483   \n",
       "documentaire      167    167                           Makala    1      167   \n",
       "drame             501    498           La Ballade de Narayama    2      501   \n",
       "historique        162    161                  Le Vent se lève    2      162   \n",
       "horreur           299    294       Massacre à la tronçonneuse    2      299   \n",
       "policier          331    328  Le Crime de l' Orient - Express    2      331   \n",
       "romance           443    442              Orgueil et préjugés    2      443   \n",
       "science fiction   298    293                            Akira    2      298   \n",
       "\n",
       "                                                                                \n",
       "                unique                                                top freq  \n",
       "genre                                                                           \n",
       "biopic             191  L' histoire vraie de Carl Brashear , premier A...    1  \n",
       "comédie            483  Les aventures du personnage de Bruno , un homo...    1  \n",
       "documentaire       167  Au Congo , un jeune villageois espère offrir u...    1  \n",
       "drame              501  Un jeune homme d' origine modeste est accusé d...    1  \n",
       "historique         162  L' évènement militaire qui va mettre fin à la ...    1  \n",
       "horreur            299  Seule survivante d' un carnage sur une planète...    1  \n",
       "policier           331  En visite à Istanbul , le célèbre détective be...    1  \n",
       "romance            443  Un vagabond s’ éprend d’ une belle et jeune ve...    1  \n",
       "science fiction    298  Dans un futur proche , une espèce extraterrest...    1  "
      ]
     },
     "execution_count": 61,
     "metadata": {},
     "output_type": "execute_result"
    }
   ],
   "source": [
    "g.describe()"
   ]
  },
  {
   "cell_type": "code",
   "execution_count": 59,
   "metadata": {},
   "outputs": [],
   "source": [
    "X_train, X_test, y_train, y_test = train_test_split(train_data[[\"titre\", \"synopsis\"]],\n",
    "                                                    train_data[[\"genre\"]],\n",
    "                                                    test_size=0.2,\n",
    "                                                    random_state=66, # Random seed for shuffle\n",
    "                                                    shuffle=True)"
   ]
  },
  {
   "cell_type": "code",
   "execution_count": 60,
   "metadata": {},
   "outputs": [
    {
     "name": "stdout",
     "output_type": "stream",
     "text": [
      "Baseline\n",
      "                 precision    recall  f1-score   support\n",
      "\n",
      "         biopic       0.00      0.00      0.00       148\n",
      "        comédie       0.00      0.00      0.00       383\n",
      "   documentaire       0.00      0.00      0.00       127\n",
      "          drame       0.17      1.00      0.29       389\n",
      "     historique       0.00      0.00      0.00       135\n",
      "        horreur       0.00      0.00      0.00       240\n",
      "       policier       0.00      0.00      0.00       274\n",
      "        romance       0.00      0.00      0.00       365\n",
      "science fiction       0.00      0.00      0.00       239\n",
      "\n",
      "       accuracy                           0.17      2300\n",
      "      macro avg       0.02      0.11      0.03      2300\n",
      "   weighted avg       0.03      0.17      0.05      2300\n",
      "\n"
     ]
    },
    {
     "name": "stderr",
     "output_type": "stream",
     "text": [
      "/home/fabien/anaconda3/lib/python3.9/site-packages/sklearn/metrics/_classification.py:1318: UndefinedMetricWarning: Precision and F-score are ill-defined and being set to 0.0 in labels with no predicted samples. Use `zero_division` parameter to control this behavior.\n",
      "  _warn_prf(average, modifier, msg_start, len(result))\n",
      "/home/fabien/anaconda3/lib/python3.9/site-packages/sklearn/metrics/_classification.py:1318: UndefinedMetricWarning: Precision and F-score are ill-defined and being set to 0.0 in labels with no predicted samples. Use `zero_division` parameter to control this behavior.\n",
      "  _warn_prf(average, modifier, msg_start, len(result))\n",
      "/home/fabien/anaconda3/lib/python3.9/site-packages/sklearn/metrics/_classification.py:1318: UndefinedMetricWarning: Precision and F-score are ill-defined and being set to 0.0 in labels with no predicted samples. Use `zero_division` parameter to control this behavior.\n",
      "  _warn_prf(average, modifier, msg_start, len(result))\n"
     ]
    },
    {
     "name": "stdout",
     "output_type": "stream",
     "text": [
      "Mutinomial NB\n",
      "                 precision    recall  f1-score   support\n",
      "\n",
      "         biopic       0.70      0.13      0.22       148\n",
      "        comédie       0.38      0.55      0.45       383\n",
      "   documentaire       0.62      0.04      0.07       127\n",
      "          drame       0.29      0.49      0.36       389\n",
      "     historique       0.69      0.08      0.15       135\n",
      "        horreur       0.45      0.20      0.27       240\n",
      "       policier       0.58      0.47      0.52       274\n",
      "        romance       0.38      0.52      0.44       365\n",
      "science fiction       0.60      0.51      0.55       239\n",
      "\n",
      "       accuracy                           0.40      2300\n",
      "      macro avg       0.52      0.33      0.34      2300\n",
      "   weighted avg       0.47      0.40      0.38      2300\n",
      "\n",
      "CART\n",
      "                 precision    recall  f1-score   support\n",
      "\n",
      "         biopic       0.23      0.23      0.23       148\n",
      "        comédie       0.27      0.30      0.28       383\n",
      "   documentaire       0.15      0.17      0.16       127\n",
      "          drame       0.24      0.25      0.25       389\n",
      "     historique       0.20      0.15      0.17       135\n",
      "        horreur       0.27      0.21      0.23       240\n",
      "       policier       0.36      0.35      0.35       274\n",
      "        romance       0.28      0.31      0.30       365\n",
      "science fiction       0.31      0.32      0.31       239\n",
      "\n",
      "       accuracy                           0.27      2300\n",
      "      macro avg       0.26      0.25      0.25      2300\n",
      "   weighted avg       0.27      0.27      0.27      2300\n",
      "\n",
      "LR\n",
      "                 precision    recall  f1-score   support\n",
      "\n",
      "         biopic       0.53      0.22      0.31       148\n",
      "        comédie       0.37      0.51      0.43       383\n",
      "   documentaire       0.55      0.17      0.25       127\n",
      "          drame       0.30      0.43      0.35       389\n",
      "     historique       0.60      0.19      0.28       135\n",
      "        horreur       0.43      0.29      0.34       240\n",
      "       policier       0.52      0.49      0.50       274\n",
      "        romance       0.37      0.46      0.41       365\n",
      "science fiction       0.60      0.54      0.57       239\n",
      "\n",
      "       accuracy                           0.41      2300\n",
      "      macro avg       0.47      0.37      0.38      2300\n",
      "   weighted avg       0.44      0.41      0.40      2300\n",
      "\n",
      "KNN\n",
      "                 precision    recall  f1-score   support\n",
      "\n",
      "         biopic       0.31      0.11      0.17       148\n",
      "        comédie       0.17      0.75      0.28       383\n",
      "   documentaire       0.06      0.01      0.01       127\n",
      "          drame       0.28      0.01      0.02       389\n",
      "     historique       0.17      0.01      0.03       135\n",
      "        horreur       0.27      0.05      0.09       240\n",
      "       policier       0.33      0.03      0.06       274\n",
      "        romance       0.22      0.03      0.05       365\n",
      "science fiction       0.13      0.23      0.16       239\n",
      "\n",
      "       accuracy                           0.17      2300\n",
      "      macro avg       0.22      0.14      0.10      2300\n",
      "   weighted avg       0.22      0.17      0.11      2300\n",
      "\n",
      "Random forest\n",
      "                 precision    recall  f1-score   support\n",
      "\n",
      "         biopic       0.43      0.20      0.28       148\n",
      "        comédie       0.32      0.46      0.38       383\n",
      "   documentaire       0.42      0.12      0.18       127\n",
      "          drame       0.28      0.37      0.32       389\n",
      "     historique       0.44      0.18      0.25       135\n",
      "        horreur       0.44      0.21      0.29       240\n",
      "       policier       0.50      0.48      0.49       274\n",
      "        romance       0.36      0.46      0.40       365\n",
      "science fiction       0.53      0.49      0.51       239\n",
      "\n",
      "       accuracy                           0.37      2300\n",
      "      macro avg       0.41      0.33      0.34      2300\n",
      "   weighted avg       0.39      0.37      0.36      2300\n",
      "\n"
     ]
    },
    {
     "data": {
      "image/png": "[encoded data removed]",
      "text/plain": [
       "<Figure size 432x288 with 1 Axes>"
      ]
     },
     "metadata": {
      "needs_background": "light"
     },
     "output_type": "display_data"
    }
   ],
   "source": [
    "models = [\n",
    "    ('Baseline', DummyClassifier(strategy='most_frequent')),\n",
    "    ('Mutinomial NB', MultinomialNB()),\n",
    "    ('CART', DecisionTreeClassifier()),\n",
    "    ('LR', LogisticRegression()),\n",
    "    ('KNN', KNeighborsClassifier()),\n",
    "    ('Random forest', RandomForestClassifier())\n",
    "]\n",
    "\n",
    "# Evaluation de chaque résultat l'un après l'autre\n",
    "scores = []\n",
    "names = []\n",
    "scoring = 'macro F1'\n",
    "# Validation croisée à 5 plis\n",
    "kfold = model_selection.StratifiedKFold(n_splits=5, shuffle=True, random_state=12)\n",
    "# Itération sur les modèles\n",
    "for name, model in models:\n",
    "    # Ajout du nom du modèle à la liste name\n",
    "    names.append(name)\n",
    "    # Création de la pipeline pour le modèle\n",
    "    model_pipeline = make_pipeline(column_trans, model)\n",
    "    # Validation croisée\n",
    "    y_pred = model_selection.cross_val_predict(model_pipeline, \n",
    "                                               X_train, y_train.values.flatten(), \n",
    "                                               cv=kfold)\n",
    "    print(name)\n",
    "    print(classification_report(y_train, y_pred))\n",
    "    f1 = f1_score(y_train, y_pred, average='macro')\n",
    "    scores.append(f1)\n",
    "\n",
    "# Représentation graphique des résultats\n",
    "indices = np.arange(len(scores))\n",
    "fig = plt.figure()\n",
    "plt.barh(indices, scores, .2, label=\"score\", color='b')\n",
    "plt.yticks(())\n",
    "for i, c in zip(indices, names):\n",
    "    plt.text(-.3, i, c)\n",
    "plt.show()"
   ]
  }
 ],
 "metadata": {
  "kernelspec": {
   "display_name": "base",
   "language": "python",
   "name": "python3"
  },
  "language_info": {
   "codemirror_mode": {
    "name": "ipython",
    "version": 3
   },
   "file_extension": ".py",
   "mimetype": "text/x-python",
   "name": "python",
   "nbconvert_exporter": "python",
   "pygments_lexer": "ipython3",
   "version": "3.9.12"
  },
  "orig_nbformat": 4
 },
 "nbformat": 4,
 "nbformat_minor": 2
}
