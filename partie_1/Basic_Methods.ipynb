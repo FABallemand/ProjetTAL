{
 "cells": [
  {
   "cell_type": "code",
   "execution_count": 1,
   "metadata": {},
   "outputs": [],
   "source": [
    "import pandas as pd\n",
    "import numpy as np\n",
    "\n",
    "import matplotlib.pyplot as plt\n",
    "from imblearn.over_sampling import RandomOverSampler\n",
    "from imblearn.under_sampling import RandomUnderSampler"
   ]
  },
  {
   "attachments": {},
   "cell_type": "markdown",
   "metadata": {},
   "source": [
    "# Premières Méthodes"
   ]
  },
  {
   "attachments": {},
   "cell_type": "markdown",
   "metadata": {},
   "source": [
    "## Chargement des Données"
   ]
  },
  {
   "cell_type": "code",
   "execution_count": 2,
   "metadata": {},
   "outputs": [],
   "source": [
    "# Données d'entrainement\n",
    "train_data_complete = pd.read_csv(\"../data/allocine_genres_train.csv\", sep=\",\")\n",
    "train_data = train_data_complete[[\"titre\", \"synopsis\", \"genre\"]]\n",
    "\n",
    "# Données de test/validation\n",
    "test_data_complete = pd.read_csv(\"../data/allocine_genres_test.csv\", sep=\",\")\n",
    "trest_data = test_data_complete[[\"titre\", \"synopsis\", \"genre\"]]"
   ]
  },
  {
   "cell_type": "code",
   "execution_count": 3,
   "metadata": {},
   "outputs": [],
   "source": [
    "X = train_data.drop('genre', axis=1)\n",
    "y = train_data['genre']\n",
    "\n",
    "# Initialize the RandomOverSampler\n",
    "ros = RandomOverSampler()\n",
    "#ros = RandomUnderSampler()\n",
    "\n",
    "\n",
    "# Perform oversampling\n",
    "X_resampled, y_resampled = ros.fit_resample(X, y)\n",
    "\n",
    "# Convert the resampled data back to a DataFrame\n",
    "train_data = pd.concat([pd.DataFrame(X_resampled, columns=X.columns), pd.Series(y_resampled, name='genre')], axis=1)"
   ]
  },
  {
   "attachments": {},
   "cell_type": "markdown",
   "metadata": {},
   "source": [
    "## Pré-Traitement des Données\n",
    "\n",
    "Comme vu précédemment, les paramètres que nous souhaitons utiliser (*titre*, *synopsis*, *genre*) ne comportent **pas de valeurs manquantes** donc nous n'avons pas besoin d'éliminer d'individus des données d'entrainement.\n",
    "\n",
    "Nous remarquons aussi que **les données sont déjà tokénisées**. Tous les tokens sont séparés par des espaces.\n",
    "\n",
    "Cependant, nous pouvons utiliser un transformer pour obtenir des informations statistiques concernant le *synopsis*.\n",
    "\n",
    "**Remarque:** On normalise ces informations statistiques afin qu'elles aient toutes le même poids lors de la classification."
   ]
  },
  {
   "cell_type": "code",
   "execution_count": 4,
   "metadata": {},
   "outputs": [
    {
     "name": "stderr",
     "output_type": "stream",
     "text": [
      "2023-04-25 17:45:00.838578: I tensorflow/core/util/port.cc:110] oneDNN custom operations are on. You may see slightly different numerical results due to floating-point round-off errors from different computation orders. To turn them off, set the environment variable `TF_ENABLE_ONEDNN_OPTS=0`.\n",
      "2023-04-25 17:45:00.865523: I tensorflow/tsl/cuda/cudart_stub.cc:28] Could not find cuda drivers on your machine, GPU will not be used.\n",
      "2023-04-25 17:45:00.988190: I tensorflow/tsl/cuda/cudart_stub.cc:28] Could not find cuda drivers on your machine, GPU will not be used.\n",
      "2023-04-25 17:45:00.988970: I tensorflow/core/platform/cpu_feature_guard.cc:182] This TensorFlow binary is optimized to use available CPU instructions in performance-critical operations.\n",
      "To enable the following instructions: AVX2 AVX512F AVX512_VNNI FMA, in other operations, rebuild TensorFlow with the appropriate compiler flags.\n",
      "2023-04-25 17:45:01.723443: W tensorflow/compiler/tf2tensorrt/utils/py_utils.cc:38] TF-TRT Warning: Could not find TensorRT\n"
     ]
    }
   ],
   "source": [
    "import string\n",
    "from spacy.lang.fr.stop_words import STOP_WORDS as fr_stop\n",
    "from spacy.lang.fr.stop_words import STOP_WORDS as en_stop\n",
    "\n",
    "from sklearn.feature_extraction.text import TfidfVectorizer\n",
    "\n",
    "def transform_into_token_list(synopsis):\n",
    "    return synopsis.split(\" \")\n",
    "\n",
    "synopsis_stopwords = list(fr_stop) + list(string.punctuation)\n",
    "title_stopwords = list(fr_stop) + list(en_stop) + list(string.punctuation)\n",
    "\n",
    "\n",
    "titre_vectorizer = TfidfVectorizer(tokenizer=transform_into_token_list, \n",
    "                                   lowercase=True, \n",
    "                                   stop_words=title_stopwords, \n",
    "                                   min_df=0.01)\n",
    "\n",
    "# Objet TfidfVectorizer\n",
    "synopsis_vectorizer = TfidfVectorizer(tokenizer=transform_into_token_list, \n",
    "                                      lowercase=True, \n",
    "                                      stop_words=synopsis_stopwords, \n",
    "                                      min_df=0.01)"
   ]
  },
  {
   "cell_type": "code",
   "execution_count": 5,
   "metadata": {},
   "outputs": [
    {
     "data": {
      "text/plain": [
       "['celles',\n",
       " 'malgre',\n",
       " 'nul',\n",
       " 'té',\n",
       " 'onzième',\n",
       " 'pour',\n",
       " 'peux',\n",
       " 'doit',\n",
       " 'des',\n",
       " 'deuxièmement',\n",
       " 'la',\n",
       " 'debout',\n",
       " 'quatre-vingt',\n",
       " 'excepté',\n",
       " 'tenir']"
      ]
     },
     "execution_count": 5,
     "metadata": {},
     "output_type": "execute_result"
    }
   ],
   "source": [
    "synopsis_stopwords[:15]"
   ]
  },
  {
   "attachments": {},
   "cell_type": "markdown",
   "metadata": {},
   "source": [
    "En tant qu'humain, certains stop words nous semblent importants..."
   ]
  },
  {
   "cell_type": "code",
   "execution_count": 6,
   "metadata": {},
   "outputs": [
    {
     "name": "stdout",
     "output_type": "stream",
     "text": [
      "Input descriptions\n",
      "0    En visite à Istanbul , le célèbre détective be...\n",
      "1    Un jeune homme d' origine modeste est accusé d...\n",
      "2    Lorsque Marie-Laure , mère de quatre jeunes en...\n",
      "3    Un vagabond s’ éprend d’ une belle et jeune ve...\n",
      "4    L' histoire vraie de Carl Brashear , premier A...\n",
      "Name: synopsis, dtype: object\n",
      "Output statistics\n",
      "   length  num_sentences\n",
      "0   677.0            4.0\n",
      "1   460.0            4.0\n",
      "2   560.0            4.0\n",
      "3   233.0            4.0\n",
      "4   340.0            2.0\n",
      "Before MinMax scaling\n",
      "[[677.   4.]\n",
      " [460.   4.]\n",
      " [560.   4.]\n",
      " [233.   4.]\n",
      " [340.   2.]]\n",
      "After MinMax scaling\n",
      "[[1.         1.        ]\n",
      " [0.51126126 1.        ]\n",
      " [0.73648649 1.        ]\n",
      " [0.         1.        ]\n",
      " [0.24099099 0.        ]]\n"
     ]
    },
    {
     "name": "stderr",
     "output_type": "stream",
     "text": [
      "/usr/local/lib/python3.10/dist-packages/sklearn/utils/deprecation.py:87: FutureWarning: Function get_feature_names is deprecated; get_feature_names is deprecated in 1.0 and will be removed in 1.2. Please use get_feature_names_out instead.\n",
      "  warnings.warn(msg, category=FutureWarning)\n"
     ]
    }
   ],
   "source": [
    "from sklearn.feature_extraction import DictVectorizer\n",
    "from sklearn.preprocessing import FunctionTransformer, MinMaxScaler\n",
    "\n",
    "# Source: https://scikit-learn.org/stable/auto_examples/compose/plot_column_transformer.html\n",
    "def text_stats(descriptions):\n",
    "    return [{\"length\": len(text), \"num_sentences\": text.count(\".\")} for text in descriptions]\n",
    "\n",
    "text_stats_transformer = FunctionTransformer(text_stats)\n",
    "text_stats_vectorizer = DictVectorizer(sparse=False)\n",
    "\n",
    "res_dict = text_stats_transformer.transform(train_data.synopsis.head())\n",
    "res_stats = text_stats_vectorizer.fit_transform(res_dict)\n",
    "print(\"Input descriptions\")\n",
    "print(train_data.synopsis.head())\n",
    "print(\"Output statistics\")\n",
    "stats = pd.DataFrame(res_stats, columns=text_stats_vectorizer.get_feature_names())\n",
    "print(stats)\n",
    "\n",
    "min_max_scaler = MinMaxScaler()\n",
    "scaled_stats = min_max_scaler.fit_transform(res_stats)\n",
    "\n",
    "print(\"Before MinMax scaling\")\n",
    "print(res_stats)\n",
    "print(\"After MinMax scaling\")\n",
    "print(scaled_stats)"
   ]
  },
  {
   "attachments": {},
   "cell_type": "markdown",
   "metadata": {},
   "source": [
    "L'utilisation de *MinMaxScaler* permet de ne pas donner plus de poids à l'une des valeurs obtenues, ce qui pourrait affecter la classification.\n",
    "\n",
    "On peut créer une *Pipeline* qui effectue l'ensemble des transformation sur le jeu de données."
   ]
  },
  {
   "cell_type": "code",
   "execution_count": 7,
   "metadata": {},
   "outputs": [],
   "source": [
    "from sklearn.compose import ColumnTransformer\n",
    "from sklearn.pipeline import Pipeline\n",
    "\n",
    "column_trans = ColumnTransformer(\n",
    "    [\n",
    "        # Titre: tf-idf\n",
    "        (\"titre_tfidf\", titre_vectorizer, \"titre\"),\n",
    "        # Synopsis: tf-idf\n",
    "        (\"synopsis_tfidf\", synopsis_vectorizer, \"synopsis\"),\n",
    "        # Synopsis: statistiques\n",
    "        (\n",
    "            \"synopsis_stats\",\n",
    "            Pipeline(\n",
    "                [\n",
    "                    (\"text_stats\", text_stats_transformer),\n",
    "                    (\"vect\", text_stats_vectorizer),\n",
    "                    (\"scaling\", min_max_scaler)\n",
    "                ]\n",
    "            ), \n",
    "            \"synopsis\"\n",
    "        )\n",
    "    ],\n",
    "    # Others\n",
    "    remainder=\"passthrough\"\n",
    ")"
   ]
  },
  {
   "cell_type": "code",
   "execution_count": 8,
   "metadata": {},
   "outputs": [
    {
     "data": {
      "text/plain": [
       "ColumnTransformer(remainder='passthrough',\n",
       "                  transformers=[('titre_tfidf',\n",
       "                                 TfidfVectorizer(min_df=0.01,\n",
       "                                                 stop_words=['celles', 'malgre',\n",
       "                                                             'nul', 'té',\n",
       "                                                             'onzième', 'pour',\n",
       "                                                             'peux', 'doit',\n",
       "                                                             'des',\n",
       "                                                             'deuxièmement',\n",
       "                                                             'la', 'debout',\n",
       "                                                             'quatre-vingt',\n",
       "                                                             'excepté', 'tenir',\n",
       "                                                             'vous-mêmes', 'va',\n",
       "                                                             'précisement',\n",
       "                                                             'ça', 'deux',\n",
       "                                                             'sent', 'étaient',\n",
       "                                                             'c’', 'déja',\n",
       "                                                             'etais',\n",
       "                                                             'elle-même',\n",
       "                                                             'tous', 'doivent',\n",
       "                                                             '...\n",
       "                                                             'sent', 'étaient',\n",
       "                                                             'c’', 'déja',\n",
       "                                                             'etais',\n",
       "                                                             'elle-même',\n",
       "                                                             'tous', 'doivent',\n",
       "                                                             'stop', 'dits', ...],\n",
       "                                                 tokenizer=<function transform_into_token_list at 0x7f37ee2624d0>),\n",
       "                                 'synopsis'),\n",
       "                                ('synopsis_stats',\n",
       "                                 Pipeline(steps=[('text_stats',\n",
       "                                                  FunctionTransformer(func=<function text_stats at 0x7f37a807bac0>)),\n",
       "                                                 ('vect',\n",
       "                                                  DictVectorizer(sparse=False)),\n",
       "                                                 ('scaling', MinMaxScaler())]),\n",
       "                                 'synopsis')])"
      ]
     },
     "execution_count": 8,
     "metadata": {},
     "output_type": "execute_result"
    }
   ],
   "source": [
    "column_trans"
   ]
  },
  {
   "attachments": {},
   "cell_type": "markdown",
   "metadata": {},
   "source": [
    "## Création des Jeux d'Entrainement et de Test\n",
    "\n",
    "Afin de ne pas biaiser le résultat de nos recherches nous n'utiliserons le fichier *allocine_genres_test.csv* uniquement lorsque nous aurons définitivement choisit le classifier. Nous n'utiliserons donc pas *test_data_complete* et *test_data* dans cette section.\n",
    "\n",
    "Afin de tester et évaluer différents algorithmes nous devons donc créer des jeux de données d'entrainement et de test issus des données d'entrainement (*train_data*). Pour cela nous utilisons la fonction *train_test_split* de la librairie **scikit-learn** en choisissant 20% des données pour créer le jeu de test en prenant soin de mélanger les données (cela perment d'éviter tout biais d'apprentissage: entrainer le classifier unioquement sur les films du XXème siècle).\n",
    "\n",
    "Nous obtenons donc 4 jeux de données:\n",
    "- X_train: Titre et synopsis pour entrainement  \n",
    "- y_train: Genre pour entrainement (label)  \n",
    "- X_test: Titre et synopsis pour test  \n",
    "- y_test: Genre pour test (label)  "
   ]
  },
  {
   "cell_type": "code",
   "execution_count": 9,
   "metadata": {},
   "outputs": [],
   "source": [
    "from sklearn.model_selection import train_test_split\n",
    "\n",
    "X_train, X_test, y_train, y_test = train_test_split(train_data[[\"titre\", \"synopsis\"]],\n",
    "                                                    train_data[[\"genre\"]],\n",
    "                                                    test_size=0.2,\n",
    "                                                    random_state=12, # Random seed for shuffle\n",
    "                                                    shuffle=True)"
   ]
  },
  {
   "attachments": {},
   "cell_type": "markdown",
   "metadata": {},
   "source": [
    "## Apprentissage"
   ]
  },
  {
   "cell_type": "code",
   "execution_count": 10,
   "metadata": {},
   "outputs": [],
   "source": [
    "from sklearn.pipeline import make_pipeline\n",
    "from sklearn.linear_model import LogisticRegression\n",
    "\n",
    "# Pipeline pré-traitement et apprentissage\n",
    "classifier_pipeline = make_pipeline(\n",
    "    # Préparation des données pour l'apprentissage\n",
    "    column_trans,\n",
    "    # Algorithme d'apprentissage\n",
    "    LogisticRegression()\n",
    ")"
   ]
  },
  {
   "cell_type": "code",
   "execution_count": 11,
   "metadata": {},
   "outputs": [
    {
     "name": "stderr",
     "output_type": "stream",
     "text": [
      "/usr/local/lib/python3.10/dist-packages/sklearn/utils/validation.py:993: DataConversionWarning: A column-vector y was passed when a 1d array was expected. Please change the shape of y to (n_samples, ), for example using ravel().\n",
      "  y = column_or_1d(y, warn=True)\n"
     ]
    },
    {
     "data": {
      "text/plain": [
       "Pipeline(steps=[('columntransformer',\n",
       "                 ColumnTransformer(remainder='passthrough',\n",
       "                                   transformers=[('titre_tfidf',\n",
       "                                                  TfidfVectorizer(min_df=0.01,\n",
       "                                                                  stop_words=['celles',\n",
       "                                                                              'malgre',\n",
       "                                                                              'nul',\n",
       "                                                                              'té',\n",
       "                                                                              'onzième',\n",
       "                                                                              'pour',\n",
       "                                                                              'peux',\n",
       "                                                                              'doit',\n",
       "                                                                              'des',\n",
       "                                                                              'deuxièmement',\n",
       "                                                                              'la',\n",
       "                                                                              'debout',\n",
       "                                                                              'quatre-vingt',\n",
       "                                                                              'excepté',\n",
       "                                                                              'tenir',\n",
       "                                                                              'vous-mêmes',\n",
       "                                                                              'va',\n",
       "                                                                              'précisement',\n",
       "                                                                              'ça',\n",
       "                                                                              'deux',\n",
       "                                                                              'sent',\n",
       "                                                                              'étaient',\n",
       "                                                                              'c’',\n",
       "                                                                              'déja',\n",
       "                                                                              '...\n",
       "                                                                              'tous',\n",
       "                                                                              'doivent',\n",
       "                                                                              'stop',\n",
       "                                                                              'dits', ...],\n",
       "                                                                  tokenizer=<function transform_into_token_list at 0x7f37ee2624d0>),\n",
       "                                                  'synopsis'),\n",
       "                                                 ('synopsis_stats',\n",
       "                                                  Pipeline(steps=[('text_stats',\n",
       "                                                                   FunctionTransformer(func=<function text_stats at 0x7f37a807bac0>)),\n",
       "                                                                  ('vect',\n",
       "                                                                   DictVectorizer(sparse=False)),\n",
       "                                                                  ('scaling',\n",
       "                                                                   MinMaxScaler())]),\n",
       "                                                  'synopsis')])),\n",
       "                ('logisticregression', LogisticRegression())])"
      ]
     },
     "execution_count": 11,
     "metadata": {},
     "output_type": "execute_result"
    }
   ],
   "source": [
    "# Apprentissage avec les données d'entraînement\n",
    "classifier_pipeline.fit(X_train, y_train.to_numpy())"
   ]
  },
  {
   "attachments": {},
   "cell_type": "markdown",
   "metadata": {},
   "source": [
    "Comme pour le pré-traitement des données, on peut créer une *pipeline* qui regroupe les actions nécessaire à l'apprentissage (pré-traitement et apprentissage)."
   ]
  },
  {
   "cell_type": "code",
   "execution_count": 12,
   "metadata": {},
   "outputs": [
    {
     "name": "stdout",
     "output_type": "stream",
     "text": [
      "Classification report:\n",
      "\n",
      "                 precision    recall  f1-score   support\n",
      "\n",
      "         biopic       0.73      0.65      0.69       118\n",
      "        comédie       0.48      0.42      0.44       106\n",
      "   documentaire       0.73      0.82      0.77        92\n",
      "          drame       0.38      0.32      0.35       110\n",
      "     historique       0.60      0.78      0.67        80\n",
      "        horreur       0.53      0.70      0.60        89\n",
      "       policier       0.67      0.76      0.71        96\n",
      "        romance       0.50      0.43      0.46       103\n",
      "science fiction       0.73      0.61      0.67       108\n",
      "\n",
      "       accuracy                           0.60       902\n",
      "      macro avg       0.59      0.61      0.60       902\n",
      "   weighted avg       0.59      0.60      0.59       902\n",
      "\n"
     ]
    }
   ],
   "source": [
    "from sklearn.metrics import classification_report\n",
    "\n",
    "y_pred = classifier_pipeline.predict(X_test)\n",
    "print(\"Classification report:\\n\\n{}\".format(classification_report(y_test, y_pred)))"
   ]
  },
  {
   "attachments": {},
   "cell_type": "markdown",
   "metadata": {},
   "source": [
    "La précision du classifier est proche de 0.5, ce qui est plutôt faible."
   ]
  },
  {
   "cell_type": "code",
   "execution_count": 13,
   "metadata": {},
   "outputs": [
    {
     "name": "stdout",
     "output_type": "stream",
     "text": [
      "confusion matrix\n",
      "\n",
      "(row=expected, col=predicted)\n"
     ]
    },
    {
     "data": {
      "text/html": [
       "<div>\n",
       "<style scoped>\n",
       "    .dataframe tbody tr th:only-of-type {\n",
       "        vertical-align: middle;\n",
       "    }\n",
       "\n",
       "    .dataframe tbody tr th {\n",
       "        vertical-align: top;\n",
       "    }\n",
       "\n",
       "    .dataframe thead th {\n",
       "        text-align: right;\n",
       "    }\n",
       "</style>\n",
       "<table border=\"1\" class=\"dataframe\">\n",
       "  <thead>\n",
       "    <tr style=\"text-align: right;\">\n",
       "      <th></th>\n",
       "      <th>biopic</th>\n",
       "      <th>comédie</th>\n",
       "      <th>documentaire</th>\n",
       "      <th>drame</th>\n",
       "      <th>historique</th>\n",
       "      <th>horreur</th>\n",
       "      <th>policier</th>\n",
       "      <th>romance</th>\n",
       "      <th>science fiction</th>\n",
       "    </tr>\n",
       "  </thead>\n",
       "  <tbody>\n",
       "    <tr>\n",
       "      <th>biopic</th>\n",
       "      <td>77</td>\n",
       "      <td>3</td>\n",
       "      <td>3</td>\n",
       "      <td>9</td>\n",
       "      <td>10</td>\n",
       "      <td>4</td>\n",
       "      <td>7</td>\n",
       "      <td>5</td>\n",
       "      <td>0</td>\n",
       "    </tr>\n",
       "    <tr>\n",
       "      <th>comédie</th>\n",
       "      <td>2</td>\n",
       "      <td>44</td>\n",
       "      <td>3</td>\n",
       "      <td>18</td>\n",
       "      <td>8</td>\n",
       "      <td>6</td>\n",
       "      <td>9</td>\n",
       "      <td>13</td>\n",
       "      <td>3</td>\n",
       "    </tr>\n",
       "    <tr>\n",
       "      <th>documentaire</th>\n",
       "      <td>0</td>\n",
       "      <td>3</td>\n",
       "      <td>75</td>\n",
       "      <td>3</td>\n",
       "      <td>5</td>\n",
       "      <td>5</td>\n",
       "      <td>0</td>\n",
       "      <td>0</td>\n",
       "      <td>1</td>\n",
       "    </tr>\n",
       "    <tr>\n",
       "      <th>drame</th>\n",
       "      <td>10</td>\n",
       "      <td>13</td>\n",
       "      <td>8</td>\n",
       "      <td>35</td>\n",
       "      <td>3</td>\n",
       "      <td>13</td>\n",
       "      <td>8</td>\n",
       "      <td>18</td>\n",
       "      <td>2</td>\n",
       "    </tr>\n",
       "    <tr>\n",
       "      <th>historique</th>\n",
       "      <td>1</td>\n",
       "      <td>1</td>\n",
       "      <td>3</td>\n",
       "      <td>3</td>\n",
       "      <td>62</td>\n",
       "      <td>1</td>\n",
       "      <td>2</td>\n",
       "      <td>2</td>\n",
       "      <td>5</td>\n",
       "    </tr>\n",
       "    <tr>\n",
       "      <th>horreur</th>\n",
       "      <td>0</td>\n",
       "      <td>3</td>\n",
       "      <td>3</td>\n",
       "      <td>3</td>\n",
       "      <td>3</td>\n",
       "      <td>62</td>\n",
       "      <td>5</td>\n",
       "      <td>0</td>\n",
       "      <td>10</td>\n",
       "    </tr>\n",
       "    <tr>\n",
       "      <th>policier</th>\n",
       "      <td>3</td>\n",
       "      <td>3</td>\n",
       "      <td>2</td>\n",
       "      <td>3</td>\n",
       "      <td>2</td>\n",
       "      <td>4</td>\n",
       "      <td>73</td>\n",
       "      <td>5</td>\n",
       "      <td>1</td>\n",
       "    </tr>\n",
       "    <tr>\n",
       "      <th>romance</th>\n",
       "      <td>10</td>\n",
       "      <td>18</td>\n",
       "      <td>4</td>\n",
       "      <td>15</td>\n",
       "      <td>5</td>\n",
       "      <td>5</td>\n",
       "      <td>0</td>\n",
       "      <td>44</td>\n",
       "      <td>2</td>\n",
       "    </tr>\n",
       "    <tr>\n",
       "      <th>science fiction</th>\n",
       "      <td>3</td>\n",
       "      <td>4</td>\n",
       "      <td>2</td>\n",
       "      <td>3</td>\n",
       "      <td>6</td>\n",
       "      <td>18</td>\n",
       "      <td>5</td>\n",
       "      <td>1</td>\n",
       "      <td>66</td>\n",
       "    </tr>\n",
       "  </tbody>\n",
       "</table>\n",
       "</div>"
      ],
      "text/plain": [
       "                 biopic  comédie  documentaire  drame  historique  horreur  \\\n",
       "biopic               77        3             3      9          10        4   \n",
       "comédie               2       44             3     18           8        6   \n",
       "documentaire          0        3            75      3           5        5   \n",
       "drame                10       13             8     35           3       13   \n",
       "historique            1        1             3      3          62        1   \n",
       "horreur               0        3             3      3           3       62   \n",
       "policier              3        3             2      3           2        4   \n",
       "romance              10       18             4     15           5        5   \n",
       "science fiction       3        4             2      3           6       18   \n",
       "\n",
       "                 policier  romance  science fiction  \n",
       "biopic                  7        5                0  \n",
       "comédie                 9       13                3  \n",
       "documentaire            0        0                1  \n",
       "drame                   8       18                2  \n",
       "historique              2        2                5  \n",
       "horreur                 5        0               10  \n",
       "policier               73        5                1  \n",
       "romance                 0       44                2  \n",
       "science fiction         5        1               66  "
      ]
     },
     "execution_count": 13,
     "metadata": {},
     "output_type": "execute_result"
    }
   ],
   "source": [
    "from sklearn.metrics import confusion_matrix\n",
    "\n",
    "# Liste des labels (classes) se trouvant dans les données de test\n",
    "labels = np.unique(y_test)\n",
    "# Matrice de confusion\n",
    "cm = confusion_matrix(y_test, y_pred, labels=labels)\n",
    "# Matrice de confusion sous forme de DataFrame\n",
    "confusion_df = pd.DataFrame(cm, index=labels, columns=labels)\n",
    "print('confusion matrix\\n')\n",
    "print('(row=expected, col=predicted)')\n",
    "confusion_df.head(n=15)"
   ]
  },
  {
   "cell_type": "code",
   "execution_count": 14,
   "metadata": {},
   "outputs": [
    {
     "data": {
      "image/png": "[encoded data removed]",
      "text/plain": [
       "<Figure size 432x288 with 2 Axes>"
      ]
     },
     "metadata": {
      "needs_background": "light"
     },
     "output_type": "display_data"
    }
   ],
   "source": [
    "fig = plt.figure() \n",
    "ax = fig.add_subplot(111) \n",
    "cax = ax.matshow(cm, interpolation='nearest', cmap=plt.cm.Oranges) \n",
    "fig.colorbar(cax) \n",
    "tick_marks = np.arange(len(labels))\n",
    "labels_for_fig = [l[0:5]+'.' for l in labels]\n",
    "plt.xticks(tick_marks, labels_for_fig, rotation=45)\n",
    "plt.yticks(tick_marks, labels_for_fig) \n",
    "plt.xlabel('Predicted') \n",
    "plt.ylabel('Expected') \n",
    "plt.show()"
   ]
  },
  {
   "attachments": {},
   "cell_type": "markdown",
   "metadata": {},
   "source": [
    "La matrice de confusion permet de mieux comprendre les résultats.\n",
    "\n",
    "On remarque que le classifieur se trompe plus sur les données qui sont peu représentées dans le jeu de données (*biopic*, *documentaire*, *histoire*)."
   ]
  },
  {
   "cell_type": "code",
   "execution_count": 15,
   "metadata": {},
   "outputs": [
    {
     "data": {
      "text/plain": [
       "biopic             77\n",
       "historique         10\n",
       "drame               9\n",
       "policier            7\n",
       "romance             5\n",
       "horreur             4\n",
       "comédie             3\n",
       "documentaire        3\n",
       "science fiction     0\n",
       "Name: biopic, dtype: int64"
      ]
     },
     "execution_count": 15,
     "metadata": {},
     "output_type": "execute_result"
    }
   ],
   "source": [
    "confusion_df.loc['biopic'].sort_values(ascending=False)"
   ]
  },
  {
   "cell_type": "code",
   "execution_count": 16,
   "metadata": {},
   "outputs": [],
   "source": [
    "from sklearn import model_selection\n",
    "folds = 5\n",
    "\n",
    "stratkfold = model_selection.StratifiedKFold(n_splits=folds, shuffle=True, random_state=12)\n",
    "y_stratkfold_pred = model_selection.cross_val_predict(classifier_pipeline, X_train, y_train.values.flatten(), cv=stratkfold, n_jobs=-1)"
   ]
  },
  {
   "cell_type": "code",
   "execution_count": 17,
   "metadata": {},
   "outputs": [
    {
     "name": "stdout",
     "output_type": "stream",
     "text": [
      "                 precision    recall  f1-score   support\n",
      "\n",
      "         biopic       0.65      0.59      0.62       383\n",
      "        comédie       0.44      0.45      0.45       395\n",
      "   documentaire       0.75      0.82      0.79       409\n",
      "          drame       0.36      0.34      0.35       391\n",
      "     historique       0.66      0.73      0.69       421\n",
      "        horreur       0.53      0.55      0.54       412\n",
      "       policier       0.61      0.63      0.62       405\n",
      "        romance       0.47      0.45      0.46       398\n",
      "science fiction       0.70      0.64      0.67       393\n",
      "\n",
      "       accuracy                           0.58      3607\n",
      "      macro avg       0.57      0.58      0.58      3607\n",
      "   weighted avg       0.58      0.58      0.58      3607\n",
      "\n"
     ]
    }
   ],
   "source": [
    "print(classification_report(y_train, y_stratkfold_pred))"
   ]
  },
  {
   "attachments": {},
   "cell_type": "markdown",
   "metadata": {},
   "source": [
    "En utilisant une méthode de validation croisée qui conserve la proportion des classes dans les plis nous obtenons des résultats du même ordre (précision entre 0.4 et 0.5)."
   ]
  },
  {
   "attachments": {},
   "cell_type": "markdown",
   "metadata": {},
   "source": [
    "## Comparaison des Différents Algorithmes"
   ]
  },
  {
   "cell_type": "code",
   "execution_count": 18,
   "metadata": {},
   "outputs": [
    {
     "name": "stdout",
     "output_type": "stream",
     "text": [
      "Baseline\n",
      "                 precision    recall  f1-score   support\n",
      "\n",
      "         biopic       0.00      0.00      0.00       383\n",
      "        comédie       0.00      0.00      0.00       395\n",
      "   documentaire       0.00      0.00      0.00       409\n",
      "          drame       0.00      0.00      0.00       391\n",
      "     historique       0.12      1.00      0.21       421\n",
      "        horreur       0.00      0.00      0.00       412\n",
      "       policier       0.00      0.00      0.00       405\n",
      "        romance       0.00      0.00      0.00       398\n",
      "science fiction       0.00      0.00      0.00       393\n",
      "\n",
      "       accuracy                           0.12      3607\n",
      "      macro avg       0.01      0.11      0.02      3607\n",
      "   weighted avg       0.01      0.12      0.02      3607\n",
      "\n"
     ]
    },
    {
     "name": "stderr",
     "output_type": "stream",
     "text": [
      "/usr/local/lib/python3.10/dist-packages/sklearn/metrics/_classification.py:1318: UndefinedMetricWarning: Precision and F-score are ill-defined and being set to 0.0 in labels with no predicted samples. Use `zero_division` parameter to control this behavior.\n",
      "  _warn_prf(average, modifier, msg_start, len(result))\n",
      "/usr/local/lib/python3.10/dist-packages/sklearn/metrics/_classification.py:1318: UndefinedMetricWarning: Precision and F-score are ill-defined and being set to 0.0 in labels with no predicted samples. Use `zero_division` parameter to control this behavior.\n",
      "  _warn_prf(average, modifier, msg_start, len(result))\n",
      "/usr/local/lib/python3.10/dist-packages/sklearn/metrics/_classification.py:1318: UndefinedMetricWarning: Precision and F-score are ill-defined and being set to 0.0 in labels with no predicted samples. Use `zero_division` parameter to control this behavior.\n",
      "  _warn_prf(average, modifier, msg_start, len(result))\n"
     ]
    },
    {
     "name": "stdout",
     "output_type": "stream",
     "text": [
      "Mutinomial NB\n",
      "                 precision    recall  f1-score   support\n",
      "\n",
      "         biopic       0.62      0.51      0.56       383\n",
      "        comédie       0.43      0.44      0.43       395\n",
      "   documentaire       0.71      0.78      0.74       409\n",
      "          drame       0.41      0.33      0.36       391\n",
      "     historique       0.61      0.67      0.64       421\n",
      "        horreur       0.48      0.49      0.48       412\n",
      "       policier       0.58      0.62      0.60       405\n",
      "        romance       0.45      0.48      0.46       398\n",
      "science fiction       0.65      0.62      0.63       393\n",
      "\n",
      "       accuracy                           0.55      3607\n",
      "      macro avg       0.55      0.55      0.55      3607\n",
      "   weighted avg       0.55      0.55      0.55      3607\n",
      "\n",
      "CART\n",
      "                 precision    recall  f1-score   support\n",
      "\n",
      "         biopic       0.71      0.81      0.76       383\n",
      "        comédie       0.33      0.26      0.29       395\n",
      "   documentaire       0.80      0.89      0.84       409\n",
      "          drame       0.28      0.23      0.25       391\n",
      "     historique       0.77      0.90      0.83       421\n",
      "        horreur       0.62      0.65      0.64       412\n",
      "       policier       0.61      0.64      0.63       405\n",
      "        romance       0.41      0.37      0.39       398\n",
      "science fiction       0.71      0.68      0.69       393\n",
      "\n",
      "       accuracy                           0.61      3607\n",
      "      macro avg       0.58      0.60      0.59      3607\n",
      "   weighted avg       0.58      0.61      0.59      3607\n",
      "\n",
      "LR\n",
      "                 precision    recall  f1-score   support\n",
      "\n",
      "         biopic       0.65      0.59      0.62       383\n",
      "        comédie       0.44      0.45      0.45       395\n",
      "   documentaire       0.75      0.82      0.79       409\n",
      "          drame       0.36      0.34      0.35       391\n",
      "     historique       0.66      0.73      0.69       421\n",
      "        horreur       0.53      0.55      0.54       412\n",
      "       policier       0.61      0.63      0.62       405\n",
      "        romance       0.47      0.45      0.46       398\n",
      "science fiction       0.70      0.64      0.67       393\n",
      "\n",
      "       accuracy                           0.58      3607\n",
      "      macro avg       0.57      0.58      0.58      3607\n",
      "   weighted avg       0.58      0.58      0.58      3607\n",
      "\n",
      "KNN\n",
      "                 precision    recall  f1-score   support\n",
      "\n",
      "         biopic       0.75      0.34      0.47       383\n",
      "        comédie       0.17      0.42      0.24       395\n",
      "   documentaire       0.21      0.63      0.32       409\n",
      "          drame       0.12      0.00      0.01       391\n",
      "     historique       0.26      0.61      0.36       421\n",
      "        horreur       0.53      0.15      0.23       412\n",
      "       policier       0.71      0.05      0.10       405\n",
      "        romance       0.43      0.04      0.07       398\n",
      "science fiction       0.66      0.10      0.18       393\n",
      "\n",
      "       accuracy                           0.26      3607\n",
      "      macro avg       0.43      0.26      0.22      3607\n",
      "   weighted avg       0.43      0.26      0.22      3607\n",
      "\n",
      "Random forest\n",
      "                 precision    recall  f1-score   support\n",
      "\n",
      "         biopic       0.82      0.83      0.82       383\n",
      "        comédie       0.43      0.41      0.42       395\n",
      "   documentaire       0.79      0.90      0.84       409\n",
      "          drame       0.38      0.26      0.31       391\n",
      "     historique       0.80      0.92      0.86       421\n",
      "        horreur       0.69      0.66      0.67       412\n",
      "       policier       0.72      0.73      0.72       405\n",
      "        romance       0.49      0.53      0.51       398\n",
      "science fiction       0.80      0.79      0.80       393\n",
      "\n",
      "       accuracy                           0.67      3607\n",
      "      macro avg       0.66      0.67      0.66      3607\n",
      "   weighted avg       0.66      0.67      0.66      3607\n",
      "\n"
     ]
    },
    {
     "data": {
      "image/png": "[encoded data removed]",
      "text/plain": [
       "<Figure size 432x288 with 1 Axes>"
      ]
     },
     "metadata": {
      "needs_background": "light"
     },
     "output_type": "display_data"
    }
   ],
   "source": [
    "from sklearn.ensemble import RandomForestClassifier\n",
    "from sklearn.dummy import DummyClassifier\n",
    "from sklearn.tree import DecisionTreeClassifier\n",
    "from sklearn.naive_bayes import MultinomialNB\n",
    "from sklearn.neighbors import KNeighborsClassifier\n",
    "from sklearn.metrics import f1_score\n",
    "\n",
    "# Liste des modèles testés\n",
    "models = [\n",
    "    ('Baseline', DummyClassifier(strategy='most_frequent')),\n",
    "    ('Mutinomial NB', MultinomialNB()),\n",
    "    ('CART', DecisionTreeClassifier()),\n",
    "    ('LR', LogisticRegression()),\n",
    "    ('KNN', KNeighborsClassifier()),\n",
    "    ('Random forest', RandomForestClassifier())\n",
    "]\n",
    "\n",
    "# Evaluation de chaque résultat l'un après l'autre\n",
    "scores = []\n",
    "names = []\n",
    "scoring = 'macro F1'\n",
    "# Validation croisée à 5 plis\n",
    "kfold = model_selection.StratifiedKFold(n_splits=5, shuffle=True, random_state=12)\n",
    "# Itération sur les modèles\n",
    "for name, model in models:\n",
    "    # Ajout du nom du modèle à la liste name\n",
    "    names.append(name)\n",
    "    # Création de la pipeline pour le modèle\n",
    "    model_pipeline = make_pipeline(column_trans, model)\n",
    "    # Validation croisée\n",
    "    y_pred = model_selection.cross_val_predict(model_pipeline, X_train, y_train.values.flatten(), cv=kfold)\n",
    "    print(name)\n",
    "    print(classification_report(y_train, y_pred))\n",
    "    f1 = f1_score(y_train, y_pred, average='macro')\n",
    "    scores.append(f1)\n",
    "\n",
    "# Représentation graphique des résultats\n",
    "indices = np.arange(len(scores))\n",
    "fig = plt.figure()\n",
    "plt.barh(indices, scores, .2, label=\"score\", color='b')\n",
    "plt.yticks(())\n",
    "for i, c in zip(indices, names):\n",
    "    plt.text(-.3, i, c)\n",
    "plt.show()"
   ]
  }
 ],
 "metadata": {
  "kernelspec": {
   "display_name": "base",
   "language": "python",
   "name": "python3"
  },
  "language_info": {
   "codemirror_mode": {
    "name": "ipython",
    "version": 3
   },
   "file_extension": ".py",
   "mimetype": "text/x-python",
   "name": "python",
   "nbconvert_exporter": "python",
   "pygments_lexer": "ipython3",
   "version": "3.10.6"
  },
  "orig_nbformat": 4
 },
 "nbformat": 4,
 "nbformat_minor": 2
}
