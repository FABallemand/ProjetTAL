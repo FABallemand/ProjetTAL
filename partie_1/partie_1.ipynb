{
 "cells": [
  {
   "attachments": {},
   "cell_type": "markdown",
   "metadata": {},
   "source": [
    "# Partie 1: Classification de Documents"
   ]
  },
  {
   "cell_type": "code",
   "execution_count": 40,
   "metadata": {},
   "outputs": [],
   "source": [
    "import pandas as pd\n",
    "import numpy as np\n",
    "\n",
    "import matplotlib.pyplot as plt"
   ]
  },
  {
   "cell_type": "code",
   "execution_count": null,
   "metadata": {},
   "outputs": [],
   "source": []
  },
  {
   "attachments": {},
   "cell_type": "markdown",
   "metadata": {},
   "source": [
    "## Chargement des Données"
   ]
  },
  {
   "cell_type": "code",
   "execution_count": 37,
   "metadata": {},
   "outputs": [],
   "source": [
    "# Données d'entrainement\n",
    "train_data_complete = pd.read_csv(\"../data/allocine_genres_train.csv\", sep=\",\")\n",
    "train_data = train_data_complete[[\"titre\", \"synopsis\", \"genre\"]]\n",
    "\n",
    "# Données de test/validation\n",
    "test_data_complete = pd.read_csv(\"../data/allocine_genres_test.csv\", sep=\",\")\n",
    "trest_data = test_data_complete[[\"titre\", \"synopsis\", \"genre\"]]"
   ]
  },
  {
   "attachments": {},
   "cell_type": "markdown",
   "metadata": {},
   "source": [
    "## Analyse des Données"
   ]
  },
  {
   "attachments": {},
   "cell_type": "markdown",
   "metadata": {},
   "source": [
    "### Analyse Générale"
   ]
  },
  {
   "cell_type": "code",
   "execution_count": 26,
   "metadata": {},
   "outputs": [
    {
     "data": {
      "text/html": [
       "<div>\n",
       "<style scoped>\n",
       "    .dataframe tbody tr th:only-of-type {\n",
       "        vertical-align: middle;\n",
       "    }\n",
       "\n",
       "    .dataframe tbody tr th {\n",
       "        vertical-align: top;\n",
       "    }\n",
       "\n",
       "    .dataframe thead th {\n",
       "        text-align: right;\n",
       "    }\n",
       "</style>\n",
       "<table border=\"1\" class=\"dataframe\">\n",
       "  <thead>\n",
       "    <tr style=\"text-align: right;\">\n",
       "      <th></th>\n",
       "      <th>Unnamed: 0</th>\n",
       "      <th>acteur_1</th>\n",
       "      <th>acteur_2</th>\n",
       "      <th>acteur_3</th>\n",
       "      <th>allocine_id</th>\n",
       "      <th>annee_prod</th>\n",
       "      <th>annee_sortie</th>\n",
       "      <th>box_office_fr</th>\n",
       "      <th>couleur</th>\n",
       "      <th>duree</th>\n",
       "      <th>...</th>\n",
       "      <th>nb_critiques_presse</th>\n",
       "      <th>nb_critiques_spectateurs</th>\n",
       "      <th>nb_notes_spectateurs</th>\n",
       "      <th>note_presse</th>\n",
       "      <th>note_spectateurs</th>\n",
       "      <th>realisateurs</th>\n",
       "      <th>synopsis</th>\n",
       "      <th>titre</th>\n",
       "      <th>type_film</th>\n",
       "      <th>genre</th>\n",
       "    </tr>\n",
       "  </thead>\n",
       "  <tbody>\n",
       "    <tr>\n",
       "      <th>0</th>\n",
       "      <td>4772</td>\n",
       "      <td>Albert Finney</td>\n",
       "      <td>Lauren Bacall</td>\n",
       "      <td>Jacqueline Bisset</td>\n",
       "      <td>1453</td>\n",
       "      <td>1974</td>\n",
       "      <td>1975.0</td>\n",
       "      <td>549055.0</td>\n",
       "      <td>Couleur</td>\n",
       "      <td>128.0</td>\n",
       "      <td>...</td>\n",
       "      <td>NaN</td>\n",
       "      <td>125.0</td>\n",
       "      <td>2045.0</td>\n",
       "      <td>NaN</td>\n",
       "      <td>3.7</td>\n",
       "      <td>Sidney Lumet</td>\n",
       "      <td>En visite à Istanbul , le célèbre détective be...</td>\n",
       "      <td>Le Crime de l' Orient - Express</td>\n",
       "      <td>NaN</td>\n",
       "      <td>policier</td>\n",
       "    </tr>\n",
       "    <tr>\n",
       "      <th>1</th>\n",
       "      <td>335</td>\n",
       "      <td>Henry Fonda</td>\n",
       "      <td>Martin Balsam</td>\n",
       "      <td>John Fiedler</td>\n",
       "      <td>4063</td>\n",
       "      <td>1957</td>\n",
       "      <td>1957.0</td>\n",
       "      <td>NaN</td>\n",
       "      <td>NaN</td>\n",
       "      <td>95.0</td>\n",
       "      <td>...</td>\n",
       "      <td>7.0</td>\n",
       "      <td>771.0</td>\n",
       "      <td>18670.0</td>\n",
       "      <td>5.0</td>\n",
       "      <td>4.6</td>\n",
       "      <td>Sidney Lumet</td>\n",
       "      <td>Un jeune homme d' origine modeste est accusé d...</td>\n",
       "      <td>12 hommes en colère</td>\n",
       "      <td>NaN</td>\n",
       "      <td>drame</td>\n",
       "    </tr>\n",
       "    <tr>\n",
       "      <th>2</th>\n",
       "      <td>4860</td>\n",
       "      <td>Alexandra Lamy</td>\n",
       "      <td>Michaël Abiteboul</td>\n",
       "      <td>Julia Piaton</td>\n",
       "      <td>241952</td>\n",
       "      <td>2016</td>\n",
       "      <td>2019.0</td>\n",
       "      <td>NaN</td>\n",
       "      <td>Couleur</td>\n",
       "      <td>90.0</td>\n",
       "      <td>...</td>\n",
       "      <td>NaN</td>\n",
       "      <td>22.0</td>\n",
       "      <td>242.0</td>\n",
       "      <td>NaN</td>\n",
       "      <td>4.2</td>\n",
       "      <td>Nicolas Cuche</td>\n",
       "      <td>Lorsque Marie-Laure , mère de quatre jeunes en...</td>\n",
       "      <td>Après moi le bonheur</td>\n",
       "      <td>Télefilm</td>\n",
       "      <td>drame</td>\n",
       "    </tr>\n",
       "  </tbody>\n",
       "</table>\n",
       "<p>3 rows × 22 columns</p>\n",
       "</div>"
      ],
      "text/plain": [
       "   Unnamed: 0        acteur_1           acteur_2           acteur_3  \\\n",
       "0        4772   Albert Finney      Lauren Bacall  Jacqueline Bisset   \n",
       "1         335     Henry Fonda      Martin Balsam       John Fiedler   \n",
       "2        4860  Alexandra Lamy  Michaël Abiteboul       Julia Piaton   \n",
       "\n",
       "   allocine_id  annee_prod  annee_sortie  box_office_fr  couleur  duree  ...  \\\n",
       "0         1453        1974        1975.0       549055.0  Couleur  128.0  ...   \n",
       "1         4063        1957        1957.0            NaN      NaN   95.0  ...   \n",
       "2       241952        2016        2019.0            NaN  Couleur   90.0  ...   \n",
       "\n",
       "  nb_critiques_presse nb_critiques_spectateurs  nb_notes_spectateurs  \\\n",
       "0                 NaN                    125.0                2045.0   \n",
       "1                 7.0                    771.0               18670.0   \n",
       "2                 NaN                     22.0                 242.0   \n",
       "\n",
       "   note_presse  note_spectateurs   realisateurs  \\\n",
       "0          NaN               3.7   Sidney Lumet   \n",
       "1          5.0               4.6   Sidney Lumet   \n",
       "2          NaN               4.2  Nicolas Cuche   \n",
       "\n",
       "                                            synopsis  \\\n",
       "0  En visite à Istanbul , le célèbre détective be...   \n",
       "1  Un jeune homme d' origine modeste est accusé d...   \n",
       "2  Lorsque Marie-Laure , mère de quatre jeunes en...   \n",
       "\n",
       "                             titre type_film     genre  \n",
       "0  Le Crime de l' Orient - Express       NaN  policier  \n",
       "1              12 hommes en colère       NaN     drame  \n",
       "2             Après moi le bonheur  Télefilm     drame  \n",
       "\n",
       "[3 rows x 22 columns]"
      ]
     },
     "execution_count": 26,
     "metadata": {},
     "output_type": "execute_result"
    }
   ],
   "source": [
    "train_data_complete.head(3)"
   ]
  },
  {
   "cell_type": "code",
   "execution_count": 27,
   "metadata": {},
   "outputs": [
    {
     "data": {
      "text/html": [
       "<div>\n",
       "<style scoped>\n",
       "    .dataframe tbody tr th:only-of-type {\n",
       "        vertical-align: middle;\n",
       "    }\n",
       "\n",
       "    .dataframe tbody tr th {\n",
       "        vertical-align: top;\n",
       "    }\n",
       "\n",
       "    .dataframe thead th {\n",
       "        text-align: right;\n",
       "    }\n",
       "</style>\n",
       "<table border=\"1\" class=\"dataframe\">\n",
       "  <thead>\n",
       "    <tr style=\"text-align: right;\">\n",
       "      <th></th>\n",
       "      <th>Unnamed: 0</th>\n",
       "      <th>acteur_1</th>\n",
       "      <th>acteur_2</th>\n",
       "      <th>acteur_3</th>\n",
       "      <th>allocine_id</th>\n",
       "      <th>annee_prod</th>\n",
       "      <th>annee_sortie</th>\n",
       "      <th>box_office_fr</th>\n",
       "      <th>couleur</th>\n",
       "      <th>duree</th>\n",
       "      <th>...</th>\n",
       "      <th>nb_critiques_presse</th>\n",
       "      <th>nb_critiques_spectateurs</th>\n",
       "      <th>nb_notes_spectateurs</th>\n",
       "      <th>note_presse</th>\n",
       "      <th>note_spectateurs</th>\n",
       "      <th>realisateurs</th>\n",
       "      <th>synopsis</th>\n",
       "      <th>titre</th>\n",
       "      <th>type_film</th>\n",
       "      <th>genre</th>\n",
       "    </tr>\n",
       "  </thead>\n",
       "  <tbody>\n",
       "    <tr>\n",
       "      <th>2872</th>\n",
       "      <td>2350</td>\n",
       "      <td>Kathrine Narducci</td>\n",
       "      <td>Francis Capra</td>\n",
       "      <td>Lillo Brancato</td>\n",
       "      <td>27952</td>\n",
       "      <td>1993</td>\n",
       "      <td>1994.0</td>\n",
       "      <td>NaN</td>\n",
       "      <td>Couleur</td>\n",
       "      <td>121.0</td>\n",
       "      <td>...</td>\n",
       "      <td>NaN</td>\n",
       "      <td>261.0</td>\n",
       "      <td>6874.0</td>\n",
       "      <td>NaN</td>\n",
       "      <td>4.1</td>\n",
       "      <td>Robert De Niro</td>\n",
       "      <td>L' histoire de la communauté italienne des ann...</td>\n",
       "      <td>Il était une fois le Bronx</td>\n",
       "      <td>NaN</td>\n",
       "      <td>drame</td>\n",
       "    </tr>\n",
       "    <tr>\n",
       "      <th>2873</th>\n",
       "      <td>2798</td>\n",
       "      <td>Kinuyo Tanaka</td>\n",
       "      <td>Yuko Mochizuki</td>\n",
       "      <td>Teiji Takahashi</td>\n",
       "      <td>89707</td>\n",
       "      <td>1958</td>\n",
       "      <td>NaN</td>\n",
       "      <td>NaN</td>\n",
       "      <td>Couleur</td>\n",
       "      <td>98.0</td>\n",
       "      <td>...</td>\n",
       "      <td>NaN</td>\n",
       "      <td>NaN</td>\n",
       "      <td>18.0</td>\n",
       "      <td>NaN</td>\n",
       "      <td>3.7</td>\n",
       "      <td>Keisuke Kinoshita</td>\n",
       "      <td>Comme le veut une ancienne tradition , la viei...</td>\n",
       "      <td>La Ballade de Narayama</td>\n",
       "      <td>Long-métrage</td>\n",
       "      <td>drame</td>\n",
       "    </tr>\n",
       "    <tr>\n",
       "      <th>2874</th>\n",
       "      <td>3090</td>\n",
       "      <td>Paz Vega</td>\n",
       "      <td>Tristán Ulloa</td>\n",
       "      <td>Elena Anaya</td>\n",
       "      <td>41116</td>\n",
       "      <td>2001</td>\n",
       "      <td>2002.0</td>\n",
       "      <td>82430.0</td>\n",
       "      <td>Couleur</td>\n",
       "      <td>128.0</td>\n",
       "      <td>...</td>\n",
       "      <td>18.0</td>\n",
       "      <td>32.0</td>\n",
       "      <td>287.0</td>\n",
       "      <td>3.3</td>\n",
       "      <td>3.5</td>\n",
       "      <td>Julio Medem</td>\n",
       "      <td>Après la mort de son petit ami , Lucia , qui e...</td>\n",
       "      <td>Lucia et le sexe</td>\n",
       "      <td>Long-métrage</td>\n",
       "      <td>romance</td>\n",
       "    </tr>\n",
       "  </tbody>\n",
       "</table>\n",
       "<p>3 rows × 22 columns</p>\n",
       "</div>"
      ],
      "text/plain": [
       "      Unnamed: 0           acteur_1        acteur_2         acteur_3  \\\n",
       "2872        2350  Kathrine Narducci   Francis Capra   Lillo Brancato   \n",
       "2873        2798      Kinuyo Tanaka  Yuko Mochizuki  Teiji Takahashi   \n",
       "2874        3090           Paz Vega   Tristán Ulloa      Elena Anaya   \n",
       "\n",
       "      allocine_id  annee_prod  annee_sortie  box_office_fr  couleur  duree  \\\n",
       "2872        27952        1993        1994.0            NaN  Couleur  121.0   \n",
       "2873        89707        1958           NaN            NaN  Couleur   98.0   \n",
       "2874        41116        2001        2002.0        82430.0  Couleur  128.0   \n",
       "\n",
       "      ... nb_critiques_presse nb_critiques_spectateurs  nb_notes_spectateurs  \\\n",
       "2872  ...                 NaN                    261.0                6874.0   \n",
       "2873  ...                 NaN                      NaN                  18.0   \n",
       "2874  ...                18.0                     32.0                 287.0   \n",
       "\n",
       "      note_presse  note_spectateurs       realisateurs  \\\n",
       "2872          NaN               4.1     Robert De Niro   \n",
       "2873          NaN               3.7  Keisuke Kinoshita   \n",
       "2874          3.3               3.5        Julio Medem   \n",
       "\n",
       "                                               synopsis  \\\n",
       "2872  L' histoire de la communauté italienne des ann...   \n",
       "2873  Comme le veut une ancienne tradition , la viei...   \n",
       "2874  Après la mort de son petit ami , Lucia , qui e...   \n",
       "\n",
       "                           titre     type_film    genre  \n",
       "2872  Il était une fois le Bronx           NaN    drame  \n",
       "2873      La Ballade de Narayama  Long-métrage    drame  \n",
       "2874            Lucia et le sexe  Long-métrage  romance  \n",
       "\n",
       "[3 rows x 22 columns]"
      ]
     },
     "execution_count": 27,
     "metadata": {},
     "output_type": "execute_result"
    }
   ],
   "source": [
    "train_data_complete.tail(3)"
   ]
  },
  {
   "cell_type": "code",
   "execution_count": 28,
   "metadata": {},
   "outputs": [
    {
     "data": {
      "text/html": [
       "<div>\n",
       "<style scoped>\n",
       "    .dataframe tbody tr th:only-of-type {\n",
       "        vertical-align: middle;\n",
       "    }\n",
       "\n",
       "    .dataframe tbody tr th {\n",
       "        vertical-align: top;\n",
       "    }\n",
       "\n",
       "    .dataframe thead th {\n",
       "        text-align: right;\n",
       "    }\n",
       "</style>\n",
       "<table border=\"1\" class=\"dataframe\">\n",
       "  <thead>\n",
       "    <tr style=\"text-align: right;\">\n",
       "      <th></th>\n",
       "      <th>annee_prod</th>\n",
       "      <th>annee_sortie</th>\n",
       "      <th>duree</th>\n",
       "      <th>nb_critiques_presse</th>\n",
       "      <th>nb_critiques_spectateurs</th>\n",
       "      <th>nb_notes_spectateurs</th>\n",
       "      <th>note_presse</th>\n",
       "      <th>note_spectateurs</th>\n",
       "    </tr>\n",
       "  </thead>\n",
       "  <tbody>\n",
       "    <tr>\n",
       "      <th>count</th>\n",
       "      <td>2875.000000</td>\n",
       "      <td>2690.000000</td>\n",
       "      <td>2828.000000</td>\n",
       "      <td>2020.000000</td>\n",
       "      <td>2758.000000</td>\n",
       "      <td>2785.000000</td>\n",
       "      <td>2049.000000</td>\n",
       "      <td>2788.000000</td>\n",
       "    </tr>\n",
       "    <tr>\n",
       "      <th>mean</th>\n",
       "      <td>2006.503304</td>\n",
       "      <td>2007.232714</td>\n",
       "      <td>109.269802</td>\n",
       "      <td>18.109406</td>\n",
       "      <td>376.518854</td>\n",
       "      <td>6747.722442</td>\n",
       "      <td>3.251879</td>\n",
       "      <td>3.219978</td>\n",
       "    </tr>\n",
       "    <tr>\n",
       "      <th>std</th>\n",
       "      <td>15.952181</td>\n",
       "      <td>15.271904</td>\n",
       "      <td>24.686439</td>\n",
       "      <td>8.484780</td>\n",
       "      <td>537.068509</td>\n",
       "      <td>14202.353830</td>\n",
       "      <td>0.740485</td>\n",
       "      <td>0.725346</td>\n",
       "    </tr>\n",
       "    <tr>\n",
       "      <th>min</th>\n",
       "      <td>1922.000000</td>\n",
       "      <td>1924.000000</td>\n",
       "      <td>62.000000</td>\n",
       "      <td>2.000000</td>\n",
       "      <td>2.000000</td>\n",
       "      <td>2.000000</td>\n",
       "      <td>1.000000</td>\n",
       "      <td>0.800000</td>\n",
       "    </tr>\n",
       "    <tr>\n",
       "      <th>25%</th>\n",
       "      <td>2002.000000</td>\n",
       "      <td>2003.000000</td>\n",
       "      <td>95.000000</td>\n",
       "      <td>12.000000</td>\n",
       "      <td>67.000000</td>\n",
       "      <td>582.000000</td>\n",
       "      <td>2.800000</td>\n",
       "      <td>2.700000</td>\n",
       "    </tr>\n",
       "    <tr>\n",
       "      <th>50%</th>\n",
       "      <td>2012.000000</td>\n",
       "      <td>2013.000000</td>\n",
       "      <td>105.000000</td>\n",
       "      <td>19.000000</td>\n",
       "      <td>187.000000</td>\n",
       "      <td>2109.000000</td>\n",
       "      <td>3.300000</td>\n",
       "      <td>3.350000</td>\n",
       "    </tr>\n",
       "    <tr>\n",
       "      <th>75%</th>\n",
       "      <td>2017.000000</td>\n",
       "      <td>2018.000000</td>\n",
       "      <td>119.000000</td>\n",
       "      <td>24.000000</td>\n",
       "      <td>465.750000</td>\n",
       "      <td>6270.000000</td>\n",
       "      <td>3.700000</td>\n",
       "      <td>3.800000</td>\n",
       "    </tr>\n",
       "    <tr>\n",
       "      <th>max</th>\n",
       "      <td>2027.000000</td>\n",
       "      <td>2026.000000</td>\n",
       "      <td>566.000000</td>\n",
       "      <td>45.000000</td>\n",
       "      <td>7154.000000</td>\n",
       "      <td>201182.000000</td>\n",
       "      <td>5.000000</td>\n",
       "      <td>4.600000</td>\n",
       "    </tr>\n",
       "  </tbody>\n",
       "</table>\n",
       "</div>"
      ],
      "text/plain": [
       "        annee_prod  annee_sortie        duree  nb_critiques_presse  \\\n",
       "count  2875.000000   2690.000000  2828.000000          2020.000000   \n",
       "mean   2006.503304   2007.232714   109.269802            18.109406   \n",
       "std      15.952181     15.271904    24.686439             8.484780   \n",
       "min    1922.000000   1924.000000    62.000000             2.000000   \n",
       "25%    2002.000000   2003.000000    95.000000            12.000000   \n",
       "50%    2012.000000   2013.000000   105.000000            19.000000   \n",
       "75%    2017.000000   2018.000000   119.000000            24.000000   \n",
       "max    2027.000000   2026.000000   566.000000            45.000000   \n",
       "\n",
       "       nb_critiques_spectateurs  nb_notes_spectateurs  note_presse  \\\n",
       "count               2758.000000           2785.000000  2049.000000   \n",
       "mean                 376.518854           6747.722442     3.251879   \n",
       "std                  537.068509          14202.353830     0.740485   \n",
       "min                    2.000000              2.000000     1.000000   \n",
       "25%                   67.000000            582.000000     2.800000   \n",
       "50%                  187.000000           2109.000000     3.300000   \n",
       "75%                  465.750000           6270.000000     3.700000   \n",
       "max                 7154.000000         201182.000000     5.000000   \n",
       "\n",
       "       note_spectateurs  \n",
       "count       2788.000000  \n",
       "mean           3.219978  \n",
       "std            0.725346  \n",
       "min            0.800000  \n",
       "25%            2.700000  \n",
       "50%            3.350000  \n",
       "75%            3.800000  \n",
       "max            4.600000  "
      ]
     },
     "execution_count": 28,
     "metadata": {},
     "output_type": "execute_result"
    }
   ],
   "source": [
    "train_data_complete[[\"annee_prod\", \"annee_sortie\", \"duree\", \"nb_critiques_presse\", \"nb_critiques_spectateurs\", \"nb_notes_spectateurs\", \"note_presse\", \"note_spectateurs\"]].describe()"
   ]
  },
  {
   "cell_type": "code",
   "execution_count": 29,
   "metadata": {},
   "outputs": [
    {
     "data": {
      "text/plain": [
       "array([[<AxesSubplot:title={'center':'annee_prod'}>,\n",
       "        <AxesSubplot:title={'center':'annee_sortie'}>,\n",
       "        <AxesSubplot:title={'center':'duree'}>],\n",
       "       [<AxesSubplot:title={'center':'nb_critiques_presse'}>,\n",
       "        <AxesSubplot:title={'center':'nb_critiques_spectateurs'}>,\n",
       "        <AxesSubplot:title={'center':'nb_notes_spectateurs'}>],\n",
       "       [<AxesSubplot:title={'center':'note_presse'}>,\n",
       "        <AxesSubplot:title={'center':'note_spectateurs'}>,\n",
       "        <AxesSubplot:>]], dtype=object)"
      ]
     },
     "execution_count": 29,
     "metadata": {},
     "output_type": "execute_result"
    },
    {
     "data": {
      "image/png": "[encoded data removed]",
      "text/plain": [
       "<Figure size 864x864 with 9 Axes>"
      ]
     },
     "metadata": {
      "needs_background": "light"
     },
     "output_type": "display_data"
    }
   ],
   "source": [
    "train_data_complete[[\"annee_prod\", \"annee_sortie\", \"duree\", \"nb_critiques_presse\", \"nb_critiques_spectateurs\", \"nb_notes_spectateurs\", \"note_presse\", \"note_spectateurs\"]].hist(figsize=(12, 12))"
   ]
  },
  {
   "cell_type": "code",
   "execution_count": 30,
   "metadata": {},
   "outputs": [
    {
     "name": "stdout",
     "output_type": "stream",
     "text": [
      "<class 'pandas.core.frame.DataFrame'>\n",
      "RangeIndex: 2875 entries, 0 to 2874\n",
      "Data columns (total 22 columns):\n",
      " #   Column                    Non-Null Count  Dtype  \n",
      "---  ------                    --------------  -----  \n",
      " 0   Unnamed: 0                2875 non-null   int64  \n",
      " 1   acteur_1                  2875 non-null   object \n",
      " 2   acteur_2                  2748 non-null   object \n",
      " 3   acteur_3                  2733 non-null   object \n",
      " 4   allocine_id               2875 non-null   int64  \n",
      " 5   annee_prod                2875 non-null   int64  \n",
      " 6   annee_sortie              2690 non-null   float64\n",
      " 7   box_office_fr             1783 non-null   float64\n",
      " 8   couleur                   2708 non-null   object \n",
      " 9   duree                     2828 non-null   float64\n",
      " 10  langues                   2426 non-null   object \n",
      " 11  nationalite               2875 non-null   object \n",
      " 12  nb_critiques_presse       2020 non-null   float64\n",
      " 13  nb_critiques_spectateurs  2758 non-null   float64\n",
      " 14  nb_notes_spectateurs      2785 non-null   float64\n",
      " 15  note_presse               2049 non-null   float64\n",
      " 16  note_spectateurs          2788 non-null   float64\n",
      " 17  realisateurs              2875 non-null   object \n",
      " 18  synopsis                  2875 non-null   object \n",
      " 19  titre                     2875 non-null   object \n",
      " 20  type_film                 2215 non-null   object \n",
      " 21  genre                     2875 non-null   object \n",
      "dtypes: float64(8), int64(3), object(11)\n",
      "memory usage: 494.3+ KB\n"
     ]
    }
   ],
   "source": [
    "train_data_complete.info()"
   ]
  },
  {
   "attachments": {},
   "cell_type": "markdown",
   "metadata": {},
   "source": [
    "Il y a un total de 2875 entrées dans les données d'entrainement."
   ]
  },
  {
   "cell_type": "code",
   "execution_count": 31,
   "metadata": {},
   "outputs": [
    {
     "data": {
      "text/plain": [
       "Unnamed: 0                     0\n",
       "acteur_1                       0\n",
       "acteur_2                     127\n",
       "acteur_3                     142\n",
       "allocine_id                    0\n",
       "annee_prod                     0\n",
       "annee_sortie                 185\n",
       "box_office_fr               1092\n",
       "couleur                      167\n",
       "duree                         47\n",
       "langues                      449\n",
       "nationalite                    0\n",
       "nb_critiques_presse          855\n",
       "nb_critiques_spectateurs     117\n",
       "nb_notes_spectateurs          90\n",
       "note_presse                  826\n",
       "note_spectateurs              87\n",
       "realisateurs                   0\n",
       "synopsis                       0\n",
       "titre                          0\n",
       "type_film                    660\n",
       "genre                          0\n",
       "dtype: int64"
      ]
     },
     "execution_count": 31,
     "metadata": {},
     "output_type": "execute_result"
    }
   ],
   "source": [
    "train_data_complete.isna().sum()"
   ]
  },
  {
   "attachments": {},
   "cell_type": "markdown",
   "metadata": {},
   "source": [
    "Aucune valeur de *genre* n'est manquante. Etant donné que l'attribut *genre* sera utilisé comme label, nous pouvons utiliser toutes les entrées dans les données d'entrainement."
   ]
  },
  {
   "attachments": {},
   "cell_type": "markdown",
   "metadata": {},
   "source": [
    "### Analyse des Données Utiles"
   ]
  },
  {
   "attachments": {},
   "cell_type": "markdown",
   "metadata": {},
   "source": [
    "On restreint les données aux attributs que nous utiliserons par la suite."
   ]
  },
  {
   "cell_type": "code",
   "execution_count": 32,
   "metadata": {},
   "outputs": [],
   "source": [
    "# train_data = train_data_complete[[\"titre\", \"synopsis\", \"genre\"]] (voir section \"Chargement des Données\")"
   ]
  },
  {
   "cell_type": "code",
   "execution_count": 33,
   "metadata": {},
   "outputs": [
    {
     "data": {
      "text/html": [
       "<div>\n",
       "<style scoped>\n",
       "    .dataframe tbody tr th:only-of-type {\n",
       "        vertical-align: middle;\n",
       "    }\n",
       "\n",
       "    .dataframe tbody tr th {\n",
       "        vertical-align: top;\n",
       "    }\n",
       "\n",
       "    .dataframe thead th {\n",
       "        text-align: right;\n",
       "    }\n",
       "</style>\n",
       "<table border=\"1\" class=\"dataframe\">\n",
       "  <thead>\n",
       "    <tr style=\"text-align: right;\">\n",
       "      <th></th>\n",
       "      <th>titre</th>\n",
       "      <th>synopsis</th>\n",
       "      <th>genre</th>\n",
       "    </tr>\n",
       "  </thead>\n",
       "  <tbody>\n",
       "    <tr>\n",
       "      <th>0</th>\n",
       "      <td>Le Crime de l' Orient - Express</td>\n",
       "      <td>En visite à Istanbul , le célèbre détective be...</td>\n",
       "      <td>policier</td>\n",
       "    </tr>\n",
       "    <tr>\n",
       "      <th>1</th>\n",
       "      <td>12 hommes en colère</td>\n",
       "      <td>Un jeune homme d' origine modeste est accusé d...</td>\n",
       "      <td>drame</td>\n",
       "    </tr>\n",
       "    <tr>\n",
       "      <th>2</th>\n",
       "      <td>Après moi le bonheur</td>\n",
       "      <td>Lorsque Marie-Laure , mère de quatre jeunes en...</td>\n",
       "      <td>drame</td>\n",
       "    </tr>\n",
       "  </tbody>\n",
       "</table>\n",
       "</div>"
      ],
      "text/plain": [
       "                             titre  \\\n",
       "0  Le Crime de l' Orient - Express   \n",
       "1              12 hommes en colère   \n",
       "2             Après moi le bonheur   \n",
       "\n",
       "                                            synopsis     genre  \n",
       "0  En visite à Istanbul , le célèbre détective be...  policier  \n",
       "1  Un jeune homme d' origine modeste est accusé d...     drame  \n",
       "2  Lorsque Marie-Laure , mère de quatre jeunes en...     drame  "
      ]
     },
     "execution_count": 33,
     "metadata": {},
     "output_type": "execute_result"
    }
   ],
   "source": [
    "train_data.head(3)"
   ]
  },
  {
   "cell_type": "code",
   "execution_count": 34,
   "metadata": {},
   "outputs": [
    {
     "name": "stdout",
     "output_type": "stream",
     "text": [
      "<class 'pandas.core.frame.DataFrame'>\n",
      "RangeIndex: 2875 entries, 0 to 2874\n",
      "Data columns (total 3 columns):\n",
      " #   Column    Non-Null Count  Dtype \n",
      "---  ------    --------------  ----- \n",
      " 0   titre     2875 non-null   object\n",
      " 1   synopsis  2875 non-null   object\n",
      " 2   genre     2875 non-null   object\n",
      "dtypes: object(3)\n",
      "memory usage: 67.5+ KB\n"
     ]
    }
   ],
   "source": [
    "train_data.info()"
   ]
  },
  {
   "cell_type": "code",
   "execution_count": 35,
   "metadata": {},
   "outputs": [
    {
     "data": {
      "text/html": [
       "<div>\n",
       "<style scoped>\n",
       "    .dataframe tbody tr th:only-of-type {\n",
       "        vertical-align: middle;\n",
       "    }\n",
       "\n",
       "    .dataframe tbody tr th {\n",
       "        vertical-align: top;\n",
       "    }\n",
       "\n",
       "    .dataframe thead th {\n",
       "        text-align: right;\n",
       "    }\n",
       "</style>\n",
       "<table border=\"1\" class=\"dataframe\">\n",
       "  <thead>\n",
       "    <tr style=\"text-align: right;\">\n",
       "      <th></th>\n",
       "      <th>titre</th>\n",
       "      <th>synopsis</th>\n",
       "      <th>genre</th>\n",
       "    </tr>\n",
       "  </thead>\n",
       "  <tbody>\n",
       "    <tr>\n",
       "      <th>count</th>\n",
       "      <td>2875</td>\n",
       "      <td>2875</td>\n",
       "      <td>2875</td>\n",
       "    </tr>\n",
       "    <tr>\n",
       "      <th>unique</th>\n",
       "      <td>2846</td>\n",
       "      <td>2875</td>\n",
       "      <td>9</td>\n",
       "    </tr>\n",
       "    <tr>\n",
       "      <th>top</th>\n",
       "      <td>Le Crime de l' Orient - Express</td>\n",
       "      <td>En visite à Istanbul , le célèbre détective be...</td>\n",
       "      <td>drame</td>\n",
       "    </tr>\n",
       "    <tr>\n",
       "      <th>freq</th>\n",
       "      <td>2</td>\n",
       "      <td>1</td>\n",
       "      <td>501</td>\n",
       "    </tr>\n",
       "  </tbody>\n",
       "</table>\n",
       "</div>"
      ],
      "text/plain": [
       "                                  titre  \\\n",
       "count                              2875   \n",
       "unique                             2846   \n",
       "top     Le Crime de l' Orient - Express   \n",
       "freq                                  2   \n",
       "\n",
       "                                                 synopsis  genre  \n",
       "count                                                2875   2875  \n",
       "unique                                               2875      9  \n",
       "top     En visite à Istanbul , le célèbre détective be...  drame  \n",
       "freq                                                    1    501  "
      ]
     },
     "execution_count": 35,
     "metadata": {},
     "output_type": "execute_result"
    }
   ],
   "source": [
    "train_data.describe()"
   ]
  },
  {
   "cell_type": "code",
   "execution_count": 36,
   "metadata": {},
   "outputs": [
    {
     "data": {
      "text/plain": [
       "titre       0\n",
       "synopsis    0\n",
       "genre       0\n",
       "dtype: int64"
      ]
     },
     "execution_count": 36,
     "metadata": {},
     "output_type": "execute_result"
    }
   ],
   "source": [
    "train_data.isna().sum()"
   ]
  },
  {
   "attachments": {},
   "cell_type": "markdown",
   "metadata": {},
   "source": [
    "## Pré-Traitement des Données\n",
    "\n",
    "Comme vu précédemment, les paramètres que nous souhaitons utiliser (*titre*, *synopsis*, *genre*) ne comportent pas de valeurs manquantes donc nous n'avons pas besoin d'éliminer d'individus des données d'entrainement.\n",
    "\n",
    "Nous remarquons aussi que les données sont déjà tokénisées. Tous les tokens sont séparés par des espaces.\n",
    "\n",
    "Cependant, nous pouvons utiliser un transformer pour obtenir des informations statistiques concernant le *synopsis*."
   ]
  },
  {
   "cell_type": "code",
   "execution_count": 43,
   "metadata": {},
   "outputs": [
    {
     "ename": "AttributeError",
     "evalue": "'DataFrame' object has no attribute 'description'",
     "output_type": "error",
     "traceback": [
      "\u001b[0;31m---------------------------------------------------------------------------\u001b[0m",
      "\u001b[0;31mAttributeError\u001b[0m                            Traceback (most recent call last)",
      "\u001b[1;32m/home/fabien/TPS/2A/Algorithmes du Texte/ProjetTAL/partie_1/partie_1.ipynb Cell 24\u001b[0m in \u001b[0;36m<cell line: 12>\u001b[0;34m()\u001b[0m\n\u001b[1;32m      <a href='vscode-notebook-cell:/home/fabien/TPS/2A/Algorithmes%20du%20Texte/ProjetTAL/partie_1/partie_1.ipynb#X42sZmlsZQ%3D%3D?line=8'>9</a>\u001b[0m text_stats_transformer \u001b[39m=\u001b[39m FunctionTransformer(text_stats)\n\u001b[1;32m     <a href='vscode-notebook-cell:/home/fabien/TPS/2A/Algorithmes%20du%20Texte/ProjetTAL/partie_1/partie_1.ipynb#X42sZmlsZQ%3D%3D?line=9'>10</a>\u001b[0m text_stats_vectorizer \u001b[39m=\u001b[39m DictVectorizer(sparse\u001b[39m=\u001b[39m\u001b[39mFalse\u001b[39;00m)\n\u001b[0;32m---> <a href='vscode-notebook-cell:/home/fabien/TPS/2A/Algorithmes%20du%20Texte/ProjetTAL/partie_1/partie_1.ipynb#X42sZmlsZQ%3D%3D?line=11'>12</a>\u001b[0m res_dict \u001b[39m=\u001b[39m text_stats_transformer\u001b[39m.\u001b[39mtransform(train_data\u001b[39m.\u001b[39;49mdescription\u001b[39m.\u001b[39mhead())\n\u001b[1;32m     <a href='vscode-notebook-cell:/home/fabien/TPS/2A/Algorithmes%20du%20Texte/ProjetTAL/partie_1/partie_1.ipynb#X42sZmlsZQ%3D%3D?line=12'>13</a>\u001b[0m res_stats \u001b[39m=\u001b[39m text_stats_vectorizer\u001b[39m.\u001b[39mfit_transform(res_dict)\n\u001b[1;32m     <a href='vscode-notebook-cell:/home/fabien/TPS/2A/Algorithmes%20du%20Texte/ProjetTAL/partie_1/partie_1.ipynb#X42sZmlsZQ%3D%3D?line=13'>14</a>\u001b[0m \u001b[39mprint\u001b[39m(\u001b[39m\"\u001b[39m\u001b[39mInput descriptions\u001b[39m\u001b[39m\"\u001b[39m)\n",
      "File \u001b[0;32m~/anaconda3/lib/python3.9/site-packages/pandas/core/generic.py:5575\u001b[0m, in \u001b[0;36mNDFrame.__getattr__\u001b[0;34m(self, name)\u001b[0m\n\u001b[1;32m   5568\u001b[0m \u001b[39mif\u001b[39;00m (\n\u001b[1;32m   5569\u001b[0m     name \u001b[39mnot\u001b[39;00m \u001b[39min\u001b[39;00m \u001b[39mself\u001b[39m\u001b[39m.\u001b[39m_internal_names_set\n\u001b[1;32m   5570\u001b[0m     \u001b[39mand\u001b[39;00m name \u001b[39mnot\u001b[39;00m \u001b[39min\u001b[39;00m \u001b[39mself\u001b[39m\u001b[39m.\u001b[39m_metadata\n\u001b[1;32m   5571\u001b[0m     \u001b[39mand\u001b[39;00m name \u001b[39mnot\u001b[39;00m \u001b[39min\u001b[39;00m \u001b[39mself\u001b[39m\u001b[39m.\u001b[39m_accessors\n\u001b[1;32m   5572\u001b[0m     \u001b[39mand\u001b[39;00m \u001b[39mself\u001b[39m\u001b[39m.\u001b[39m_info_axis\u001b[39m.\u001b[39m_can_hold_identifiers_and_holds_name(name)\n\u001b[1;32m   5573\u001b[0m ):\n\u001b[1;32m   5574\u001b[0m     \u001b[39mreturn\u001b[39;00m \u001b[39mself\u001b[39m[name]\n\u001b[0;32m-> 5575\u001b[0m \u001b[39mreturn\u001b[39;00m \u001b[39mobject\u001b[39;49m\u001b[39m.\u001b[39;49m\u001b[39m__getattribute__\u001b[39;49m(\u001b[39mself\u001b[39;49m, name)\n",
      "\u001b[0;31mAttributeError\u001b[0m: 'DataFrame' object has no attribute 'description'"
     ]
    }
   ],
   "source": [
    "from sklearn.feature_extraction import DictVectorizer\n",
    "from sklearn.preprocessing import FunctionTransformer, MinMaxScaler\n",
    "\n",
    "# Source : https://scikit-learn.org/stable/auto_examples/compose/plot_column_transformer.html\n",
    "def text_stats(descriptions):\n",
    "    return [{\"length\": len(text), \"num_sentences\": text.count(\".\")} for text in descriptions]\n",
    "\n",
    "text_stats_transformer = FunctionTransformer(text_stats)\n",
    "text_stats_vectorizer = DictVectorizer(sparse=False)\n",
    "\n",
    "res_dict = text_stats_transformer.transform(train_data.description.head())\n",
    "res_stats = text_stats_vectorizer.fit_transform(res_dict)\n",
    "print(\"Input descriptions\")\n",
    "print(train_data.description.head())\n",
    "print()\n",
    "print(\"Output statistics\")\n",
    "stats = pd.DataFrame(res_stats, columns=text_stats_vectorizer.get_feature_names())\n",
    "stats\n",
    "\n",
    "min_max_scaler = MinMaxScaler()\n",
    "scaled_stats = min_max_scaler.fit_transform(res_stats)\n",
    "\n",
    "print(\"Before MinMax scaling\")\n",
    "print(res_stats)\n",
    "print()\n",
    "print(\"After MinMax scaling\")\n",
    "print(scaled_stats)"
   ]
  },
  {
   "attachments": {},
   "cell_type": "markdown",
   "metadata": {},
   "source": [
    "## Prediction de Genre"
   ]
  },
  {
   "attachments": {},
   "cell_type": "markdown",
   "metadata": {},
   "source": [
    "### Création des Jeux d'Entrainement et de Test\n",
    "\n",
    "Afin de ne pas biaiser le résultat de nos recherches nous n'utiliserons le fichier *allocine_genres_test.csv* uniquement lorsque nous aurons définitivement choisit le classifier. Nous n'utiliserons donc pas *test_data_complete* et *test_data* dans cette section.\n",
    "\n",
    "Afin de tester et évaluer différents algorithmes nous devons donc créer des jeux de données d'entrainement et de test issus des données d'entrainement (*train_data*). Pour cela nous utilisons la fonction *train_test_split* de la librairie **scikit-learn** en choisissant 20% des données pour créer le jeu de test en prenant soin de mélanger les données (cela perment d'éviter tout biais d'apprentissage: entrainer le classifier unioquement sur les films du XXème siècle).\n",
    "\n",
    "Nous obtenons donc 4 jeux de données:\n",
    "- X_train: Titre et synopsis pour entrainement  \n",
    "- y_train: Genre pour entrainement (label)  \n",
    "- X_test: Titre et synopsis pour test  \n",
    "- y_test: Genre pour test (label)  "
   ]
  },
  {
   "cell_type": "code",
   "execution_count": 39,
   "metadata": {},
   "outputs": [],
   "source": [
    "from sklearn.model_selection import train_test_split\n",
    "\n",
    "X_train, X_test, y_train, y_test = train_test_split(train_data[[\"titre\", \"synopsis\"]],\n",
    "                                                    train_data[[\"genre\"]],\n",
    "                                                    test_size=0.2,\n",
    "                                                    random_state=12, # Random seed for shuffle\n",
    "                                                    shuffle=True)"
   ]
  },
  {
   "attachments": {},
   "cell_type": "markdown",
   "metadata": {},
   "source": [
    "TP1 -> "
   ]
  }
 ],
 "metadata": {
  "kernelspec": {
   "display_name": "base",
   "language": "python",
   "name": "python3"
  },
  "language_info": {
   "codemirror_mode": {
    "name": "ipython",
    "version": 3
   },
   "file_extension": ".py",
   "mimetype": "text/x-python",
   "name": "python",
   "nbconvert_exporter": "python",
   "pygments_lexer": "ipython3",
   "version": "3.9.12"
  },
  "orig_nbformat": 4
 },
 "nbformat": 4,
 "nbformat_minor": 2
}
