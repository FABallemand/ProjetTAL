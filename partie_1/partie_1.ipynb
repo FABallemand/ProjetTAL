{
 "cells": [
  {
   "attachments": {},
   "cell_type": "markdown",
   "metadata": {},
   "source": [
    "# Partie 1: Classification de Documents"
   ]
  },
  {
   "cell_type": "code",
   "execution_count": null,
   "metadata": {},
   "outputs": [],
   "source": [
    "import pandas as pd\n",
    "import numpy as np\n",
    "\n",
    "import matplotlib.pyplot as plt"
   ]
  },
  {
   "attachments": {},
   "cell_type": "markdown",
   "metadata": {},
   "source": [
    "## Chargement des Données"
   ]
  },
  {
   "cell_type": "code",
   "execution_count": null,
   "metadata": {},
   "outputs": [],
   "source": [
    "# Données d'entrainement\n",
    "train_data_complete = pd.read_csv(\"../data/allocine_genres_train.csv\", sep=\",\")\n",
    "train_data = train_data_complete[[\"titre\", \"synopsis\", \"genre\"]]\n",
    "\n",
    "# Données de test/validation\n",
    "test_data_complete = pd.read_csv(\"../data/allocine_genres_test.csv\", sep=\",\")\n",
    "trest_data = test_data_complete[[\"titre\", \"synopsis\", \"genre\"]]"
   ]
  },
  {
   "attachments": {},
   "cell_type": "markdown",
   "metadata": {},
   "source": [
    "## Analyse des Données"
   ]
  },
  {
   "attachments": {},
   "cell_type": "markdown",
   "metadata": {},
   "source": [
    "### Analyse Générale"
   ]
  },
  {
   "cell_type": "code",
   "execution_count": null,
   "metadata": {},
   "outputs": [],
   "source": [
    "train_data_complete.head(3)"
   ]
  },
  {
   "cell_type": "code",
   "execution_count": null,
   "metadata": {},
   "outputs": [],
   "source": [
    "train_data_complete.tail(3)"
   ]
  },
  {
   "cell_type": "code",
   "execution_count": null,
   "metadata": {},
   "outputs": [],
   "source": [
    "train_data_complete[[\"annee_prod\", \"annee_sortie\", \"duree\", \"nb_critiques_presse\", \"nb_critiques_spectateurs\", \"nb_notes_spectateurs\", \"note_presse\", \"note_spectateurs\"]].describe()"
   ]
  },
  {
   "cell_type": "code",
   "execution_count": null,
   "metadata": {},
   "outputs": [],
   "source": [
    "train_data_complete[[\"annee_prod\", \"annee_sortie\", \"duree\", \"nb_critiques_presse\", \"nb_critiques_spectateurs\", \"nb_notes_spectateurs\", \"note_presse\", \"note_spectateurs\"]].hist(figsize=(12, 12))"
   ]
  },
  {
   "cell_type": "code",
   "execution_count": null,
   "metadata": {},
   "outputs": [],
   "source": [
    "train_data_complete.info()"
   ]
  },
  {
   "attachments": {},
   "cell_type": "markdown",
   "metadata": {},
   "source": [
    "Il y a un total de 2875 entrées dans les données d'entrainement."
   ]
  },
  {
   "cell_type": "code",
   "execution_count": null,
   "metadata": {},
   "outputs": [],
   "source": [
    "train_data_complete.isna().sum()"
   ]
  },
  {
   "attachments": {},
   "cell_type": "markdown",
   "metadata": {},
   "source": [
    "Aucune valeur de *genre* n'est manquante. Etant donné que l'attribut *genre* sera utilisé comme label, nous pouvons utiliser toutes les entrées dans les données d'entrainement."
   ]
  },
  {
   "attachments": {},
   "cell_type": "markdown",
   "metadata": {},
   "source": [
    "### Analyse des Données Utiles"
   ]
  },
  {
   "attachments": {},
   "cell_type": "markdown",
   "metadata": {},
   "source": [
    "On restreint les données aux attributs que nous utiliserons par la suite."
   ]
  },
  {
   "cell_type": "code",
   "execution_count": null,
   "metadata": {},
   "outputs": [],
   "source": [
    "# train_data = train_data_complete[[\"titre\", \"synopsis\", \"genre\"]] (voir section \"Chargement des Données\")"
   ]
  },
  {
   "cell_type": "code",
   "execution_count": null,
   "metadata": {},
   "outputs": [],
   "source": [
    "train_data.head(3)"
   ]
  },
  {
   "cell_type": "code",
   "execution_count": null,
   "metadata": {},
   "outputs": [],
   "source": [
    "train_data.info()"
   ]
  },
  {
   "cell_type": "code",
   "execution_count": null,
   "metadata": {},
   "outputs": [],
   "source": [
    "train_data.describe()"
   ]
  },
  {
   "cell_type": "code",
   "execution_count": null,
   "metadata": {},
   "outputs": [],
   "source": [
    "train_data.isna().sum()"
   ]
  },
  {
   "attachments": {},
   "cell_type": "markdown",
   "metadata": {},
   "source": [
    "On remarque que tous les genres n'ont pas la même probabilité dans le jeu de donnée."
   ]
  },
  {
   "cell_type": "code",
   "execution_count": 33,
   "metadata": {},
   "outputs": [
    {
     "data": {
      "text/plain": [
       "drame              501\n",
       "comédie            483\n",
       "romance            443\n",
       "policier           331\n",
       "horreur            299\n",
       "science fiction    298\n",
       "biopic             191\n",
       "documentaire       167\n",
       "historique         162\n",
       "Name: genre, dtype: int64"
      ]
     },
     "execution_count": 33,
     "metadata": {},
     "output_type": "execute_result"
    }
   ],
   "source": [
    "# train_data[\"genre\"].hist(by=train_data[\"genre\"\n",
    "train_data[\"genre\"].value_counts()"
   ]
  },
  {
   "attachments": {},
   "cell_type": "markdown",
   "metadata": {},
   "source": [
    "## Pré-Traitement des Données\n",
    "\n",
    "Comme vu précédemment, les paramètres que nous souhaitons utiliser (*titre*, *synopsis*, *genre*) ne comportent pas de valeurs manquantes donc nous n'avons pas besoin d'éliminer d'individus des données d'entrainement.\n",
    "\n",
    "Nous remarquons aussi que les données sont déjà tokénisées. Tous les tokens sont séparés par des espaces.\n",
    "\n",
    "Cependant, nous pouvons utiliser un transformer pour obtenir des informations statistiques concernant le *synopsis*.\n",
    "\n",
    "**Remarque:** On normalise ces informations statistiques afin qu'elles aient toutes le même poids lors de la classification."
   ]
  },
  {
   "cell_type": "code",
   "execution_count": 17,
   "metadata": {},
   "outputs": [
    {
     "name": "stdout",
     "output_type": "stream",
     "text": [
      "['de', 'également', 'aura', 'sera', 'plutot', 'j’', 'autres', 'durant', 'notamment', 'son', 'différentes', 'onze', 'très', 'pourrais', 'sinon', \"n'\", 'abord', 'importe', 'quatre-vingt', 'tres', 'moi-meme', 'certains', 'suivre', 'nôtres', 'bas', 'ait', 'leur', 'voici', 'retour', 'aux', 'selon', 'd’', 'â', 'duquel', 'quelles', 'quant', 'quoi', \"t'\", 'cinq', 'treize', 'des', 'telles', 'ai', 'tant', 'ceux-ci', 'celle-ci', 'comment', 'deuxième', 'différent', 'es', 'eux-mêmes', 'seraient', 'je', 'celles-ci', 'enfin', 'elle', 'sauf', 'doivent', 'ne', 'lui-meme', 'ouias', 'avait', 'houp', 'ouverts', 'quiconque', 'miennes', 'revoici', 'revoila', 'y', 'font', 'moins', 'directement', 'qu’', 'soi-même', \"m'\", 'sont', 'attendu', 'hormis', \"c'\", 'possible', 'dejà', 'delà', 'differents', 'toi-même', 'moi-même', 'depuis', 'après', 'ès', 'semble', 'ça', 'semblable', 'cet', 'a', 'moi', 'allons', 'quatre', 'vas', 'suffisant', 'nombreuses', 'sans', 'revoilà', 'plutôt', 'eh', 'hé', 'certain', 'un', 'suivantes', 'ho', 'au', 'préalable', 'façon', 'ces', 'puisque', 'eux', 'quoique', 'telle', \"quelqu'un\", 'se', 'feront', 'differente', 'effet', 'prealable', 'different', 'pourquoi', 'suit', 'seules', 'restant', 'stop', 'aurait', 'être', 'dix-neuf', 'dessus', 'procedant', 'quant-à-soi', 'diverses', 'tiennes', 'onzième', 'notre', 'pouvait', 'mille', 'comme', 'chez', 'sa', 'puis', 'specifique', 'touchant', 'chaque', 'si', 'quel', \"qu'\", 'etaient', 'vont', 'tente', 'dedans', 'seulement', 'tiens', 'laquelle', 'cette', 'surtout', 'hors', 'lequel', 'quels', 'tels', 'ils', 'suffit', 'quarante', 'auxquelles', 'différents', 'toi', 'outre', 'étais', 'dite', 'même', 'neanmoins', 'ouvert', 'dès', 'debout', 'ceux-là', 'faisant', 'lui-même', 'ha', 'car', 'auquel', 'te', 'cela', 'parler', 'celles', 'devra', 'cinquantième', 'soixante', 'ta', 'desquelles', \"l'\", 'soit', 'anterieure', 'en', 'o', 'parle', 'soi', 'par', 'auraient', 'étant', 'dehors', 'sur', 'quelque', 'tout', 'c’', 'sixième', 'dixième', 'suis', 'partant', 'sept', 'dix', 'mienne', 'antérieure', 'compris', 'tous', 'restent', 'celles-la', 'là', 'faisaient', 'etc', 'ouste', 'chacune', 'était', 'nôtre', 'où', 'sous', 'anterieur', 'peuvent', 'sien', 'excepté', 'mien', 'les', 'quelle', 'deja', 'peu', 'seront', 'toi-meme', 'va', 'premier', 'fait', 'i', 'et', 'aie', 'leurs', 'tenant', 'uns', 'laisser', 'pour', 'anterieures', 'sent', 'troisième', 'voila', 'basee', 'or', 'premièrement', 'pu', 'vôtre', 'ce', 'seul', 'siennes', 'dessous', 'pres', 'envers', 'directe', 'concernant', 'celui-là', 'aupres', 'lesquels', 'elles', 'votres', 'avais', 'peux', 'relative', 'vé', 'ton', 'auxquels', 'ceux', 'hou', 'hue', 'seize', 'possibles', 'antérieures', 'nul', 'differentes', 'certaine', 'huitième', 'juste', 'neuvième', 'semblaient', 'du', 'ceci', 'vais', 'devant', 'sait', 'rend', 'sienne', 'devers', 'nous-mêmes', 'avoir', 'toute', 'nombreux', 'celui-la', 'on', 'personne', 'celui-ci', 'douzième', 'plus', 'desormais', 'egalement', 'desquels', 'mes', 'derriere', 'ma', 'facon', 'allaient', 'nouveau', 'certaines', 'dit', 'maintenant', 'na', 'divers', 'nous', 'ayant', 'antérieur', 's’', 'dits', 'suivant', 'bat', 'environ', 'siens', 'tes', 'serait', 'hui', 'seuls', 'l’', 'peut', 'première', 'malgre', 'ni', 'semblent', 'chacun', 'assez', 'il', 'cependant', 't’', 'specifiques', 'moindres', 'mais', 'seule', 'té', 'cinquantaine', 'etait', 'combien', 'parmi', 'suivants', 'voilà', 'douze', 'vous-mêmes', 'spécifique', 'cent', 'ont', 'quand', 'lui', 'exactement', 'deux', 'permet', 'toujours', 'plusieurs', 'parfois', 'celle', 'aussi', 'lors', 'vu', 'jusqu', 'via', 'etant', 'autrement', 'lès', 'ci', 'afin', 'dix-sept', 'vôtres', 'déjà', 'hi', 'dans', \"d'\", 'qui', 'relativement', 'tellement', 'trente', 'deuxièmement', 'votre', 'soi-meme', 'vos', 'elle-meme', 'maint', 'entre', 'elles-memes', 'lorsque', 'six', 'rendre', 'huit', 'etre', 'le', 'tu', 'avant', 'autrui', 'derrière', 'tien', 'celui', 'auront', 'pas', 'tel', 'mon', 'merci', 'tienne', 'avaient', 'quatrième', 'da', 'nos', 'septième', 'ô', 'certes', 'tend', 'malgré', 'quelques', 'jusque', 'ou', 'près', 'me', 'la', 'etais', 'une', 'vers', 'as', 'elles-mêmes', 'elle-même', 'alors', 'spécifiques', 'quatrièmement', 'fais', 'ouverte', 'est', 'souvent', 'diverse', 'vous', 'celle-là', 'étaient', 'lesquelles', 'hep', 'mêmes', 'néanmoins', 'trois', 'suffisante', \"s'\", 'precisement', 'cinquième', 'parce', 'toutes', 'parlent', 'vingt', 'miens', 'encore', 'proche', 'hem', 'unes', 'avons', 'meme', 'différente', 'dire', 'dix-huit', 'longtemps', 'dont', 'cinquante', 'ainsi', 'suivante', \"j'\", 'gens', 'pense', 'pourrait', 'memes', 'quatorze', 'avec', 'pendant', 'tenir', 'troisièmement', 'précisement', 'quelconque', 'désormais', 'à', 'ah', 'quinze', 'autre', 'eu', 'que', 'ses', 'donc', 'doit', 'reste', 'apres', 'm’', 'déja', 'n’', 'celle-la', 'celles-là']\n"
     ]
    }
   ],
   "source": [
    "import string\n",
    "from spacy.lang.fr.stop_words import STOP_WORDS as fr_stop\n",
    "from spacy.lang.fr.stop_words import STOP_WORDS as en_stop\n",
    "\n",
    "from sklearn.feature_extraction.text import TfidfVectorizer\n",
    "\n",
    "def transform_into_token_list(synopsis):\n",
    "    return synopsis.split(\" \")\n",
    "\n",
    "nltk_stopwords_synopsis = list(fr_stop) + list(string.punctuation)\n",
    "nltk_stopwords_titre = list(fr_stop) + list(en_stop) + list(string.punctuation)\n",
    "\n",
    "\n",
    "titre_vectorizer = TfidfVectorizer(tokenizer=transform_into_token_list, \n",
    "                                  lowercase=True, \n",
    "                                  stop_words=nltk_stopwords_titre, \n",
    "                                  min_df=0.01)\n",
    "\n",
    "# Objet TfidfVectorizer\n",
    "synopsis_vectorizer = TfidfVectorizer(tokenizer=transform_into_token_list, \n",
    "                                      lowercase=True, \n",
    "                                      stop_words=nltk_stopwords_synopsis, \n",
    "                                      min_df=0.01)"
   ]
  },
  {
   "attachments": {},
   "cell_type": "markdown",
   "metadata": {},
   "source": [
    "Certains stop words nous semblent important en tant qu'humain..."
   ]
  },
  {
   "cell_type": "code",
   "execution_count": 18,
   "metadata": {},
   "outputs": [
    {
     "name": "stdout",
     "output_type": "stream",
     "text": [
      "Input descriptions\n",
      "0    En visite à Istanbul , le célèbre détective be...\n",
      "1    Un jeune homme d' origine modeste est accusé d...\n",
      "2    Lorsque Marie-Laure , mère de quatre jeunes en...\n",
      "3    Un vagabond s’ éprend d’ une belle et jeune ve...\n",
      "4    L' histoire vraie de Carl Brashear , premier A...\n",
      "Name: synopsis, dtype: object\n",
      "Output statistics\n",
      "   length  num_sentences\n",
      "0   677.0            4.0\n",
      "1   460.0            4.0\n",
      "2   560.0            4.0\n",
      "3   233.0            4.0\n",
      "4   340.0            2.0\n",
      "Before MinMax scaling\n",
      "[[677.   4.]\n",
      " [460.   4.]\n",
      " [560.   4.]\n",
      " [233.   4.]\n",
      " [340.   2.]]\n",
      "After MinMax scaling\n",
      "[[1.         1.        ]\n",
      " [0.51126126 1.        ]\n",
      " [0.73648649 1.        ]\n",
      " [0.         1.        ]\n",
      " [0.24099099 0.        ]]\n"
     ]
    },
    {
     "name": "stderr",
     "output_type": "stream",
     "text": [
      "/home/fabien/anaconda3/lib/python3.9/site-packages/sklearn/utils/deprecation.py:87: FutureWarning: Function get_feature_names is deprecated; get_feature_names is deprecated in 1.0 and will be removed in 1.2. Please use get_feature_names_out instead.\n",
      "  warnings.warn(msg, category=FutureWarning)\n"
     ]
    }
   ],
   "source": [
    "from sklearn.feature_extraction import DictVectorizer\n",
    "from sklearn.preprocessing import FunctionTransformer, MinMaxScaler\n",
    "\n",
    "# Source: https://scikit-learn.org/stable/auto_examples/compose/plot_column_transformer.html\n",
    "def text_stats(descriptions):\n",
    "    return [{\"length\": len(text), \"num_sentences\": text.count(\".\")} for text in descriptions]\n",
    "\n",
    "text_stats_transformer = FunctionTransformer(text_stats)\n",
    "text_stats_vectorizer = DictVectorizer(sparse=False)\n",
    "\n",
    "res_dict = text_stats_transformer.transform(train_data.synopsis.head())\n",
    "res_stats = text_stats_vectorizer.fit_transform(res_dict)\n",
    "print(\"Input descriptions\")\n",
    "print(train_data.synopsis.head())\n",
    "print(\"Output statistics\")\n",
    "stats = pd.DataFrame(res_stats, columns=text_stats_vectorizer.get_feature_names())\n",
    "print(stats)\n",
    "\n",
    "min_max_scaler = MinMaxScaler()\n",
    "scaled_stats = min_max_scaler.fit_transform(res_stats)\n",
    "\n",
    "print(\"Before MinMax scaling\")\n",
    "print(res_stats)\n",
    "print(\"After MinMax scaling\")\n",
    "print(scaled_stats)"
   ]
  },
  {
   "attachments": {},
   "cell_type": "markdown",
   "metadata": {},
   "source": [
    "On peut créer une *Pipeline* qui effectue l'ensemble des transformation sur le jeu de données."
   ]
  },
  {
   "cell_type": "code",
   "execution_count": 20,
   "metadata": {},
   "outputs": [],
   "source": [
    "from sklearn.compose import ColumnTransformer\n",
    "from sklearn.pipeline import Pipeline\n",
    "\n",
    "column_trans = ColumnTransformer(\n",
    "    [\n",
    "        # Titre: tf-idf\n",
    "        (\"titre_tfidf\", titre_vectorizer, \"titre\"),\n",
    "        # Synopsis: tf-idf\n",
    "        (\"synopsis_tfidf\", synopsis_vectorizer, \"synopsis\"),\n",
    "        # Synopsis: statistiques\n",
    "        (\n",
    "            \"synopsis_stats\",\n",
    "            Pipeline(\n",
    "                [\n",
    "                    (\"text_stats\", text_stats_transformer),\n",
    "                    (\"vect\", text_stats_vectorizer),\n",
    "                    (\"scaling\", min_max_scaler)\n",
    "                ]\n",
    "            ), \n",
    "            \"synopsis\"\n",
    "        )\n",
    "    ],\n",
    "    # Others\n",
    "    remainder=\"passthrough\"\n",
    ")"
   ]
  },
  {
   "cell_type": "code",
   "execution_count": 21,
   "metadata": {},
   "outputs": [
    {
     "data": {
      "text/plain": [
       "ColumnTransformer(remainder='passthrough',\n",
       "                  transformers=[('titre_tfidf',\n",
       "                                 TfidfVectorizer(min_df=0.01,\n",
       "                                                 stop_words=['de', 'également',\n",
       "                                                             'aura', 'sera',\n",
       "                                                             'plutot', 'j’',\n",
       "                                                             'autres', 'durant',\n",
       "                                                             'notamment', 'son',\n",
       "                                                             'différentes',\n",
       "                                                             'onze', 'très',\n",
       "                                                             'pourrais',\n",
       "                                                             'sinon', \"n'\",\n",
       "                                                             'abord', 'importe',\n",
       "                                                             'quatre-vingt',\n",
       "                                                             'tres', 'moi-meme',\n",
       "                                                             'certains',\n",
       "                                                             'suivre', 'nôtres',\n",
       "                                                             'bas', 'ait',\n",
       "                                                             'leur', 'voici'...\n",
       "                                                             'tres', 'moi-meme',\n",
       "                                                             'certains',\n",
       "                                                             'suivre', 'nôtres',\n",
       "                                                             'bas', 'ait',\n",
       "                                                             'leur', 'voici',\n",
       "                                                             'retour', 'aux', ...],\n",
       "                                                 tokenizer=<function transform_into_token_list at 0x7f780b54a8b0>),\n",
       "                                 'synopsis'),\n",
       "                                ('synopsis_stats',\n",
       "                                 Pipeline(steps=[('text_stats',\n",
       "                                                  FunctionTransformer(func=<function text_stats at 0x7f780b54a310>)),\n",
       "                                                 ('vect',\n",
       "                                                  DictVectorizer(sparse=False)),\n",
       "                                                 ('scaling', MinMaxScaler())]),\n",
       "                                 'synopsis')])"
      ]
     },
     "execution_count": 21,
     "metadata": {},
     "output_type": "execute_result"
    }
   ],
   "source": [
    "column_trans"
   ]
  },
  {
   "attachments": {},
   "cell_type": "markdown",
   "metadata": {},
   "source": [
    "## Prediction de Genre"
   ]
  },
  {
   "attachments": {},
   "cell_type": "markdown",
   "metadata": {},
   "source": [
    "### Création des Jeux d'Entrainement et de Test\n",
    "\n",
    "Afin de ne pas biaiser le résultat de nos recherches nous n'utiliserons le fichier *allocine_genres_test.csv* uniquement lorsque nous aurons définitivement choisit le classifier. Nous n'utiliserons donc pas *test_data_complete* et *test_data* dans cette section.\n",
    "\n",
    "Afin de tester et évaluer différents algorithmes nous devons donc créer des jeux de données d'entrainement et de test issus des données d'entrainement (*train_data*). Pour cela nous utilisons la fonction *train_test_split* de la librairie **scikit-learn** en choisissant 20% des données pour créer le jeu de test en prenant soin de mélanger les données (cela perment d'éviter tout biais d'apprentissage: entrainer le classifier unioquement sur les films du XXème siècle).\n",
    "\n",
    "Nous obtenons donc 4 jeux de données:\n",
    "- X_train: Titre et synopsis pour entrainement  \n",
    "- y_train: Genre pour entrainement (label)  \n",
    "- X_test: Titre et synopsis pour test  \n",
    "- y_test: Genre pour test (label)  "
   ]
  },
  {
   "cell_type": "code",
   "execution_count": 22,
   "metadata": {},
   "outputs": [],
   "source": [
    "from sklearn.model_selection import train_test_split\n",
    "\n",
    "X_train, X_test, y_train, y_test = train_test_split(train_data[[\"titre\", \"synopsis\"]],\n",
    "                                                    train_data[[\"genre\"]],\n",
    "                                                    test_size=0.2,\n",
    "                                                    random_state=12, # Random seed for shuffle\n",
    "                                                    shuffle=True)"
   ]
  },
  {
   "attachments": {},
   "cell_type": "markdown",
   "metadata": {},
   "source": [
    "### Apprentissage"
   ]
  },
  {
   "cell_type": "code",
   "execution_count": 23,
   "metadata": {},
   "outputs": [],
   "source": [
    "from sklearn.pipeline import make_pipeline\n",
    "from sklearn.linear_model import LogisticRegression\n",
    "\n",
    "# Pipeline pré-traitement et apprentissage\n",
    "classifier_pipeline = make_pipeline(\n",
    "    # Préparation des données pour l'apprentissage\n",
    "    column_trans,\n",
    "    # Algorithme d'apprentissage\n",
    "    LogisticRegression()\n",
    ")"
   ]
  },
  {
   "cell_type": "code",
   "execution_count": 28,
   "metadata": {},
   "outputs": [
    {
     "name": "stderr",
     "output_type": "stream",
     "text": [
      "/home/fabien/anaconda3/lib/python3.9/site-packages/sklearn/utils/validation.py:993: DataConversionWarning: A column-vector y was passed when a 1d array was expected. Please change the shape of y to (n_samples, ), for example using ravel().\n",
      "  y = column_or_1d(y, warn=True)\n"
     ]
    },
    {
     "data": {
      "text/plain": [
       "Pipeline(steps=[('columntransformer',\n",
       "                 ColumnTransformer(remainder='passthrough',\n",
       "                                   transformers=[('titre_tfidf',\n",
       "                                                  TfidfVectorizer(min_df=0.01,\n",
       "                                                                  stop_words=['de',\n",
       "                                                                              'également',\n",
       "                                                                              'aura',\n",
       "                                                                              'sera',\n",
       "                                                                              'plutot',\n",
       "                                                                              'j’',\n",
       "                                                                              'autres',\n",
       "                                                                              'durant',\n",
       "                                                                              'notamment',\n",
       "                                                                              'son',\n",
       "                                                                              'différentes',\n",
       "                                                                              'onze',\n",
       "                                                                              'très',\n",
       "                                                                              'pourrais',\n",
       "                                                                              'sinon',\n",
       "                                                                              \"n'\",\n",
       "                                                                              'abord',\n",
       "                                                                              'importe',\n",
       "                                                                              'quatre-vingt',\n",
       "                                                                              'tres',\n",
       "                                                                              'moi-meme',\n",
       "                                                                              'certains',\n",
       "                                                                              'suivre...\n",
       "                                                                              'ait',\n",
       "                                                                              'leur',\n",
       "                                                                              'voici',\n",
       "                                                                              'retour',\n",
       "                                                                              'aux', ...],\n",
       "                                                                  tokenizer=<function transform_into_token_list at 0x7f780b54a8b0>),\n",
       "                                                  'synopsis'),\n",
       "                                                 ('synopsis_stats',\n",
       "                                                  Pipeline(steps=[('text_stats',\n",
       "                                                                   FunctionTransformer(func=<function text_stats at 0x7f780b54a310>)),\n",
       "                                                                  ('vect',\n",
       "                                                                   DictVectorizer(sparse=False)),\n",
       "                                                                  ('scaling',\n",
       "                                                                   MinMaxScaler())]),\n",
       "                                                  'synopsis')])),\n",
       "                ('logisticregression', LogisticRegression())])"
      ]
     },
     "execution_count": 28,
     "metadata": {},
     "output_type": "execute_result"
    }
   ],
   "source": [
    "# Apprentissage avec les données d'entraînement\n",
    "classifier_pipeline.fit(X_train, y_train.to_numpy())"
   ]
  },
  {
   "cell_type": "code",
   "execution_count": 29,
   "metadata": {},
   "outputs": [
    {
     "name": "stdout",
     "output_type": "stream",
     "text": [
      "Classification report:\n",
      "\n",
      "                 precision    recall  f1-score   support\n",
      "\n",
      "         biopic       0.64      0.16      0.26        43\n",
      "        comédie       0.42      0.53      0.47       100\n",
      "   documentaire       0.78      0.17      0.29        40\n",
      "          drame       0.38      0.47      0.42       112\n",
      "     historique       0.36      0.19      0.24        27\n",
      "        horreur       0.47      0.36      0.40        59\n",
      "       policier       0.52      0.56      0.54        57\n",
      "        romance       0.34      0.51      0.41        78\n",
      "science fiction       0.54      0.49      0.51        59\n",
      "\n",
      "       accuracy                           0.43       575\n",
      "      macro avg       0.49      0.38      0.39       575\n",
      "   weighted avg       0.47      0.43      0.42       575\n",
      "\n"
     ]
    }
   ],
   "source": [
    "from sklearn.metrics import classification_report\n",
    "\n",
    "y_pred = classifier_pipeline.predict(X_test)\n",
    "print(\"Classification report:\\n\\n{}\".format(classification_report(y_test, y_pred)))"
   ]
  },
  {
   "cell_type": "code",
   "execution_count": null,
   "metadata": {},
   "outputs": [
    {
     "name": "stdout",
     "output_type": "stream",
     "text": [
      "confusion matrix\n",
      "\n",
      "(row=expected, col=predicted)\n"
     ]
    },
    {
     "data": {
      "text/html": [
       "<div>\n",
       "<style scoped>\n",
       "    .dataframe tbody tr th:only-of-type {\n",
       "        vertical-align: middle;\n",
       "    }\n",
       "\n",
       "    .dataframe tbody tr th {\n",
       "        vertical-align: top;\n",
       "    }\n",
       "\n",
       "    .dataframe thead th {\n",
       "        text-align: right;\n",
       "    }\n",
       "</style>\n",
       "<table border=\"1\" class=\"dataframe\">\n",
       "  <thead>\n",
       "    <tr style=\"text-align: right;\">\n",
       "      <th></th>\n",
       "      <th>biopic</th>\n",
       "      <th>comédie</th>\n",
       "      <th>documentaire</th>\n",
       "      <th>drame</th>\n",
       "      <th>historique</th>\n",
       "      <th>horreur</th>\n",
       "      <th>policier</th>\n",
       "      <th>romance</th>\n",
       "      <th>science fiction</th>\n",
       "    </tr>\n",
       "  </thead>\n",
       "  <tbody>\n",
       "    <tr>\n",
       "      <th>biopic</th>\n",
       "      <td>7</td>\n",
       "      <td>5</td>\n",
       "      <td>1</td>\n",
       "      <td>8</td>\n",
       "      <td>3</td>\n",
       "      <td>3</td>\n",
       "      <td>4</td>\n",
       "      <td>8</td>\n",
       "      <td>4</td>\n",
       "    </tr>\n",
       "    <tr>\n",
       "      <th>comédie</th>\n",
       "      <td>0</td>\n",
       "      <td>53</td>\n",
       "      <td>0</td>\n",
       "      <td>19</td>\n",
       "      <td>2</td>\n",
       "      <td>2</td>\n",
       "      <td>5</td>\n",
       "      <td>18</td>\n",
       "      <td>1</td>\n",
       "    </tr>\n",
       "    <tr>\n",
       "      <th>documentaire</th>\n",
       "      <td>1</td>\n",
       "      <td>9</td>\n",
       "      <td>7</td>\n",
       "      <td>9</td>\n",
       "      <td>1</td>\n",
       "      <td>1</td>\n",
       "      <td>1</td>\n",
       "      <td>5</td>\n",
       "      <td>6</td>\n",
       "    </tr>\n",
       "    <tr>\n",
       "      <th>drame</th>\n",
       "      <td>1</td>\n",
       "      <td>17</td>\n",
       "      <td>1</td>\n",
       "      <td>53</td>\n",
       "      <td>2</td>\n",
       "      <td>6</td>\n",
       "      <td>6</td>\n",
       "      <td>24</td>\n",
       "      <td>2</td>\n",
       "    </tr>\n",
       "    <tr>\n",
       "      <th>historique</th>\n",
       "      <td>2</td>\n",
       "      <td>2</td>\n",
       "      <td>0</td>\n",
       "      <td>7</td>\n",
       "      <td>5</td>\n",
       "      <td>1</td>\n",
       "      <td>1</td>\n",
       "      <td>5</td>\n",
       "      <td>4</td>\n",
       "    </tr>\n",
       "    <tr>\n",
       "      <th>horreur</th>\n",
       "      <td>0</td>\n",
       "      <td>8</td>\n",
       "      <td>0</td>\n",
       "      <td>10</td>\n",
       "      <td>1</td>\n",
       "      <td>21</td>\n",
       "      <td>6</td>\n",
       "      <td>7</td>\n",
       "      <td>6</td>\n",
       "    </tr>\n",
       "    <tr>\n",
       "      <th>policier</th>\n",
       "      <td>0</td>\n",
       "      <td>9</td>\n",
       "      <td>0</td>\n",
       "      <td>7</td>\n",
       "      <td>0</td>\n",
       "      <td>5</td>\n",
       "      <td>32</td>\n",
       "      <td>2</td>\n",
       "      <td>2</td>\n",
       "    </tr>\n",
       "    <tr>\n",
       "      <th>romance</th>\n",
       "      <td>0</td>\n",
       "      <td>16</td>\n",
       "      <td>0</td>\n",
       "      <td>18</td>\n",
       "      <td>0</td>\n",
       "      <td>1</td>\n",
       "      <td>3</td>\n",
       "      <td>40</td>\n",
       "      <td>0</td>\n",
       "    </tr>\n",
       "    <tr>\n",
       "      <th>science fiction</th>\n",
       "      <td>0</td>\n",
       "      <td>6</td>\n",
       "      <td>0</td>\n",
       "      <td>8</td>\n",
       "      <td>0</td>\n",
       "      <td>5</td>\n",
       "      <td>3</td>\n",
       "      <td>8</td>\n",
       "      <td>29</td>\n",
       "    </tr>\n",
       "  </tbody>\n",
       "</table>\n",
       "</div>"
      ],
      "text/plain": [
       "                 biopic  comédie  documentaire  drame  historique  horreur  \\\n",
       "biopic                7        5             1      8           3        3   \n",
       "comédie               0       53             0     19           2        2   \n",
       "documentaire          1        9             7      9           1        1   \n",
       "drame                 1       17             1     53           2        6   \n",
       "historique            2        2             0      7           5        1   \n",
       "horreur               0        8             0     10           1       21   \n",
       "policier              0        9             0      7           0        5   \n",
       "romance               0       16             0     18           0        1   \n",
       "science fiction       0        6             0      8           0        5   \n",
       "\n",
       "                 policier  romance  science fiction  \n",
       "biopic                  4        8                4  \n",
       "comédie                 5       18                1  \n",
       "documentaire            1        5                6  \n",
       "drame                   6       24                2  \n",
       "historique              1        5                4  \n",
       "horreur                 6        7                6  \n",
       "policier               32        2                2  \n",
       "romance                 3       40                0  \n",
       "science fiction         3        8               29  "
      ]
     },
     "execution_count": 31,
     "metadata": {},
     "output_type": "execute_result"
    }
   ],
   "source": [
    "from sklearn.metrics import confusion_matrix\n",
    "\n",
    "# Liste des labels (classes) se trouvant dans les données de test\n",
    "labels = np.unique(y_test)\n",
    "# Matrice de confusion\n",
    "cm = confusion_matrix(y_test, y_pred, labels=labels)\n",
    "# Matrice de confusion sous forme de DataFrame\n",
    "confusion_df = pd.DataFrame(cm, index=labels, columns=labels)\n",
    "print('confusion matrix\\n')\n",
    "print('(row=expected, col=predicted)')\n",
    "confusion_df.head(n=15)"
   ]
  },
  {
   "cell_type": "code",
   "execution_count": 32,
   "metadata": {},
   "outputs": [
    {
     "data": {
      "image/png": "[encoded data removed]",
      "text/plain": [
       "<Figure size 432x288 with 2 Axes>"
      ]
     },
     "metadata": {
      "needs_background": "light"
     },
     "output_type": "display_data"
    }
   ],
   "source": [
    "fig = plt.figure() \n",
    "ax = fig.add_subplot(111) \n",
    "cax = ax.matshow(cm, interpolation='nearest', cmap=plt.cm.Oranges) \n",
    "fig.colorbar(cax) \n",
    "tick_marks = np.arange(len(labels))\n",
    "labels_for_fig = [l[0:5]+'.' for l in labels]\n",
    "plt.xticks(tick_marks, labels_for_fig, rotation=45)\n",
    "plt.yticks(tick_marks, labels_for_fig) \n",
    "plt.xlabel('Predicted') \n",
    "plt.ylabel('Expected') \n",
    "plt.show()"
   ]
  }
 ],
 "metadata": {
  "kernelspec": {
   "display_name": "base",
   "language": "python",
   "name": "python3"
  },
  "language_info": {
   "codemirror_mode": {
    "name": "ipython",
    "version": 3
   },
   "file_extension": ".py",
   "mimetype": "text/x-python",
   "name": "python",
   "nbconvert_exporter": "python",
   "pygments_lexer": "ipython3",
   "version": "3.9.12"
  },
  "orig_nbformat": 4
 },
 "nbformat": 4,
 "nbformat_minor": 2
}
